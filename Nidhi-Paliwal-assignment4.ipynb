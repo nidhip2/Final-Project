{
 "cells": [
  {
   "cell_type": "markdown",
   "metadata": {},
   "source": [
    "### Group Members\n",
    "* Nidhi Paliwal\n",
    "* Rajkumar Gosai\n",
    "* Aakash Dogra"
   ]
  },
  {
   "cell_type": "markdown",
   "metadata": {},
   "source": [
    "### First lets import all the packages that we will require to perform the Visualization."
   ]
  },
  {
   "cell_type": "code",
   "execution_count": 1,
   "metadata": {},
   "outputs": [],
   "source": [
    "%matplotlib inline\n",
    "import matplotlib as mpl\n",
    "import matplotlib.colors as mpl_colors\n",
    "import matplotlib.pyplot as plt\n",
    "import numpy as np\n",
    "import pandas as pd\n",
    "import ipywidgets\n",
    "from ipywidgets import Layout"
   ]
  },
  {
   "cell_type": "markdown",
   "metadata": {},
   "source": [
    "#### Now will read the csv file and and give the column names to the data."
   ]
  },
  {
   "cell_type": "code",
   "execution_count": 2,
   "metadata": {},
   "outputs": [],
   "source": [
    "ufos = pd.read_csv(\"C:/Users/npali/Data_Viz/Week_4/ufo-scrubbed-geocoded-time-standardized-00.csv\",\n",
    "                  names=['date', 'city', 'state', 'country', \n",
    "                       'shape', 'duration_seconds', 'duration', \n",
    "                       'comment', 'report_date', 'latitude', 'longitude'],\n",
    "                  parse_dates=['date', 'report_date'])"
   ]
  },
  {
   "cell_type": "code",
   "execution_count": 3,
   "metadata": {
    "scrolled": true
   },
   "outputs": [
    {
     "data": {
      "text/plain": [
       "(80332, 11)"
      ]
     },
     "execution_count": 3,
     "metadata": {},
     "output_type": "execute_result"
    }
   ],
   "source": [
    "ufos.shape  # this is the shape of the file"
   ]
  },
  {
   "cell_type": "markdown",
   "metadata": {},
   "source": [
    "Now we will process all the NaN values "
   ]
  },
  {
   "cell_type": "code",
   "execution_count": 4,
   "metadata": {},
   "outputs": [],
   "source": [
    "# process the data to turn it into strings from NaN's that are numbers\n",
    "ufos = ufos.fillna({'country':'unknown', 'state':'unknown', 'shape':'unknown'})"
   ]
  },
  {
   "cell_type": "markdown",
   "metadata": {},
   "source": [
    "Now we will subset the dataset and process only a small chunk of the data for the operations to be performed. We will downsize the data randomly by setting seed."
   ]
  },
  {
   "cell_type": "code",
   "execution_count": 5,
   "metadata": {},
   "outputs": [
    {
     "data": {
      "text/plain": [
       "array([51411, 25771, 64176,  2623, 59591, 14858,  5579, 77777, 13534,\n",
       "        8344, 27261,  6293, 41677, 38171, 25199, 22675, 16869, 62577,\n",
       "       56122, 18425, 65770, 33008, 53398, 36084, 62675, 31486, 40384,\n",
       "       44459, 76116,  2114, 36699, 77980, 67899, 77969, 31563,  1457,\n",
       "       76826, 42899, 71740,  9735, 65271, 56013, 75988, 24294, 76611,\n",
       "       54949, 11482, 51424,  3085, 78133, 69990, 16405, 78805, 20101,\n",
       "       16050, 51627, 24167, 46038, 31820, 44224, 44015, 40366, 37168,\n",
       "       65482, 67862, 51271, 60130, 13888, 32942, 17599, 17095, 49184,\n",
       "       78508,  5567, 68305, 60193, 68408, 77484, 10351, 78266, 44201,\n",
       "       23737, 38443, 14564, 73706, 38641, 48962, 24808, 58553, 39135,\n",
       "         323, 33868, 12662, 24620, 69389, 67958, 54397, 19858,  7225,\n",
       "       15766, 20658, 16002, 76268, 16084, 16137, 37183, 43450, 29335,\n",
       "       64488, 17535, 23400, 76171, 55027, 21681, 53781, 45304, 47462,\n",
       "       20536, 61111, 34009, 11668, 60425, 38055, 41374, 77803, 77516,\n",
       "        6095, 39076, 54906, 69255,  8768, 11617, 65980, 61552, 28662,\n",
       "       60047, 40411, 74320, 12580, 36815, 30749,  6837, 53354, 79585,\n",
       "       75583, 68625, 77037, 77676, 48992, 47652, 46877, 50068, 25959,\n",
       "       73347, 43733,   379, 38429, 32096, 23518, 40646, 68658, 14554,\n",
       "        8525, 36670, 38732, 47430, 64195, 44684,  4026, 65925, 28339,\n",
       "        6175, 38198, 76035, 43564, 30376,   957, 14117,  9258, 47385,\n",
       "       65178,  7858, 18875, 48507, 18024, 41923, 71645, 24113, 27600,\n",
       "       64478, 73692,  4664, 64007, 44728, 64393, 58593, 34504, 60413,\n",
       "       63558, 12950, 26005, 13179,  2271, 23112,  2376, 77352, 49313,\n",
       "       46152, 68293, 16342, 63681,   662, 43522,  8579, 65891, 55912,\n",
       "       42843, 13645, 54776, 28347, 69140, 77054, 59221, 67726, 48026,\n",
       "       44410,  5013,  9573, 66028, 79673, 53957, 68741, 35872, 50923,\n",
       "       63322, 55807, 74433, 78532, 45403, 41507, 10055, 61300, 30195,\n",
       "       13206, 25285, 69343, 47960, 47895, 17050, 11375, 76581,  4670,\n",
       "       24424, 44079, 47170, 22543, 75652, 19921,  8817, 53679, 29567,\n",
       "        4413, 34820, 23428, 72838, 27436, 10700, 24008,   106, 13080,\n",
       "       66561, 76933, 47480, 55817, 73864, 75195, 75041, 41363, 68588,\n",
       "       70892, 52653, 72395, 76479, 43742, 16357, 76831, 68278,  5449,\n",
       "       60619, 61811, 42761,  9051,  2502, 54135, 77986, 41737, 80010,\n",
       "       21904, 59239, 50418, 21354, 54402, 12373, 45120, 21044, 35311,\n",
       "       19997, 73433, 33605, 64335,   156, 40829, 36177,   833, 41309,\n",
       "       78995, 45529, 44672,  7110, 16170, 37617, 75559, 10852, 17730,\n",
       "       66709, 49083, 44947, 23616, 72086,  1842, 36442, 13073, 20237,\n",
       "       58336, 64053, 22827, 73955, 52583, 50972, 73095, 42228,  4635,\n",
       "       59599, 47815, 37379, 31569,  6991, 46518, 52250, 24393, 25803,\n",
       "       29029, 26027, 13458, 64237, 15812, 48501, 22693,  6717, 45701,\n",
       "       64934, 37091, 58610, 55011, 34453, 51797, 35752, 60456,  9887,\n",
       "       11713, 66238, 40093, 16933, 57827, 64043, 78481, 49215, 70059,\n",
       "         313, 21641, 14042, 72607, 68038, 73279, 62940, 45662, 75143,\n",
       "       59839, 19370, 22682, 80238, 75364, 45067, 78866, 44968, 60548,\n",
       "        8932, 58538, 23846,  7029, 59633, 64823, 46291,    39, 31982,\n",
       "       36604, 64537, 41665, 28027,  1285, 57471, 57689, 50813, 64456,\n",
       "       73149, 78148, 28376, 80071, 38797, 55049, 63835, 20238, 73091,\n",
       "       54424, 39810, 76123, 55936,  5086, 22266, 28607, 33421, 22640,\n",
       "       19376, 59686, 55752, 43867, 37657, 53306, 54036, 52109, 54069,\n",
       "       49804, 59581, 34333, 40184, 38326, 53429, 75546, 36319, 68761,\n",
       "       28510, 34330, 21920, 29691, 22508, 61664, 41072, 69864, 48675,\n",
       "       59212,  9798, 34257,  9354, 33616, 61549,  8864, 26079, 10579,\n",
       "       51687, 66583, 15397,   278,  2913, 38679,  1447, 57383, 68233,\n",
       "       42062, 54877, 37990, 22376, 13980, 61746, 39226, 63826, 59318,\n",
       "       55543, 24606, 79225,  3594, 31156, 25495, 42552, 10221, 18520,\n",
       "       57441, 51873, 50422, 14516, 73012, 56183, 76800, 25876, 20260,\n",
       "       62749, 47887, 27433, 43499, 67571, 50003, 59582, 72665, 53927,\n",
       "       61595, 43911, 31204,  8786, 40722, 41351, 75149, 70688, 29053,\n",
       "       22926, 75663, 41492, 32943, 64570, 21929, 37255, 12847, 43514,\n",
       "       48363, 37583, 59437, 16141, 77090, 40202, 74912, 73209, 52617,\n",
       "       65217, 32461, 44455, 16808, 26919, 22599, 63084, 18775, 52909,\n",
       "       19656, 16408, 34646, 45554, 79094, 37155, 44316, 76685, 41501,\n",
       "       39848, 75953, 71501, 72259, 59462, 26698, 39059, 32126, 49916,\n",
       "        2339, 64358, 75740, 13897, 70958, 47293, 54692, 66601, 29423,\n",
       "       60833, 62174, 28033, 69574, 12267, 32557, 26841, 39802, 71745,\n",
       "       78433, 16369, 63464, 74255, 15897, 41966, 30839, 50753, 59280,\n",
       "         979, 30801, 39953, 70292, 51488, 56961, 36448, 33509, 23380,\n",
       "       14441, 35630, 30789, 71287, 53505, 58427, 19064, 50170, 29199,\n",
       "        1638, 36908, 16910, 51429, 25142, 46439, 51346, 50471, 43279,\n",
       "       11417, 40759,  5706, 78087, 71072, 19185, 18139, 49133, 70052,\n",
       "       59573, 70068,  3036, 61355, 40045, 72164, 67140, 65104, 69850,\n",
       "       61398, 75275, 10077, 45627, 16299, 64272,  1291, 70788, 33695,\n",
       "       23278, 32247, 62610, 23498, 75134, 16078,  6804, 60959,  6851,\n",
       "        7823, 13017, 74662, 33483, 12576, 54661, 78208, 72881, 64038,\n",
       "       42702, 55315, 59411,  6253, 15465, 45118,  6691, 25263, 32710,\n",
       "       14154, 42955, 59885, 77329, 71709, 66049,   347, 71647, 77444,\n",
       "       74522,  9254, 66429,  6391, 11987, 30787, 71654, 45223, 29242,\n",
       "       48995, 13600, 33358, 48618, 52318, 54968, 63383, 70930, 74539,\n",
       "       53207, 18448, 59590, 63233, 23120, 29718, 79291, 47082, 39012,\n",
       "       29226, 14784, 63009,  6990,  5324, 25200, 45817, 24457, 46568,\n",
       "       40999, 11192, 78635, 54388, 20913, 41278, 58766, 27162, 63895,\n",
       "       16413, 46161, 64918, 41948, 26053, 73627, 45781,  3714, 13373,\n",
       "       56631,  6658, 62297, 31467, 72739,  1389, 75811, 49344, 28472,\n",
       "       46416, 45972, 74903, 63902, 69193, 46440, 40606, 34705, 71859,\n",
       "       27599, 77604,  3656, 59929, 73344, 11421, 57094, 65275, 37966,\n",
       "       44634, 46191, 68745, 37933, 51664, 70636, 78001, 12136,  4468,\n",
       "       70365, 64856,  3001, 43345,  8926, 59704, 74479, 48931, 17998,\n",
       "       76729, 34147, 20873, 20546, 74427, 74811, 23827, 24528, 50472,\n",
       "       39370,  4422, 72211, 13212, 44849, 40865,  8405,  1155, 75828,\n",
       "       29800, 66051, 40924,  2086, 59393,  5633,  9683, 23764, 61487,\n",
       "       77812,  4366, 65027,  9100, 21907, 72695, 53211, 44108, 17715,\n",
       "       63458, 31666,  6370, 59134, 39690, 35628, 46516, 66831, 79669,\n",
       "       48389, 12724,   543, 69773, 50661, 59747, 24345, 33854,  5716,\n",
       "       53914, 54270, 79960, 78195, 29302,  5395, 34430, 37809, 39604,\n",
       "       40991, 79007, 23001, 64706,  7641, 65501, 27670, 72466, 19707,\n",
       "       27622, 27893, 58898, 67252, 58116,  8063, 16307, 54351,  8092,\n",
       "       23299, 41105, 62505, 30969, 20668,  4940, 51307, 19285, 13447,\n",
       "       50758, 21598, 72151, 30525, 49096, 71771, 80000,  7725, 48409,\n",
       "        8667, 43559, 40479, 60251, 75631, 33579, 20636, 55738, 66982,\n",
       "       60321, 36284,   454, 19837, 15325,  8626, 64466, 19863, 49742,\n",
       "       65754, 47173, 65853,  5398, 17486, 33395, 80236, 73738,   730,\n",
       "        5953, 66874, 25867, 21909, 62817, 50079, 24960, 11014, 61048,\n",
       "       27996, 70577, 31057, 16540, 35121, 37098, 62428, 38800, 12065,\n",
       "         419, 29973, 13551, 70781, 24577, 22853, 54088, 45831, 69989,\n",
       "       19155, 44204, 40545, 72829, 41141, 24693, 57348,  1811, 41953,\n",
       "       75722, 76192, 32798,  8875, 33614,  2231,  8270, 55470, 15425,\n",
       "       23941, 69944, 67388, 70525, 61846, 60702,  5928, 73096, 27596,\n",
       "        4871, 45681, 65359, 67919, 55247, 49025, 57489, 34807, 79278,\n",
       "       42442, 55632, 43768,  1529, 26487, 68838, 65237, 46459, 63635,\n",
       "       67162, 31441, 64179, 45782, 14369, 52146, 62127, 66254, 14187,\n",
       "       27252, 33263, 41759, 61310, 32565, 16581, 22189,  9900, 15124,\n",
       "       47651])"
      ]
     },
     "execution_count": 5,
     "metadata": {},
     "output_type": "execute_result"
    }
   ],
   "source": [
    "np.random.seed(seed=42)\n",
    "nsamples = 1000\n",
    "downSampleMask = np.random.choice(range(len(ufos)-1), nsamples, replace=False)\n",
    "downSampleMask"
   ]
  },
  {
   "cell_type": "code",
   "execution_count": 6,
   "metadata": {},
   "outputs": [
    {
     "data": {
      "text/html": [
       "<div>\n",
       "<style scoped>\n",
       "    .dataframe tbody tr th:only-of-type {\n",
       "        vertical-align: middle;\n",
       "    }\n",
       "\n",
       "    .dataframe tbody tr th {\n",
       "        vertical-align: top;\n",
       "    }\n",
       "\n",
       "    .dataframe thead th {\n",
       "        text-align: right;\n",
       "    }\n",
       "</style>\n",
       "<table border=\"1\" class=\"dataframe\">\n",
       "  <thead>\n",
       "    <tr style=\"text-align: right;\">\n",
       "      <th></th>\n",
       "      <th>date</th>\n",
       "      <th>city</th>\n",
       "      <th>state</th>\n",
       "      <th>country</th>\n",
       "      <th>shape</th>\n",
       "      <th>duration_seconds</th>\n",
       "      <th>duration</th>\n",
       "      <th>comment</th>\n",
       "      <th>report_date</th>\n",
       "      <th>latitude</th>\n",
       "      <th>longitude</th>\n",
       "    </tr>\n",
       "  </thead>\n",
       "  <tbody>\n",
       "    <tr>\n",
       "      <th>51411</th>\n",
       "      <td>1995-06-24 22:30:00</td>\n",
       "      <td>farmingdale</td>\n",
       "      <td>ny</td>\n",
       "      <td>us</td>\n",
       "      <td>unknown</td>\n",
       "      <td>600.0</td>\n",
       "      <td>10 min.</td>\n",
       "      <td>Young man &amp;amp; wife see blue flash&amp;#44 then s...</td>\n",
       "      <td>1999-11-02</td>\n",
       "      <td>40.732500</td>\n",
       "      <td>-73.445833</td>\n",
       "    </tr>\n",
       "    <tr>\n",
       "      <th>25771</th>\n",
       "      <td>2011-02-11 13:25:00</td>\n",
       "      <td>round rock</td>\n",
       "      <td>tx</td>\n",
       "      <td>us</td>\n",
       "      <td>sphere</td>\n",
       "      <td>300.0</td>\n",
       "      <td>5 minutes</td>\n",
       "      <td>White Circular UFO</td>\n",
       "      <td>2011-02-18</td>\n",
       "      <td>30.508056</td>\n",
       "      <td>-97.678611</td>\n",
       "    </tr>\n",
       "    <tr>\n",
       "      <th>64176</th>\n",
       "      <td>1996-08-10 22:00:00</td>\n",
       "      <td>george (the gorge amphatheatre)</td>\n",
       "      <td>wa</td>\n",
       "      <td>us</td>\n",
       "      <td>formation</td>\n",
       "      <td>60.0</td>\n",
       "      <td>1 minute</td>\n",
       "      <td>Three soft dim lights passing over head at a f...</td>\n",
       "      <td>1998-03-07</td>\n",
       "      <td>47.079167</td>\n",
       "      <td>-119.854722</td>\n",
       "    </tr>\n",
       "    <tr>\n",
       "      <th>2623</th>\n",
       "      <td>2010-10-17 02:00:00</td>\n",
       "      <td>norristown</td>\n",
       "      <td>pa</td>\n",
       "      <td>us</td>\n",
       "      <td>disk</td>\n",
       "      <td>3600.0</td>\n",
       "      <td>1 hour</td>\n",
       "      <td>Pulsating ufo slowly descended and stayed hove...</td>\n",
       "      <td>2010-11-21</td>\n",
       "      <td>40.121389</td>\n",
       "      <td>-75.340278</td>\n",
       "    </tr>\n",
       "    <tr>\n",
       "      <th>59591</th>\n",
       "      <td>1998-07-25 21:00:00</td>\n",
       "      <td>vancouver</td>\n",
       "      <td>wa</td>\n",
       "      <td>us</td>\n",
       "      <td>triangle</td>\n",
       "      <td>900.0</td>\n",
       "      <td>15 min</td>\n",
       "      <td>close encounter at the clark county fair</td>\n",
       "      <td>2001-08-05</td>\n",
       "      <td>45.638889</td>\n",
       "      <td>-122.660278</td>\n",
       "    </tr>\n",
       "  </tbody>\n",
       "</table>\n",
       "</div>"
      ],
      "text/plain": [
       "                     date                             city state country  \\\n",
       "51411 1995-06-24 22:30:00                      farmingdale    ny      us   \n",
       "25771 2011-02-11 13:25:00                       round rock    tx      us   \n",
       "64176 1996-08-10 22:00:00  george (the gorge amphatheatre)    wa      us   \n",
       "2623  2010-10-17 02:00:00                       norristown    pa      us   \n",
       "59591 1998-07-25 21:00:00                        vancouver    wa      us   \n",
       "\n",
       "           shape  duration_seconds   duration  \\\n",
       "51411    unknown             600.0    10 min.   \n",
       "25771     sphere             300.0  5 minutes   \n",
       "64176  formation              60.0   1 minute   \n",
       "2623        disk            3600.0     1 hour   \n",
       "59591   triangle             900.0     15 min   \n",
       "\n",
       "                                                 comment report_date  \\\n",
       "51411  Young man &amp; wife see blue flash&#44 then s...  1999-11-02   \n",
       "25771                                 White Circular UFO  2011-02-18   \n",
       "64176  Three soft dim lights passing over head at a f...  1998-03-07   \n",
       "2623   Pulsating ufo slowly descended and stayed hove...  2010-11-21   \n",
       "59591           close encounter at the clark county fair  2001-08-05   \n",
       "\n",
       "        latitude   longitude  \n",
       "51411  40.732500  -73.445833  \n",
       "25771  30.508056  -97.678611  \n",
       "64176  47.079167 -119.854722  \n",
       "2623   40.121389  -75.340278  \n",
       "59591  45.638889 -122.660278  "
      ]
     },
     "execution_count": 6,
     "metadata": {},
     "output_type": "execute_result"
    }
   ],
   "source": [
    "ufos_sample = ufos.loc[downSampleMask]\n",
    "ufos_sample.head()  # downsized data"
   ]
  },
  {
   "cell_type": "markdown",
   "metadata": {},
   "source": [
    "## Question 1."
   ]
  },
  {
   "cell_type": "markdown",
   "metadata": {},
   "source": [
    "#### Now we will define functions to display the data in the Widgets created."
   ]
  },
  {
   "cell_type": "code",
   "execution_count": 7,
   "metadata": {},
   "outputs": [],
   "source": [
    "def x_variable(x): # for X_axis\n",
    "    return ([\"country\",\"state\",\"city\", \"latitude\",\"longitude\", 'date', \n",
    "                       'shape', 'duration_seconds', 'duration', 'latitude', 'longitude'])"
   ]
  },
  {
   "cell_type": "code",
   "execution_count": 8,
   "metadata": {},
   "outputs": [],
   "source": [
    "def y_variable(x): # for Y_axis\n",
    "    return ([\"duration_seconds\",\"longitude\",\"latitude\",\"shape\", 'date', 'city', 'state', 'country', 'duration'])"
   ]
  },
  {
   "cell_type": "code",
   "execution_count": 9,
   "metadata": {},
   "outputs": [],
   "source": [
    "def color(x): # for Color Map\n",
    "    return([\"duration_seconds\",\"longitude\",\"latitude\",\"shape\", 'date', 'city', 'state', 'country', 'duration'])"
   ]
  },
  {
   "cell_type": "code",
   "execution_count": 10,
   "metadata": {},
   "outputs": [
    {
     "data": {
      "text/plain": [
       "7.0222798690531105"
      ]
     },
     "execution_count": 10,
     "metadata": {},
     "output_type": "execute_result"
    }
   ],
   "source": [
    "np.log10(ufos_sample['duration_seconds'].max()) # checking the log values to cross check the graph"
   ]
  },
  {
   "cell_type": "code",
   "execution_count": 11,
   "metadata": {
    "scrolled": true
   },
   "outputs": [
    {
     "data": {
      "text/plain": [
       "1.0"
      ]
     },
     "execution_count": 11,
     "metadata": {},
     "output_type": "execute_result"
    }
   ],
   "source": [
    "ufos_sample['duration_seconds'].min() # checking the log values to cross check the graph"
   ]
  },
  {
   "cell_type": "markdown",
   "metadata": {},
   "source": [
    "#### Now we will perform the operation on the sample dataset which was downsized"
   ]
  },
  {
   "cell_type": "markdown",
   "metadata": {},
   "source": [
    "#### Justifications\n",
    "Here we have defined four widgets for X_axis, Y_axis, colour_map, color_scale_paramaeter which gives the user the flexibility to choose the desired variables. We have removed the comments, report_date, and duration columns as it does not makes any sense to plot them on scatter plot. We have defined a condition which does not allow the user to plot two categorical variables at once. So at any given point of time for the x-axis and y-axis, you can only plot categorical or numerical variables or both numerical variables. Again for example here we can plot latitude against longitude or country vs Duration_seconds or country vs Latitude/ Longitude. All these graphs can prove to be useful to analyze the dataset in the future."
   ]
  },
  {
   "cell_type": "code",
   "execution_count": 12,
   "metadata": {},
   "outputs": [
    {
     "data": {
      "application/vnd.jupyter.widget-view+json": {
       "model_id": "8911380c53b943558b69057eb9ac4d4b",
       "version_major": 2,
       "version_minor": 0
      },
      "text/plain": [
       "interactive(children=(Dropdown(description='x_axis', options=('country', 'state', 'city', 'latitude', 'longitu…"
      ]
     },
     "metadata": {},
     "output_type": "display_data"
    },
    {
     "data": {
      "text/plain": [
       "<function __main__.make_scatter_plot(x_axis, y_axis, color_map, color_scale_paramaeter)>"
      ]
     },
     "execution_count": 12,
     "metadata": {},
     "output_type": "execute_result"
    }
   ],
   "source": [
    "x_axis=ipywidgets.Dropdown(options=(list(x_variable(ufos_sample))))\n",
    "\n",
    "y_axis=ipywidgets.Dropdown(options=(list(y_variable(ufos_sample))))\n",
    "\n",
    "color_map = ipywidgets.Dropdown(options=plt.colormaps())\n",
    "\n",
    "#style = ipywidgets.Dropdown(options=plt.style.available)\n",
    "color_scale_paramaeter =ipywidgets.Dropdown(options=(list(color(ufos_sample))))\n",
    "\n",
    "def make_scatter_plot(x_axis,y_axis,color_map,color_scale_paramaeter):\n",
    "\n",
    "    \"\"\"\n",
    "    This fucntion will plot the scatter plot for the variables that will be selected from the widgets made. The parameter values are \n",
    "    passed in the function to get the desired output.\n",
    "    \"\"\"\n",
    "    # now we will take the log values for duration seconds as it has very large values\n",
    "    if color_scale_paramaeter == 'duration_seconds':\n",
    "        cv = np.log10(ufos_sample[color_scale_paramaeter])\n",
    "    else:\n",
    "        cv = ufos_sample[color_scale_paramaeter]\n",
    "    # This will make sure that only specific combinationsof x-axis and y-axis will be plotted on the graph.\n",
    "    if (ufos_sample[x_axis].dtype == np.float and ufos_sample[y_axis].dtype == np.float) | (ufos_sample[x_axis].dtype == np.object and ufos_sample[y_axis].dtype == np.float) | (ufos_sample[x_axis].dtype == np.float and ufos_sample[y_axis].dtype == np.object):\n",
    "        fig, ax = plt.subplots(figsize=(18,10))\n",
    "        plt.scatter(ufos_sample[x_axis], ufos_sample[y_axis], c=cv, cmap=color_map)\n",
    "        color_label = color_scale_paramaeter  \n",
    "        plt.title(\"UFO Data Analysis\")\n",
    "        plt.xlabel(x_axis)\n",
    "        plt.ylabel(y_axis)\n",
    "        cbar = plt.colorbar(extend=\"both\")\n",
    "        cbar.set_label(color_label)\n",
    "        plt.show()\n",
    "    else:\n",
    "        print (\"Please select One Categorical and One Numerical variable or Both Numerical variables.\")\n",
    "\n",
    "        \n",
    "# this will link the widgets to the function defined.\n",
    "ipywidgets.interact(make_scatter_plot, x_axis=x_axis, y_axis=y_axis, color_map=color_map, color_scale_paramaeter=color_scale_paramaeter)       \n"
   ]
  },
  {
   "cell_type": "code",
   "execution_count": 13,
   "metadata": {},
   "outputs": [],
   "source": [
    "# plt.close('all')  # to close all the graphs"
   ]
  },
  {
   "cell_type": "code",
   "execution_count": 14,
   "metadata": {
    "scrolled": true
   },
   "outputs": [
    {
     "data": {
      "text/plain": [
       "7.990498688371655"
      ]
     },
     "execution_count": 14,
     "metadata": {},
     "output_type": "execute_result"
    }
   ],
   "source": [
    "np.log10(ufos['duration_seconds'].max())"
   ]
  },
  {
   "cell_type": "code",
   "execution_count": 15,
   "metadata": {
    "scrolled": true
   },
   "outputs": [
    {
     "data": {
      "text/plain": [
       "-3.0"
      ]
     },
     "execution_count": 15,
     "metadata": {},
     "output_type": "execute_result"
    }
   ],
   "source": [
    "np.log10(ufos['duration_seconds'].min())"
   ]
  },
  {
   "cell_type": "markdown",
   "metadata": {},
   "source": [
    "#### Now we will perform the function on the actual dataset."
   ]
  },
  {
   "cell_type": "markdown",
   "metadata": {},
   "source": [
    "#### Justification\n",
    "Here we have defined four widgets for X_axis, Y_axis, colour_map, color_scale_paramaeter which gives the user the flexibility to choose the desired variables. We have removed the comments, report_date, and duration columns as it does not makes any sense to plot them on scatter plot. We have defined a condition which does not allow the user to plot two categorical variables at once. So at any given point of time for the x-axis and y-axis, you can only plot categorical or numerical variables or both numerical variables. Again for example here we can plot latitude against longitude or country vs Duration_seconds or country vs Latitude/ Longitude. All these graphs can prove to be useful to analyze the dataset in the future.\n"
   ]
  },
  {
   "cell_type": "code",
   "execution_count": 16,
   "metadata": {},
   "outputs": [
    {
     "data": {
      "application/vnd.jupyter.widget-view+json": {
       "model_id": "bf8707354aea486ca5071736b42e12e5",
       "version_major": 2,
       "version_minor": 0
      },
      "text/plain": [
       "interactive(children=(Dropdown(description='x_axis', options=('country', 'state', 'city', 'latitude', 'longitu…"
      ]
     },
     "metadata": {},
     "output_type": "display_data"
    },
    {
     "data": {
      "text/plain": [
       "<function __main__.make_scatter_plot(x_axis, y_axis, color_map, color_scale_paramaeter)>"
      ]
     },
     "execution_count": 16,
     "metadata": {},
     "output_type": "execute_result"
    }
   ],
   "source": [
    "x_axis=ipywidgets.Dropdown(options=(list(x_variable(ufos))))\n",
    "\n",
    "y_axis=ipywidgets.Dropdown(options=(list(y_variable(ufos))))\n",
    "\n",
    "color_map = ipywidgets.Dropdown(options=plt.colormaps())\n",
    "\n",
    "#style = ipywidgets.Dropdown(options=plt.style.available)\n",
    "\n",
    "color_scale_paramaeter =ipywidgets.Dropdown(options=(list(color(ufos))))\n",
    "\n",
    "def make_scatter_plot(x_axis,y_axis,color_map,color_scale_paramaeter):\n",
    "\n",
    "    \"\"\"\n",
    "    This fucntion will plot the scatter plot for the variables that will be selected from the widgets made. The parameter values are \n",
    "    passed in the function to get the desired output.\n",
    "    \"\"\"\n",
    "    # now we will take the log values for duration seconds as it has very large values\n",
    "    if color_scale_paramaeter == 'duration_seconds':\n",
    "        cv = np.log10(ufos[color_scale_paramaeter])\n",
    "    else:\n",
    "        cv = ufos[color_scale_paramaeter]\n",
    "    # This will make sure that only specific combinationsof x-axis and y-axis will be plotted on the graph.\n",
    "    if (ufos[x_axis].dtype == np.float and ufos[y_axis].dtype == np.float) | (ufos[x_axis].dtype == np.object and ufos[y_axis].dtype == np.float) | (ufos[x_axis].dtype == np.float and ufos[y_axis].dtype == np.object):\n",
    "        fig, ax = plt.subplots(figsize=(18,10))\n",
    "        plt.scatter(ufos[x_axis], ufos[y_axis], c=cv, cmap=color_map)\n",
    "        color_label = color_scale_paramaeter  \n",
    "        plt.title(\"UFO Data Analysis\")\n",
    "        plt.xlabel(x_axis)\n",
    "        plt.ylabel(y_axis)\n",
    "        cbar = plt.colorbar(extend=\"both\")\n",
    "        cbar.set_label(color_label)\n",
    "        plt.show()\n",
    "    else:\n",
    "        print (\"Please select One Categorical and One Numerical variable or Both Numerical variables.\")\n",
    "\n",
    "        \n",
    "        \n",
    "# this will link the widgets to the function defined.\n",
    "ipywidgets.interact(make_scatter_plot, x_axis=x_axis, y_axis=y_axis, color_map=color_map, color_scale_paramaeter=color_scale_paramaeter)      \n"
   ]
  },
  {
   "cell_type": "markdown",
   "metadata": {},
   "source": [
    "## Question 2."
   ]
  },
  {
   "cell_type": "markdown",
   "metadata": {},
   "source": [
    "Now for this question we will be doing the binning on: shape, state, country, city, date, duration_seconds, Year, Month.\n",
    "We have perfoemd the following operation to bin the data:"
   ]
  },
  {
   "cell_type": "markdown",
   "metadata": {},
   "source": [
    "Now we will split the date column into years and months so that we can bin the data depending on that variable. "
   ]
  },
  {
   "cell_type": "markdown",
   "metadata": {},
   "source": [
    "#### The main issue here is when we tried to run the binning with the actual dataset it was not giving any result as the processing time was too large. Hence we have used the downsized data set to show the implemented steps below."
   ]
  },
  {
   "cell_type": "code",
   "execution_count": 17,
   "metadata": {},
   "outputs": [],
   "source": [
    "# Here we are splitting to extract the year value from the date column. So we will take the first value seperated by '-'\n",
    "\n",
    "ufos_sample['Year'] = ufos_sample['date'].apply(str).copy()  # copy the column\n",
    "ufos_sample['Year'] = ufos_sample.apply(lambda x: str(x).split()[0] for x in ufos_sample['date'])\n",
    "ufos_sample['Year'] = ufos_sample.apply(lambda x: str(x).split('-')[0] for x in ufos_sample['Year']) # the 0th index for the year"
   ]
  },
  {
   "cell_type": "code",
   "execution_count": 18,
   "metadata": {},
   "outputs": [
    {
     "data": {
      "text/html": [
       "<div>\n",
       "<style scoped>\n",
       "    .dataframe tbody tr th:only-of-type {\n",
       "        vertical-align: middle;\n",
       "    }\n",
       "\n",
       "    .dataframe tbody tr th {\n",
       "        vertical-align: top;\n",
       "    }\n",
       "\n",
       "    .dataframe thead th {\n",
       "        text-align: right;\n",
       "    }\n",
       "</style>\n",
       "<table border=\"1\" class=\"dataframe\">\n",
       "  <thead>\n",
       "    <tr style=\"text-align: right;\">\n",
       "      <th></th>\n",
       "      <th>date</th>\n",
       "      <th>city</th>\n",
       "      <th>state</th>\n",
       "      <th>country</th>\n",
       "      <th>shape</th>\n",
       "      <th>duration_seconds</th>\n",
       "      <th>duration</th>\n",
       "      <th>comment</th>\n",
       "      <th>report_date</th>\n",
       "      <th>latitude</th>\n",
       "      <th>longitude</th>\n",
       "      <th>Year</th>\n",
       "      <th>Month_num</th>\n",
       "    </tr>\n",
       "  </thead>\n",
       "  <tbody>\n",
       "    <tr>\n",
       "      <th>51411</th>\n",
       "      <td>1995-06-24 22:30:00</td>\n",
       "      <td>farmingdale</td>\n",
       "      <td>ny</td>\n",
       "      <td>us</td>\n",
       "      <td>unknown</td>\n",
       "      <td>600.0</td>\n",
       "      <td>10 min.</td>\n",
       "      <td>Young man &amp;amp; wife see blue flash&amp;#44 then s...</td>\n",
       "      <td>1999-11-02</td>\n",
       "      <td>40.732500</td>\n",
       "      <td>-73.445833</td>\n",
       "      <td>1995</td>\n",
       "      <td>06</td>\n",
       "    </tr>\n",
       "    <tr>\n",
       "      <th>25771</th>\n",
       "      <td>2011-02-11 13:25:00</td>\n",
       "      <td>round rock</td>\n",
       "      <td>tx</td>\n",
       "      <td>us</td>\n",
       "      <td>sphere</td>\n",
       "      <td>300.0</td>\n",
       "      <td>5 minutes</td>\n",
       "      <td>White Circular UFO</td>\n",
       "      <td>2011-02-18</td>\n",
       "      <td>30.508056</td>\n",
       "      <td>-97.678611</td>\n",
       "      <td>2011</td>\n",
       "      <td>02</td>\n",
       "    </tr>\n",
       "    <tr>\n",
       "      <th>64176</th>\n",
       "      <td>1996-08-10 22:00:00</td>\n",
       "      <td>george (the gorge amphatheatre)</td>\n",
       "      <td>wa</td>\n",
       "      <td>us</td>\n",
       "      <td>formation</td>\n",
       "      <td>60.0</td>\n",
       "      <td>1 minute</td>\n",
       "      <td>Three soft dim lights passing over head at a f...</td>\n",
       "      <td>1998-03-07</td>\n",
       "      <td>47.079167</td>\n",
       "      <td>-119.854722</td>\n",
       "      <td>1996</td>\n",
       "      <td>08</td>\n",
       "    </tr>\n",
       "    <tr>\n",
       "      <th>2623</th>\n",
       "      <td>2010-10-17 02:00:00</td>\n",
       "      <td>norristown</td>\n",
       "      <td>pa</td>\n",
       "      <td>us</td>\n",
       "      <td>disk</td>\n",
       "      <td>3600.0</td>\n",
       "      <td>1 hour</td>\n",
       "      <td>Pulsating ufo slowly descended and stayed hove...</td>\n",
       "      <td>2010-11-21</td>\n",
       "      <td>40.121389</td>\n",
       "      <td>-75.340278</td>\n",
       "      <td>2010</td>\n",
       "      <td>10</td>\n",
       "    </tr>\n",
       "    <tr>\n",
       "      <th>59591</th>\n",
       "      <td>1998-07-25 21:00:00</td>\n",
       "      <td>vancouver</td>\n",
       "      <td>wa</td>\n",
       "      <td>us</td>\n",
       "      <td>triangle</td>\n",
       "      <td>900.0</td>\n",
       "      <td>15 min</td>\n",
       "      <td>close encounter at the clark county fair</td>\n",
       "      <td>2001-08-05</td>\n",
       "      <td>45.638889</td>\n",
       "      <td>-122.660278</td>\n",
       "      <td>1998</td>\n",
       "      <td>07</td>\n",
       "    </tr>\n",
       "  </tbody>\n",
       "</table>\n",
       "</div>"
      ],
      "text/plain": [
       "                     date                             city state country  \\\n",
       "51411 1995-06-24 22:30:00                      farmingdale    ny      us   \n",
       "25771 2011-02-11 13:25:00                       round rock    tx      us   \n",
       "64176 1996-08-10 22:00:00  george (the gorge amphatheatre)    wa      us   \n",
       "2623  2010-10-17 02:00:00                       norristown    pa      us   \n",
       "59591 1998-07-25 21:00:00                        vancouver    wa      us   \n",
       "\n",
       "           shape  duration_seconds   duration  \\\n",
       "51411    unknown             600.0    10 min.   \n",
       "25771     sphere             300.0  5 minutes   \n",
       "64176  formation              60.0   1 minute   \n",
       "2623        disk            3600.0     1 hour   \n",
       "59591   triangle             900.0     15 min   \n",
       "\n",
       "                                                 comment report_date  \\\n",
       "51411  Young man &amp; wife see blue flash&#44 then s...  1999-11-02   \n",
       "25771                                 White Circular UFO  2011-02-18   \n",
       "64176  Three soft dim lights passing over head at a f...  1998-03-07   \n",
       "2623   Pulsating ufo slowly descended and stayed hove...  2010-11-21   \n",
       "59591           close encounter at the clark county fair  2001-08-05   \n",
       "\n",
       "        latitude   longitude  Year Month_num  \n",
       "51411  40.732500  -73.445833  1995        06  \n",
       "25771  30.508056  -97.678611  2011        02  \n",
       "64176  47.079167 -119.854722  1996        08  \n",
       "2623   40.121389  -75.340278  2010        10  \n",
       "59591  45.638889 -122.660278  1998        07  "
      ]
     },
     "execution_count": 18,
     "metadata": {},
     "output_type": "execute_result"
    }
   ],
   "source": [
    "# Here we are splitting the column further to extract the values for months. So we will take the value seperated by '-' at the 1st index.\n",
    "\n",
    "ufos_sample['Month_num'] = ufos_sample['date'].apply(str).copy()\n",
    "ufos_sample['Month_num'] = ufos_sample.apply(lambda x: str(x).split()[0] for x in ufos_sample['date'])\n",
    "ufos_sample['Month_num'] = ufos_sample.apply(lambda x: str(x).split('-')[1] for x in ufos_sample['Month_num'])\n",
    "ufos_sample.head() # displaying the newly extracted columns"
   ]
  },
  {
   "cell_type": "code",
   "execution_count": 19,
   "metadata": {},
   "outputs": [],
   "source": [
    "# Now we will convert all the values in the Month_num column into Jan to Dec format to take the month number for binning\n",
    "\n",
    "num_to_month = {'01':'Jan', '02':'Feb', '03':'Mar', '04':'Apr', '05':'May', '06':'Jun', '07':'Jul', '08':'Aug', '09':'Sep', '10':'Oct', '11':'Nov', '12':'Dec'}"
   ]
  },
  {
   "cell_type": "code",
   "execution_count": 20,
   "metadata": {},
   "outputs": [],
   "source": [
    "ufos_sample['Month'] = ufos_sample['Month_num'].map(num_to_month)  # copying the values to the Month column\n",
    "ufos_sample.drop('Month_num',axis=1, inplace=True)"
   ]
  },
  {
   "cell_type": "code",
   "execution_count": 21,
   "metadata": {},
   "outputs": [],
   "source": [
    "# Here we have defined a function to take the categorical and numerical dcolumns in the widgets\n",
    "\n",
    "def categorical_var(x):\n",
    "    return x[['shape', 'state', 'country', 'city', 'duration_seconds', 'Year', 'Month']]"
   ]
  },
  {
   "cell_type": "markdown",
   "metadata": {},
   "source": [
    "Now we will define a function to plot the X-axis and the no_of_bins which will work only for the duration_seconds"
   ]
  },
  {
   "cell_type": "markdown",
   "metadata": {},
   "source": [
    "#### Justifications:\n",
    "Here for binning the variables, we have selected numerical and categorical variables. For the duration_seconds (numerical variable) the binning is done by log10 values. This gives us a dynamic binning for duration_seconds. Now we can have any categorical variable binned on the basis of groupBy. For example, we can check which city or state has occurred mostly in the dataset or which shape has occurred the most and the least in the dataset."
   ]
  },
  {
   "cell_type": "code",
   "execution_count": 22,
   "metadata": {},
   "outputs": [
    {
     "data": {
      "application/vnd.jupyter.widget-view+json": {
       "model_id": "c0ecb60a1d004b41a11f8cdc5efa6c7f",
       "version_major": 2,
       "version_minor": 0
      },
      "text/plain": [
       "interactive(children=(Dropdown(description='x_axis', options=('shape', 'state', 'country', 'city', 'duration_s…"
      ]
     },
     "metadata": {},
     "output_type": "display_data"
    }
   ],
   "source": [
    "@ipywidgets.interact\n",
    "# we have defined the widget values for X-axis and the Int Slider parameters in the function.\n",
    "def plot_histogram(x_axis=list(categorical_var(ufos_sample)), no_of_bins = ipywidgets.IntSlider(min=1, max=40, step=1, value=20)):\n",
    "    plt.figure(figsize=(18,10))  # size of the plot\n",
    "    if x_axis=='duration_seconds':\n",
    "        bin_by = np.log10(ufos_sample['duration_seconds'])  # binning conditions for duration_seconds\n",
    "        plt.hist(bin_by, bins=no_of_bins) # plot histogram\n",
    "\n",
    "    \n",
    "    else:\n",
    "        bin_by=x_axis\n",
    "        myseries = ufos_sample.groupby(bin_by)[bin_by].count()  # binning condition for rest of the variables\n",
    "        x = myseries.index    # Here the index i.e the groups formed are plotted on x-axis\n",
    "        y = myseries.values   # Here the vlaues for the group by condition i.e the count will be plotted on the y-axis\n",
    "        plt.xticks(rotation=90)\n",
    "        plt.ylabel('Frequency')\n",
    "        plt.bar(x, y)"
   ]
  },
  {
   "cell_type": "code",
   "execution_count": null,
   "metadata": {},
   "outputs": [],
   "source": []
  }
 ],
 "metadata": {
  "kernelspec": {
   "display_name": "Python 3",
   "language": "python",
   "name": "python3"
  },
  "language_info": {
   "codemirror_mode": {
    "name": "ipython",
    "version": 3
   },
   "file_extension": ".py",
   "mimetype": "text/x-python",
   "name": "python",
   "nbconvert_exporter": "python",
   "pygments_lexer": "ipython3",
   "version": "3.7.1"
  }
 },
 "nbformat": 4,
 "nbformat_minor": 2
}
