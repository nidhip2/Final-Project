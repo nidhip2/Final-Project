{
 "cells": [
  {
   "cell_type": "markdown",
   "metadata": {},
   "source": [
    "Let's import the packages needed to built the dashboard for this assignment"
   ]
  },
  {
   "cell_type": "code",
   "execution_count": 1,
   "metadata": {},
   "outputs": [],
   "source": [
    "import pandas as pd\n",
    "import bqplot\n",
    "import numpy as np\n",
    "import traitlets\n",
    "import ipywidgets\n",
    "import matplotlib.pyplot as plt\n",
    "%matplotlib inline"
   ]
  },
  {
   "cell_type": "code",
   "execution_count": 2,
   "metadata": {},
   "outputs": [],
   "source": [
    "buildings = pd.read_csv(\"C:/Users/npali/Data_Viz/building_inventory.csv\")"
   ]
  },
  {
   "cell_type": "code",
   "execution_count": 3,
   "metadata": {},
   "outputs": [
    {
     "data": {
      "text/plain": [
       "Agency Name                object\n",
       "Location Name              object\n",
       "Address                    object\n",
       "City                       object\n",
       "Zip code                    int64\n",
       "County                     object\n",
       "Congress Dist               int64\n",
       "Congressional Full Name    object\n",
       "Rep Dist                    int64\n",
       "Rep Full Name              object\n",
       "Senate Dist                 int64\n",
       "Senator Full Name          object\n",
       "Bldg Status                object\n",
       "Year Acquired               int64\n",
       "Year Constructed            int64\n",
       "Square Footage              int64\n",
       "Total Floors                int64\n",
       "Floors Above Grade          int64\n",
       "Floors Below Grade          int64\n",
       "Usage Description          object\n",
       "Usage Description 2        object\n",
       "Usage Description 3        object\n",
       "dtype: object"
      ]
     },
     "execution_count": 3,
     "metadata": {},
     "output_type": "execute_result"
    }
   ],
   "source": [
    "buildings.dtypes"
   ]
  },
  {
   "cell_type": "code",
   "execution_count": 4,
   "metadata": {
    "scrolled": false
   },
   "outputs": [
    {
     "data": {
      "text/plain": [
       "(8862, 22)"
      ]
     },
     "execution_count": 4,
     "metadata": {},
     "output_type": "execute_result"
    }
   ],
   "source": [
    "buildings.shape"
   ]
  },
  {
   "cell_type": "markdown",
   "metadata": {},
   "source": [
    "Now we will check the unique values and nullvalues for - Agency Name and Congress Dist"
   ]
  },
  {
   "cell_type": "code",
   "execution_count": 5,
   "metadata": {},
   "outputs": [
    {
     "data": {
      "text/plain": [
       "(35, 19)"
      ]
     },
     "execution_count": 5,
     "metadata": {},
     "output_type": "execute_result"
    }
   ],
   "source": [
    "buildings['Agency Name'].nunique(), buildings['Congress Dist'].nunique()"
   ]
  },
  {
   "cell_type": "code",
   "execution_count": 6,
   "metadata": {},
   "outputs": [
    {
     "data": {
      "text/plain": [
       "(0, 0)"
      ]
     },
     "execution_count": 6,
     "metadata": {},
     "output_type": "execute_result"
    }
   ],
   "source": [
    "buildings['Agency Name'].isnull().sum(), buildings['Congress Dist'].isnull().sum()"
   ]
  },
  {
   "cell_type": "markdown",
   "metadata": {},
   "source": [
    "Now we know that Agency Name is object type and histogram2d is indeed expecting numerical data. So we will convert the categorical data into numeric data by using cat.codes"
   ]
  },
  {
   "cell_type": "code",
   "execution_count": 7,
   "metadata": {},
   "outputs": [],
   "source": [
    "buildings['Agency Name'] = buildings['Agency Name'].astype('category').cat.codes"
   ]
  },
  {
   "cell_type": "markdown",
   "metadata": {},
   "source": [
    "Now let us cross check if the unique values remain the same"
   ]
  },
  {
   "cell_type": "code",
   "execution_count": 8,
   "metadata": {},
   "outputs": [
    {
     "data": {
      "text/plain": [
       "(35, 19)"
      ]
     },
     "execution_count": 8,
     "metadata": {},
     "output_type": "execute_result"
    }
   ],
   "source": [
    "buildings['Agency Name'].nunique(), buildings['Congress Dist'].nunique() "
   ]
  },
  {
   "cell_type": "code",
   "execution_count": 9,
   "metadata": {},
   "outputs": [],
   "source": [
    "buildings['Agency Name'] = buildings['Agency Name'].astype(str).astype(np.int64)"
   ]
  },
  {
   "cell_type": "code",
   "execution_count": 10,
   "metadata": {},
   "outputs": [
    {
     "data": {
      "text/plain": [
       "Agency Name                 int64\n",
       "Location Name              object\n",
       "Address                    object\n",
       "City                       object\n",
       "Zip code                    int64\n",
       "County                     object\n",
       "Congress Dist               int64\n",
       "Congressional Full Name    object\n",
       "Rep Dist                    int64\n",
       "Rep Full Name              object\n",
       "Senate Dist                 int64\n",
       "Senator Full Name          object\n",
       "Bldg Status                object\n",
       "Year Acquired               int64\n",
       "Year Constructed            int64\n",
       "Square Footage              int64\n",
       "Total Floors                int64\n",
       "Floors Above Grade          int64\n",
       "Floors Below Grade          int64\n",
       "Usage Description          object\n",
       "Usage Description 2        object\n",
       "Usage Description 3        object\n",
       "dtype: object"
      ]
     },
     "execution_count": 10,
     "metadata": {},
     "output_type": "execute_result"
    }
   ],
   "source": [
    "buildings.dtypes"
   ]
  },
  {
   "cell_type": "code",
   "execution_count": 11,
   "metadata": {
    "scrolled": true
   },
   "outputs": [
    {
     "data": {
      "text/html": [
       "<div>\n",
       "<style scoped>\n",
       "    .dataframe tbody tr th:only-of-type {\n",
       "        vertical-align: middle;\n",
       "    }\n",
       "\n",
       "    .dataframe tbody tr th {\n",
       "        vertical-align: top;\n",
       "    }\n",
       "\n",
       "    .dataframe thead th {\n",
       "        text-align: right;\n",
       "    }\n",
       "</style>\n",
       "<table border=\"1\" class=\"dataframe\">\n",
       "  <thead>\n",
       "    <tr style=\"text-align: right;\">\n",
       "      <th></th>\n",
       "      <th>Agency Name</th>\n",
       "      <th>Location Name</th>\n",
       "      <th>Address</th>\n",
       "      <th>City</th>\n",
       "      <th>Zip code</th>\n",
       "      <th>County</th>\n",
       "      <th>Congress Dist</th>\n",
       "      <th>Congressional Full Name</th>\n",
       "      <th>Rep Dist</th>\n",
       "      <th>Rep Full Name</th>\n",
       "      <th>...</th>\n",
       "      <th>Bldg Status</th>\n",
       "      <th>Year Acquired</th>\n",
       "      <th>Year Constructed</th>\n",
       "      <th>Square Footage</th>\n",
       "      <th>Total Floors</th>\n",
       "      <th>Floors Above Grade</th>\n",
       "      <th>Floors Below Grade</th>\n",
       "      <th>Usage Description</th>\n",
       "      <th>Usage Description 2</th>\n",
       "      <th>Usage Description 3</th>\n",
       "    </tr>\n",
       "  </thead>\n",
       "  <tbody>\n",
       "    <tr>\n",
       "      <th>0</th>\n",
       "      <td>11</td>\n",
       "      <td>Anderson Lake Conservation Area - Fulton County</td>\n",
       "      <td>Anderson Lake C.a.</td>\n",
       "      <td>Astoria</td>\n",
       "      <td>61501</td>\n",
       "      <td>Fulton</td>\n",
       "      <td>17</td>\n",
       "      <td>Cheri Bustos</td>\n",
       "      <td>93</td>\n",
       "      <td>Hammond Norine K.</td>\n",
       "      <td>...</td>\n",
       "      <td>In Use</td>\n",
       "      <td>1975</td>\n",
       "      <td>1975</td>\n",
       "      <td>144</td>\n",
       "      <td>1</td>\n",
       "      <td>1</td>\n",
       "      <td>0</td>\n",
       "      <td>Unusual</td>\n",
       "      <td>Unusual</td>\n",
       "      <td>Not provided</td>\n",
       "    </tr>\n",
       "    <tr>\n",
       "      <th>1</th>\n",
       "      <td>11</td>\n",
       "      <td>Anderson Lake Conservation Area - Fulton County</td>\n",
       "      <td>Anderson Lake C.a.</td>\n",
       "      <td>Astoria</td>\n",
       "      <td>61501</td>\n",
       "      <td>Fulton</td>\n",
       "      <td>17</td>\n",
       "      <td>Cheri Bustos</td>\n",
       "      <td>93</td>\n",
       "      <td>Hammond Norine K.</td>\n",
       "      <td>...</td>\n",
       "      <td>In Use</td>\n",
       "      <td>2004</td>\n",
       "      <td>2004</td>\n",
       "      <td>144</td>\n",
       "      <td>1</td>\n",
       "      <td>1</td>\n",
       "      <td>0</td>\n",
       "      <td>Unusual</td>\n",
       "      <td>Unusual</td>\n",
       "      <td>Not provided</td>\n",
       "    </tr>\n",
       "    <tr>\n",
       "      <th>2</th>\n",
       "      <td>11</td>\n",
       "      <td>Anderson Lake Conservation Area - Fulton County</td>\n",
       "      <td>Anderson Lake C.a.</td>\n",
       "      <td>Astoria</td>\n",
       "      <td>61501</td>\n",
       "      <td>Fulton</td>\n",
       "      <td>17</td>\n",
       "      <td>Cheri Bustos</td>\n",
       "      <td>93</td>\n",
       "      <td>Hammond Norine K.</td>\n",
       "      <td>...</td>\n",
       "      <td>In Use</td>\n",
       "      <td>2004</td>\n",
       "      <td>2004</td>\n",
       "      <td>144</td>\n",
       "      <td>1</td>\n",
       "      <td>1</td>\n",
       "      <td>0</td>\n",
       "      <td>Unusual</td>\n",
       "      <td>Unusual</td>\n",
       "      <td>Not provided</td>\n",
       "    </tr>\n",
       "    <tr>\n",
       "      <th>3</th>\n",
       "      <td>11</td>\n",
       "      <td>Anderson Lake Conservation Area - Fulton County</td>\n",
       "      <td>Anderson Lake C.a.</td>\n",
       "      <td>Astoria</td>\n",
       "      <td>61501</td>\n",
       "      <td>Fulton</td>\n",
       "      <td>17</td>\n",
       "      <td>Cheri Bustos</td>\n",
       "      <td>93</td>\n",
       "      <td>Hammond Norine K.</td>\n",
       "      <td>...</td>\n",
       "      <td>In Use</td>\n",
       "      <td>2004</td>\n",
       "      <td>2004</td>\n",
       "      <td>144</td>\n",
       "      <td>1</td>\n",
       "      <td>1</td>\n",
       "      <td>0</td>\n",
       "      <td>Unusual</td>\n",
       "      <td>Unusual</td>\n",
       "      <td>Not provided</td>\n",
       "    </tr>\n",
       "    <tr>\n",
       "      <th>4</th>\n",
       "      <td>11</td>\n",
       "      <td>Anderson Lake Conservation Area - Fulton County</td>\n",
       "      <td>Anderson Lake C.a.</td>\n",
       "      <td>Astoria</td>\n",
       "      <td>61501</td>\n",
       "      <td>Fulton</td>\n",
       "      <td>17</td>\n",
       "      <td>Cheri Bustos</td>\n",
       "      <td>93</td>\n",
       "      <td>Hammond Norine K.</td>\n",
       "      <td>...</td>\n",
       "      <td>In Use</td>\n",
       "      <td>2004</td>\n",
       "      <td>2004</td>\n",
       "      <td>144</td>\n",
       "      <td>1</td>\n",
       "      <td>1</td>\n",
       "      <td>0</td>\n",
       "      <td>Unusual</td>\n",
       "      <td>Unusual</td>\n",
       "      <td>Not provided</td>\n",
       "    </tr>\n",
       "  </tbody>\n",
       "</table>\n",
       "<p>5 rows × 22 columns</p>\n",
       "</div>"
      ],
      "text/plain": [
       "   Agency Name                                    Location Name  \\\n",
       "0           11  Anderson Lake Conservation Area - Fulton County   \n",
       "1           11  Anderson Lake Conservation Area - Fulton County   \n",
       "2           11  Anderson Lake Conservation Area - Fulton County   \n",
       "3           11  Anderson Lake Conservation Area - Fulton County   \n",
       "4           11  Anderson Lake Conservation Area - Fulton County   \n",
       "\n",
       "              Address     City  Zip code  County  Congress Dist  \\\n",
       "0  Anderson Lake C.a.  Astoria     61501  Fulton             17   \n",
       "1  Anderson Lake C.a.  Astoria     61501  Fulton             17   \n",
       "2  Anderson Lake C.a.  Astoria     61501  Fulton             17   \n",
       "3  Anderson Lake C.a.  Astoria     61501  Fulton             17   \n",
       "4  Anderson Lake C.a.  Astoria     61501  Fulton             17   \n",
       "\n",
       "  Congressional Full Name  Rep Dist      Rep Full Name  ...  Bldg Status  \\\n",
       "0            Cheri Bustos        93  Hammond Norine K.  ...       In Use   \n",
       "1            Cheri Bustos        93  Hammond Norine K.  ...       In Use   \n",
       "2            Cheri Bustos        93  Hammond Norine K.  ...       In Use   \n",
       "3            Cheri Bustos        93  Hammond Norine K.  ...       In Use   \n",
       "4            Cheri Bustos        93  Hammond Norine K.  ...       In Use   \n",
       "\n",
       "  Year Acquired Year Constructed  Square Footage  Total Floors  \\\n",
       "0          1975             1975             144             1   \n",
       "1          2004             2004             144             1   \n",
       "2          2004             2004             144             1   \n",
       "3          2004             2004             144             1   \n",
       "4          2004             2004             144             1   \n",
       "\n",
       "   Floors Above Grade  Floors Below Grade  Usage Description  \\\n",
       "0                   1                   0            Unusual   \n",
       "1                   1                   0            Unusual   \n",
       "2                   1                   0            Unusual   \n",
       "3                   1                   0            Unusual   \n",
       "4                   1                   0            Unusual   \n",
       "\n",
       "   Usage Description 2 Usage Description 3  \n",
       "0              Unusual        Not provided  \n",
       "1              Unusual        Not provided  \n",
       "2              Unusual        Not provided  \n",
       "3              Unusual        Not provided  \n",
       "4              Unusual        Not provided  \n",
       "\n",
       "[5 rows x 22 columns]"
      ]
     },
     "execution_count": 11,
     "metadata": {},
     "output_type": "execute_result"
    }
   ],
   "source": [
    "buildings.head() # The Agency name has been converted into codes which are numeric values"
   ]
  },
  {
   "cell_type": "markdown",
   "metadata": {},
   "source": [
    "#### Now lets plot a normal histogram with the above parameters"
   ]
  },
  {
   "cell_type": "code",
   "execution_count": 12,
   "metadata": {},
   "outputs": [
    {
     "data": {
      "image/png": "[encoded data removed]",
      "text/plain": [
       "<Figure size 432x288 with 2 Axes>"
      ]
     },
     "metadata": {
      "needs_background": "light"
     },
     "output_type": "display_data"
    }
   ],
   "source": [
    "import matplotlib.colors as mpl_colors\n",
    "plt.hist2d(buildings['Agency Name'], buildings['Congress Dist'], weights=buildings['Square Footage'], \n",
    "          bins=10, cmap='RdPu', norm=mpl_colors.SymLogNorm(10))\n",
    "cb = plt.colorbar()\n",
    "cb.set_label('binning on square footage')"
   ]
  },
  {
   "cell_type": "code",
   "execution_count": 13,
   "metadata": {},
   "outputs": [
    {
     "data": {
      "text/plain": [
       "array([[0.0000000e+00, 0.0000000e+00, 0.0000000e+00, 0.0000000e+00,\n",
       "        0.0000000e+00, 0.0000000e+00, 0.0000000e+00, 0.0000000e+00,\n",
       "        0.0000000e+00, 0.0000000e+00, 0.0000000e+00, 0.0000000e+00,\n",
       "        0.0000000e+00, 1.5124000e+04, 1.6400000e+04, 0.0000000e+00,\n",
       "        0.0000000e+00, 0.0000000e+00, 0.0000000e+00, 0.0000000e+00],\n",
       "       [0.0000000e+00, 0.0000000e+00, 0.0000000e+00, 0.0000000e+00,\n",
       "        0.0000000e+00, 0.0000000e+00, 0.0000000e+00, 0.0000000e+00,\n",
       "        4.3330000e+04, 0.0000000e+00, 0.0000000e+00, 0.0000000e+00,\n",
       "        0.0000000e+00, 0.0000000e+00, 0.0000000e+00, 0.0000000e+00,\n",
       "        0.0000000e+00, 1.8700000e+04, 0.0000000e+00, 0.0000000e+00],\n",
       "       [0.0000000e+00, 1.2194920e+06, 0.0000000e+00, 0.0000000e+00,\n",
       "        0.0000000e+00, 0.0000000e+00, 0.0000000e+00, 0.0000000e+00,\n",
       "        0.0000000e+00, 0.0000000e+00, 0.0000000e+00, 0.0000000e+00,\n",
       "        0.0000000e+00, 5.3623200e+05, 2.0008320e+06, 0.0000000e+00,\n",
       "        4.1984000e+04, 0.0000000e+00, 2.9350000e+04, 0.0000000e+00],\n",
       "       [2.3127800e+05, 0.0000000e+00, 0.0000000e+00, 0.0000000e+00,\n",
       "        0.0000000e+00, 9.9320000e+03, 0.0000000e+00, 2.0888400e+06,\n",
       "        6.5268000e+04, 0.0000000e+00, 0.0000000e+00, 4.4386500e+05,\n",
       "        0.0000000e+00, 9.8355000e+04, 1.0031060e+06, 0.0000000e+00,\n",
       "        7.0160000e+04, 4.4130000e+04, 1.5196300e+05, 5.4014000e+04],\n",
       "       [3.7278400e+05, 4.4954700e+05, 1.3035150e+06, 0.0000000e+00,\n",
       "        0.0000000e+00, 3.6289000e+05, 0.0000000e+00, 3.0403900e+05,\n",
       "        9.1326300e+05, 0.0000000e+00, 0.0000000e+00, 2.3464200e+05,\n",
       "        2.6650120e+06, 4.1744720e+06, 1.1245120e+06, 0.0000000e+00,\n",
       "        3.3032470e+06, 3.0689510e+06, 1.7663850e+06, 3.5442650e+06],\n",
       "       [0.0000000e+00, 5.6458000e+05, 2.2650000e+05, 4.8552000e+04,\n",
       "        2.2495900e+05, 0.0000000e+00, 7.2411000e+04, 2.4040000e+05,\n",
       "        3.1168000e+04, 0.0000000e+00, 0.0000000e+00, 4.0852000e+04,\n",
       "        5.4012000e+04, 4.8962900e+05, 9.5727400e+05, 5.9117300e+05,\n",
       "        1.0915240e+06, 3.4263800e+05, 6.1371800e+05, 1.3806200e+05],\n",
       "       [4.0249000e+04, 0.0000000e+00, 5.9050000e+04, 0.0000000e+00,\n",
       "        0.0000000e+00, 0.0000000e+00, 2.4105000e+04, 0.0000000e+00,\n",
       "        0.0000000e+00, 0.0000000e+00, 8.2280000e+03, 2.0039200e+05,\n",
       "        0.0000000e+00, 6.4913900e+05, 5.7105000e+05, 1.7351500e+05,\n",
       "        5.7469000e+05, 5.7761600e+05, 4.0288200e+05, 6.5640300e+05],\n",
       "       [0.0000000e+00, 0.0000000e+00, 0.0000000e+00, 0.0000000e+00,\n",
       "        0.0000000e+00, 0.0000000e+00, 0.0000000e+00, 0.0000000e+00,\n",
       "        0.0000000e+00, 0.0000000e+00, 0.0000000e+00, 0.0000000e+00,\n",
       "        0.0000000e+00, 7.1600000e+03, 9.1323600e+05, 0.0000000e+00,\n",
       "        0.0000000e+00, 0.0000000e+00, 0.0000000e+00, 0.0000000e+00],\n",
       "       [6.3817000e+04, 1.1814300e+05, 2.8750900e+05, 1.4716400e+05,\n",
       "        3.4982000e+04, 1.1212000e+05, 2.9996000e+04, 1.4020000e+05,\n",
       "        4.0851900e+05, 0.0000000e+00, 6.9750000e+04, 9.5160000e+03,\n",
       "        1.0398600e+05, 7.5199600e+05, 1.3066310e+06, 9.2420000e+04,\n",
       "        8.6564400e+05, 7.7857800e+05, 4.8194600e+05, 6.8567100e+05],\n",
       "       [3.0000000e+03, 0.0000000e+00, 4.7906100e+05, 0.0000000e+00,\n",
       "        0.0000000e+00, 1.8552500e+05, 0.0000000e+00, 0.0000000e+00,\n",
       "        0.0000000e+00, 0.0000000e+00, 0.0000000e+00, 0.0000000e+00,\n",
       "        0.0000000e+00, 4.0000000e+04, 0.0000000e+00, 0.0000000e+00,\n",
       "        0.0000000e+00, 1.2423500e+05, 0.0000000e+00, 6.5216000e+05],\n",
       "       [0.0000000e+00, 0.0000000e+00, 0.0000000e+00, 0.0000000e+00,\n",
       "        0.0000000e+00, 0.0000000e+00, 0.0000000e+00, 0.0000000e+00,\n",
       "        0.0000000e+00, 0.0000000e+00, 0.0000000e+00, 0.0000000e+00,\n",
       "        0.0000000e+00, 0.0000000e+00, 4.5120000e+04, 0.0000000e+00,\n",
       "        1.1646740e+06, 0.0000000e+00, 0.0000000e+00, 0.0000000e+00],\n",
       "       [3.8310000e+03, 0.0000000e+00, 2.8700000e+05, 1.0559710e+06,\n",
       "        5.7800000e+04, 0.0000000e+00, 0.0000000e+00, 2.3640000e+03,\n",
       "        0.0000000e+00, 0.0000000e+00, 0.0000000e+00, 0.0000000e+00,\n",
       "        0.0000000e+00, 1.2392400e+05, 7.9512000e+05, 0.0000000e+00,\n",
       "        9.8011000e+04, 1.1700000e+04, 1.1277700e+05, 1.7542700e+05],\n",
       "       [0.0000000e+00, 0.0000000e+00, 0.0000000e+00, 0.0000000e+00,\n",
       "        0.0000000e+00, 0.0000000e+00, 1.9147000e+04, 0.0000000e+00,\n",
       "        0.0000000e+00, 0.0000000e+00, 0.0000000e+00, 0.0000000e+00,\n",
       "        5.4581600e+05, 0.0000000e+00, 0.0000000e+00, 0.0000000e+00,\n",
       "        0.0000000e+00, 0.0000000e+00, 0.0000000e+00, 0.0000000e+00],\n",
       "       [0.0000000e+00, 0.0000000e+00, 0.0000000e+00, 4.2000000e+04,\n",
       "        0.0000000e+00, 0.0000000e+00, 0.0000000e+00, 0.0000000e+00,\n",
       "        0.0000000e+00, 0.0000000e+00, 0.0000000e+00, 0.0000000e+00,\n",
       "        9.9068000e+04, 0.0000000e+00, 1.6530000e+04, 0.0000000e+00,\n",
       "        0.0000000e+00, 4.9552000e+04, 2.6700000e+04, 2.5262300e+05],\n",
       "       [5.6500000e+03, 0.0000000e+00, 0.0000000e+00, 0.0000000e+00,\n",
       "        0.0000000e+00, 0.0000000e+00, 0.0000000e+00, 0.0000000e+00,\n",
       "        0.0000000e+00, 0.0000000e+00, 0.0000000e+00, 0.0000000e+00,\n",
       "        0.0000000e+00, 0.0000000e+00, 1.0454000e+05, 0.0000000e+00,\n",
       "        0.0000000e+00, 0.0000000e+00, 0.0000000e+00, 0.0000000e+00],\n",
       "       [3.1200000e+04, 0.0000000e+00, 0.0000000e+00, 0.0000000e+00,\n",
       "        0.0000000e+00, 0.0000000e+00, 0.0000000e+00, 1.5000000e+04,\n",
       "        0.0000000e+00, 0.0000000e+00, 0.0000000e+00, 0.0000000e+00,\n",
       "        0.0000000e+00, 0.0000000e+00, 2.9602720e+06, 0.0000000e+00,\n",
       "        0.0000000e+00, 0.0000000e+00, 0.0000000e+00, 0.0000000e+00],\n",
       "       [0.0000000e+00, 0.0000000e+00, 0.0000000e+00, 0.0000000e+00,\n",
       "        0.0000000e+00, 1.1101030e+06, 0.0000000e+00, 0.0000000e+00,\n",
       "        0.0000000e+00, 0.0000000e+00, 0.0000000e+00, 0.0000000e+00,\n",
       "        0.0000000e+00, 0.0000000e+00, 0.0000000e+00, 0.0000000e+00,\n",
       "        0.0000000e+00, 0.0000000e+00, 0.0000000e+00, 0.0000000e+00],\n",
       "       [4.1315000e+04, 0.0000000e+00, 0.0000000e+00, 0.0000000e+00,\n",
       "        0.0000000e+00, 0.0000000e+00, 0.0000000e+00, 0.0000000e+00,\n",
       "        0.0000000e+00, 0.0000000e+00, 0.0000000e+00, 0.0000000e+00,\n",
       "        0.0000000e+00, 0.0000000e+00, 0.0000000e+00, 0.0000000e+00,\n",
       "        0.0000000e+00, 3.7097800e+06, 6.0500000e+04, 0.0000000e+00],\n",
       "       [0.0000000e+00, 0.0000000e+00, 0.0000000e+00, 0.0000000e+00,\n",
       "        0.0000000e+00, 2.8452000e+04, 0.0000000e+00, 5.6904000e+04,\n",
       "        0.0000000e+00, 0.0000000e+00, 0.0000000e+00, 0.0000000e+00,\n",
       "        0.0000000e+00, 5.5587440e+06, 5.3392010e+06, 0.0000000e+00,\n",
       "        0.0000000e+00, 0.0000000e+00, 0.0000000e+00, 0.0000000e+00],\n",
       "       [0.0000000e+00, 0.0000000e+00, 3.6430490e+06, 0.0000000e+00,\n",
       "        0.0000000e+00, 0.0000000e+00, 0.0000000e+00, 6.3639040e+06,\n",
       "        0.0000000e+00, 0.0000000e+00, 0.0000000e+00, 0.0000000e+00,\n",
       "        0.0000000e+00, 0.0000000e+00, 1.4695427e+07, 0.0000000e+00,\n",
       "        0.0000000e+00, 0.0000000e+00, 7.0152200e+05, 1.9622130e+06]])"
      ]
     },
     "execution_count": 13,
     "metadata": {},
     "output_type": "execute_result"
    }
   ],
   "source": [
    "nAgency = 20 \n",
    "nCongDist = 20\n",
    "\n",
    "#(1)\n",
    "hist2d, Agency_edges, CongDist_edges = np.histogram2d(buildings['Agency Name'], \n",
    "                                               buildings['Congress Dist'], \n",
    "                                               weights=buildings['Square Footage'], \n",
    "                                              bins=[nAgency, nCongDist])\n",
    "\n",
    "# Let's take a quick look at this data\n",
    "hist2d"
   ]
  },
  {
   "cell_type": "code",
   "execution_count": 14,
   "metadata": {
    "scrolled": true
   },
   "outputs": [
    {
     "data": {
      "text/plain": [
       "(14695427.0, 0.0)"
      ]
     },
     "execution_count": 14,
     "metadata": {},
     "output_type": "execute_result"
    }
   ],
   "source": [
    "hist2d.max(), hist2d.min() # a pretty big range for a histogram as discussed in class!"
   ]
  },
  {
   "cell_type": "code",
   "execution_count": 15,
   "metadata": {
    "scrolled": true
   },
   "outputs": [
    {
     "data": {
      "text/plain": [
       "<matplotlib.image.AxesImage at 0x24de6d0b748>"
      ]
     },
     "execution_count": 15,
     "metadata": {},
     "output_type": "execute_result"
    },
    {
     "data": {
      "image/png": "[encoded data removed]",
      "text/plain": [
       "<Figure size 432x288 with 1 Axes>"
      ]
     },
     "metadata": {
      "needs_background": "light"
     },
     "output_type": "display_data"
    }
   ],
   "source": [
    "plt.imshow(hist2d, cmap='RdPu',norm=mpl_colors.SymLogNorm(10) )"
   ]
  },
  {
   "cell_type": "code",
   "execution_count": 16,
   "metadata": {},
   "outputs": [
    {
     "data": {
      "text/plain": [
       "<matplotlib.image.AxesImage at 0x24de7d66518>"
      ]
     },
     "execution_count": 16,
     "metadata": {},
     "output_type": "execute_result"
    },
    {
     "data": {
      "image/png": "[encoded data removed]",
      "text/plain": [
       "<Figure size 432x288 with 1 Axes>"
      ]
     },
     "metadata": {
      "needs_background": "light"
     },
     "output_type": "display_data"
    }
   ],
   "source": [
    "plt.imshow(hist2d.T, cmap='RdPu')"
   ]
  },
  {
   "cell_type": "code",
   "execution_count": 17,
   "metadata": {},
   "outputs": [
    {
     "data": {
      "text/plain": [
       "((20, 20), (21,), (21,))"
      ]
     },
     "execution_count": 17,
     "metadata": {},
     "output_type": "execute_result"
    }
   ],
   "source": [
    "hist2d.shape, Agency_edges.shape, CongDist_edges.shape"
   ]
  },
  {
   "cell_type": "code",
   "execution_count": 18,
   "metadata": {},
   "outputs": [
    {
     "data": {
      "text/plain": [
       "array([ 0.85,  2.55,  4.25,  5.95,  7.65,  9.35, 11.05, 12.75, 14.45,\n",
       "       16.15, 17.85, 19.55, 21.25, 22.95, 24.65, 26.35, 28.05, 29.75,\n",
       "       31.45, 33.15])"
      ]
     },
     "execution_count": 18,
     "metadata": {},
     "output_type": "execute_result"
    }
   ],
   "source": [
    "Agency_centers = (Agency_edges[:-1] + Agency_edges[1:]) / 2\n",
    "Agency_centers"
   ]
  },
  {
   "cell_type": "code",
   "execution_count": 19,
   "metadata": {},
   "outputs": [
    {
     "data": {
      "text/plain": [
       "array([ 0.45,  1.35,  2.25,  3.15,  4.05,  4.95,  5.85,  6.75,  7.65,\n",
       "        8.55,  9.45, 10.35, 11.25, 12.15, 13.05, 13.95, 14.85, 15.75,\n",
       "       16.65, 17.55])"
      ]
     },
     "execution_count": 19,
     "metadata": {},
     "output_type": "execute_result"
    }
   ],
   "source": [
    "CongDist_centers = (CongDist_edges[:-1] + CongDist_edges[1:]) / 2\n",
    "CongDist_centers"
   ]
  },
  {
   "cell_type": "code",
   "execution_count": 20,
   "metadata": {},
   "outputs": [
    {
     "name": "stdout",
     "output_type": "stream",
     "text": [
      "[ 0.  1.  2.  3.  4.  5.  6.  7.  8.  9. 10. 11. 12. 13. 14. 15. 16. 17.\n",
      " 18. 19. 20.] (21,)\n",
      "[ 0.  1.  2.  3.  4.  5.  6.  7.  8.  9. 10. 11. 12. 13. 14. 15. 16. 17.\n",
      " 18. 19. 20.] (21,)\n"
     ]
    }
   ],
   "source": [
    "Agency_bins = np.linspace(0, 20, nAgency+1)\n",
    "CongDist_bins = np.linspace(0, 20, nCongDist+1)\n",
    "print(Agency_bins, Agency_bins.shape)\n",
    "print(CongDist_bins, CongDist_bins.shape)"
   ]
  },
  {
   "cell_type": "code",
   "execution_count": 21,
   "metadata": {},
   "outputs": [],
   "source": [
    "hist2d, Agency_edges, CongDist_edges = np.histogram2d(buildings['Agency Name'], \n",
    "                                               buildings['Congress Dist'], \n",
    "                                               weights=buildings['Square Footage'],\n",
    "                                              bins = [Agency_bins,CongDist_bins])"
   ]
  },
  {
   "cell_type": "code",
   "execution_count": 22,
   "metadata": {},
   "outputs": [],
   "source": [
    "Agency_centers = (Agency_edges[:-1] + Agency_edges[1:]) / 2\n",
    "CongDist_centers = (CongDist_edges[:-1] + CongDist_edges[1:]) / 2"
   ]
  },
  {
   "cell_type": "code",
   "execution_count": 23,
   "metadata": {},
   "outputs": [],
   "source": [
    "hist2d = hist2d.T\n"
   ]
  },
  {
   "cell_type": "code",
   "execution_count": 24,
   "metadata": {},
   "outputs": [
    {
     "data": {
      "text/plain": [
       "(0.0, 2908649.0, 2364.0)"
      ]
     },
     "execution_count": 24,
     "metadata": {},
     "output_type": "execute_result"
    }
   ],
   "source": [
    "hist2d.min(), hist2d.max(), hist2d[hist2d>0].min()\n"
   ]
  },
  {
   "cell_type": "code",
   "execution_count": 25,
   "metadata": {},
   "outputs": [
    {
     "name": "stderr",
     "output_type": "stream",
     "text": [
      "C:\\Users\\npali\\Anaconda3\\lib\\site-packages\\ipykernel_launcher.py:1: RuntimeWarning: divide by zero encountered in log10\n",
      "  \"\"\"Entry point for launching an IPython kernel.\n"
     ]
    },
    {
     "data": {
      "text/plain": [
       "-inf"
      ]
     },
     "execution_count": 25,
     "metadata": {},
     "output_type": "execute_result"
    }
   ],
   "source": [
    "np.log10(hist2d).min()\n"
   ]
  },
  {
   "cell_type": "code",
   "execution_count": 26,
   "metadata": {},
   "outputs": [],
   "source": [
    "hist2d[hist2d <= 0] = np.nan # set zeros to NaNs\n",
    "# then take log\n"
   ]
  },
  {
   "cell_type": "code",
   "execution_count": 27,
   "metadata": {},
   "outputs": [
    {
     "data": {
      "application/vnd.jupyter.widget-view+json": {
       "model_id": "a2c7ffd997274c468284f6097410b388",
       "version_major": 2,
       "version_minor": 0
      },
      "text/plain": [
       "VBox(children=(Label(value=''), Figure(axes=[ColorAxis(orientation='vertical', scale=ColorScale(max=2908649.0,…"
      ]
     },
     "metadata": {},
     "output_type": "display_data"
    }
   ],
   "source": [
    "# (1) add scales - colors, x & y\n",
    "col_sc = bqplot.ColorScale(scheme=\"RdPu\", \n",
    "                           min=np.nanmin(hist2d), \n",
    "                           max=np.nanmax(hist2d))\n",
    "x_sc = bqplot.LinearScale()\n",
    "y_sc = bqplot.LinearScale()\n",
    "\n",
    "# (2) create axis - for colors, x & y\n",
    "c_ax = bqplot.ColorAxis(scale = col_sc, \n",
    "                        orientation = 'vertical', \n",
    "                        side = 'right')\n",
    "\n",
    "x_ax = bqplot.Axis(scale = x_sc, label='Agency Name')\n",
    "y_ax = bqplot.Axis(scale = y_sc, \n",
    "                   orientation = 'vertical', \n",
    "                   label = 'Congress Dist')\n",
    "\n",
    "# (3) Marks\n",
    "heat_map = bqplot.GridHeatMap(color = hist2d,\n",
    "                              row = CongDist_centers, \n",
    "                              column = Agency_centers,\n",
    "                              scales = {'color': col_sc,\n",
    "                                        'row': y_sc,\n",
    "                                        'column': x_sc},\n",
    "                              interactions = {'click': 'select'},\n",
    "                              anchor_style = {'fill':'blue'}, \n",
    "                              selected_style = {'opacity': 1.0},\n",
    "                              unselected_style = {'opacity': 1.0})\n",
    "\n",
    "# (4) interactivity - label\n",
    "mySelectedLabel = ipywidgets.Label()\n",
    "def get_data_value(change):\n",
    "    if len(change['owner'].selected) == 1: #only 1 selected\n",
    "        i,j = change['owner'].selected[0]\n",
    "        v = hist2d[i,j] # grab data value\n",
    "        mySelectedLabel.value = 'Total Square Footage is = ' + str(v) # set our label\n",
    "    \n",
    "# make sure we check out     \n",
    "heat_map.observe(get_data_value, 'selected')\n",
    "\n",
    "\n",
    "# (5) put it all together in a figure\n",
    "fig = bqplot.Figure(marks = [heat_map], axes = [c_ax, y_ax, x_ax])\n",
    "myDashboard = ipywidgets.VBox([mySelectedLabel,fig])\n",
    "myDashboard"
   ]
  },
  {
   "cell_type": "markdown",
   "metadata": {},
   "source": [
    "### Let's Cross Check if the data is coming from the right selection"
   ]
  },
  {
   "cell_type": "code",
   "execution_count": 28,
   "metadata": {},
   "outputs": [
    {
     "data": {
      "text/html": [
       "<div>\n",
       "<style scoped>\n",
       "    .dataframe tbody tr th:only-of-type {\n",
       "        vertical-align: middle;\n",
       "    }\n",
       "\n",
       "    .dataframe tbody tr th {\n",
       "        vertical-align: top;\n",
       "    }\n",
       "\n",
       "    .dataframe thead th {\n",
       "        text-align: right;\n",
       "    }\n",
       "</style>\n",
       "<table border=\"1\" class=\"dataframe\">\n",
       "  <thead>\n",
       "    <tr style=\"text-align: right;\">\n",
       "      <th></th>\n",
       "      <th>Agency Name</th>\n",
       "      <th>Location Name</th>\n",
       "      <th>Address</th>\n",
       "      <th>City</th>\n",
       "      <th>Zip code</th>\n",
       "      <th>County</th>\n",
       "      <th>Congress Dist</th>\n",
       "      <th>Congressional Full Name</th>\n",
       "      <th>Rep Dist</th>\n",
       "      <th>Rep Full Name</th>\n",
       "      <th>...</th>\n",
       "      <th>Bldg Status</th>\n",
       "      <th>Year Acquired</th>\n",
       "      <th>Year Constructed</th>\n",
       "      <th>Square Footage</th>\n",
       "      <th>Total Floors</th>\n",
       "      <th>Floors Above Grade</th>\n",
       "      <th>Floors Below Grade</th>\n",
       "      <th>Usage Description</th>\n",
       "      <th>Usage Description 2</th>\n",
       "      <th>Usage Description 3</th>\n",
       "    </tr>\n",
       "  </thead>\n",
       "  <tbody>\n",
       "    <tr>\n",
       "      <th>7188</th>\n",
       "      <td>0</td>\n",
       "      <td>Appellate Court Building - Mt. Vernon</td>\n",
       "      <td>14th &amp; Main St</td>\n",
       "      <td>Mt Vernon</td>\n",
       "      <td>62864</td>\n",
       "      <td>Jefferson</td>\n",
       "      <td>12</td>\n",
       "      <td>Mike Bost</td>\n",
       "      <td>115</td>\n",
       "      <td>Bryant Terri</td>\n",
       "      <td>...</td>\n",
       "      <td>In Use</td>\n",
       "      <td>1857</td>\n",
       "      <td>1854</td>\n",
       "      <td>15124</td>\n",
       "      <td>4</td>\n",
       "      <td>3</td>\n",
       "      <td>1</td>\n",
       "      <td>Business</td>\n",
       "      <td>Business</td>\n",
       "      <td>Residential</td>\n",
       "    </tr>\n",
       "  </tbody>\n",
       "</table>\n",
       "<p>1 rows × 22 columns</p>\n",
       "</div>"
      ],
      "text/plain": [
       "      Agency Name                          Location Name         Address  \\\n",
       "7188            0  Appellate Court Building - Mt. Vernon  14th & Main St   \n",
       "\n",
       "           City  Zip code     County  Congress Dist Congressional Full Name  \\\n",
       "7188  Mt Vernon     62864  Jefferson             12               Mike Bost   \n",
       "\n",
       "      Rep Dist Rep Full Name  ...  Bldg Status Year Acquired Year Constructed  \\\n",
       "7188       115  Bryant Terri  ...       In Use          1857             1854   \n",
       "\n",
       "      Square Footage  Total Floors  Floors Above Grade  Floors Below Grade  \\\n",
       "7188           15124             4                   3                   1   \n",
       "\n",
       "      Usage Description  Usage Description 2 Usage Description 3  \n",
       "7188           Business             Business         Residential  \n",
       "\n",
       "[1 rows x 22 columns]"
      ]
     },
     "execution_count": 28,
     "metadata": {},
     "output_type": "execute_result"
    }
   ],
   "source": [
    "buildings[buildings['Square Footage'] == 15124] "
   ]
  },
  {
   "cell_type": "markdown",
   "metadata": {},
   "source": [
    "#### Let's also include information about the TotalSquare Footage as a function of Year in a particular bin on another plot -- a line plot this time. Let's first start by making this plot alone before putting it into our dashboard."
   ]
  },
  {
   "cell_type": "code",
   "execution_count": 29,
   "metadata": {
    "scrolled": true
   },
   "outputs": [
    {
     "data": {
      "text/html": [
       "<div>\n",
       "<style scoped>\n",
       "    .dataframe tbody tr th:only-of-type {\n",
       "        vertical-align: middle;\n",
       "    }\n",
       "\n",
       "    .dataframe tbody tr th {\n",
       "        vertical-align: top;\n",
       "    }\n",
       "\n",
       "    .dataframe thead th {\n",
       "        text-align: right;\n",
       "    }\n",
       "</style>\n",
       "<table border=\"1\" class=\"dataframe\">\n",
       "  <thead>\n",
       "    <tr style=\"text-align: right;\">\n",
       "      <th></th>\n",
       "      <th>Agency Name</th>\n",
       "      <th>Congress Dist</th>\n",
       "      <th>Year Acquired</th>\n",
       "      <th>Total Square Footage</th>\n",
       "    </tr>\n",
       "  </thead>\n",
       "  <tbody>\n",
       "    <tr>\n",
       "      <th>0</th>\n",
       "      <td>0</td>\n",
       "      <td>12</td>\n",
       "      <td>1857</td>\n",
       "      <td>15124</td>\n",
       "    </tr>\n",
       "    <tr>\n",
       "      <th>1</th>\n",
       "      <td>1</td>\n",
       "      <td>13</td>\n",
       "      <td>1967</td>\n",
       "      <td>16400</td>\n",
       "    </tr>\n",
       "    <tr>\n",
       "      <th>2</th>\n",
       "      <td>2</td>\n",
       "      <td>8</td>\n",
       "      <td>1967</td>\n",
       "      <td>43330</td>\n",
       "    </tr>\n",
       "    <tr>\n",
       "      <th>3</th>\n",
       "      <td>3</td>\n",
       "      <td>16</td>\n",
       "      <td>1858</td>\n",
       "      <td>15000</td>\n",
       "    </tr>\n",
       "    <tr>\n",
       "      <th>4</th>\n",
       "      <td>3</td>\n",
       "      <td>16</td>\n",
       "      <td>1860</td>\n",
       "      <td>3700</td>\n",
       "    </tr>\n",
       "    <tr>\n",
       "      <th>5</th>\n",
       "      <td>4</td>\n",
       "      <td>1</td>\n",
       "      <td>0</td>\n",
       "      <td>27500</td>\n",
       "    </tr>\n",
       "    <tr>\n",
       "      <th>6</th>\n",
       "      <td>4</td>\n",
       "      <td>1</td>\n",
       "      <td>1873</td>\n",
       "      <td>11000</td>\n",
       "    </tr>\n",
       "    <tr>\n",
       "      <th>7</th>\n",
       "      <td>4</td>\n",
       "      <td>1</td>\n",
       "      <td>1970</td>\n",
       "      <td>183964</td>\n",
       "    </tr>\n",
       "    <tr>\n",
       "      <th>8</th>\n",
       "      <td>4</td>\n",
       "      <td>1</td>\n",
       "      <td>1971</td>\n",
       "      <td>70995</td>\n",
       "    </tr>\n",
       "    <tr>\n",
       "      <th>9</th>\n",
       "      <td>4</td>\n",
       "      <td>1</td>\n",
       "      <td>1972</td>\n",
       "      <td>49841</td>\n",
       "    </tr>\n",
       "    <tr>\n",
       "      <th>10</th>\n",
       "      <td>4</td>\n",
       "      <td>1</td>\n",
       "      <td>1973</td>\n",
       "      <td>426197</td>\n",
       "    </tr>\n",
       "    <tr>\n",
       "      <th>11</th>\n",
       "      <td>4</td>\n",
       "      <td>1</td>\n",
       "      <td>1979</td>\n",
       "      <td>70995</td>\n",
       "    </tr>\n",
       "    <tr>\n",
       "      <th>12</th>\n",
       "      <td>4</td>\n",
       "      <td>1</td>\n",
       "      <td>2005</td>\n",
       "      <td>312000</td>\n",
       "    </tr>\n",
       "    <tr>\n",
       "      <th>13</th>\n",
       "      <td>4</td>\n",
       "      <td>1</td>\n",
       "      <td>2010</td>\n",
       "      <td>67000</td>\n",
       "    </tr>\n",
       "    <tr>\n",
       "      <th>14</th>\n",
       "      <td>5</td>\n",
       "      <td>12</td>\n",
       "      <td>0</td>\n",
       "      <td>300</td>\n",
       "    </tr>\n",
       "  </tbody>\n",
       "</table>\n",
       "</div>"
      ],
      "text/plain": [
       "    Agency Name  Congress Dist  Year Acquired  Total Square Footage\n",
       "0             0             12           1857                 15124\n",
       "1             1             13           1967                 16400\n",
       "2             2              8           1967                 43330\n",
       "3             3             16           1858                 15000\n",
       "4             3             16           1860                  3700\n",
       "5             4              1              0                 27500\n",
       "6             4              1           1873                 11000\n",
       "7             4              1           1970                183964\n",
       "8             4              1           1971                 70995\n",
       "9             4              1           1972                 49841\n",
       "10            4              1           1973                426197\n",
       "11            4              1           1979                 70995\n",
       "12            4              1           2005                312000\n",
       "13            4              1           2010                 67000\n",
       "14            5             12              0                   300"
      ]
     },
     "execution_count": 29,
     "metadata": {},
     "output_type": "execute_result"
    }
   ],
   "source": [
    "buildings_lineplot = buildings.groupby(['Agency Name', 'Congress Dist', 'Year Acquired'])['Square Footage'].sum().reset_index(name='Total Square Footage')\n",
    "buildings_lineplot.head(15)"
   ]
  },
  {
   "cell_type": "code",
   "execution_count": 30,
   "metadata": {
    "scrolled": true
   },
   "outputs": [
    {
     "data": {
      "text/plain": [
       "Agency Name             int64\n",
       "Congress Dist           int64\n",
       "Year Acquired           int64\n",
       "Total Square Footage    int64\n",
       "dtype: object"
      ]
     },
     "execution_count": 30,
     "metadata": {},
     "output_type": "execute_result"
    }
   ],
   "source": [
    "buildings_lineplot.dtypes # Check the datatype of the columns"
   ]
  },
  {
   "cell_type": "code",
   "execution_count": 31,
   "metadata": {},
   "outputs": [
    {
     "data": {
      "text/plain": [
       "(0, 1367020)"
      ]
     },
     "execution_count": 31,
     "metadata": {},
     "output_type": "execute_result"
    }
   ],
   "source": [
    "buildings_lineplot['Total Square Footage'].min(), buildings_lineplot['Total Square Footage'].max()"
   ]
  },
  {
   "cell_type": "code",
   "execution_count": 32,
   "metadata": {},
   "outputs": [],
   "source": [
    "i,j = 11,8 # picking an x/y bin for the sample mask region"
   ]
  },
  {
   "cell_type": "markdown",
   "metadata": {},
   "source": [
    "Let's specify the range of Agency Name & Congress Dist for this selection of x/y bin:"
   ]
  },
  {
   "cell_type": "code",
   "execution_count": 33,
   "metadata": {},
   "outputs": [],
   "source": [
    "Agency = [Agency_edges[j], Agency_edges[j+1]] # min/max Agency Name\n",
    "CongDist = [CongDist_edges[i],CongDist_edges[i+1]] # min/max Congress Dist"
   ]
  },
  {
   "cell_type": "markdown",
   "metadata": {},
   "source": [
    "Lets mask out some data with the above range as we did in class for latitude and longitude for the area"
   ]
  },
  {
   "cell_type": "code",
   "execution_count": 34,
   "metadata": {},
   "outputs": [
    {
     "data": {
      "text/plain": [
       "([11.0, 12.0], [8.0, 9.0], 558    11\n",
       " 559    12\n",
       " 560    12\n",
       " 561    12\n",
       " 562    12\n",
       " 563    12\n",
       " 564    12\n",
       " 565    12\n",
       " 566    12\n",
       " 567    12\n",
       " 568    12\n",
       " 569    12\n",
       " 570    12\n",
       " 571    12\n",
       " 572    12\n",
       " 573    12\n",
       " 574    12\n",
       " 575    12\n",
       " 576    12\n",
       " 577    12\n",
       " 578    12\n",
       " 579    12\n",
       " 580    12\n",
       " 581    12\n",
       " 582    12\n",
       " 583    12\n",
       " 584    12\n",
       " 585    12\n",
       " 586    12\n",
       " 587    12\n",
       " 588    12\n",
       " 589    12\n",
       " 590    12\n",
       " 591    12\n",
       " 592    12\n",
       " 593    12\n",
       " 594    12\n",
       " 595    12\n",
       " 677    12\n",
       " 678    12\n",
       " 679    12\n",
       " 680    12\n",
       " 681    12\n",
       " Name: Congress Dist, dtype: int64)"
      ]
     },
     "execution_count": 34,
     "metadata": {},
     "output_type": "execute_result"
    }
   ],
   "source": [
    "region_mask = ( (buildings_lineplot['Congress Dist'] >= CongDist[0]) & (buildings_lineplot['Congress Dist']<=CongDist[1]) &\\\n",
    "                (buildings_lineplot['Agency Name'] >= Agency[0]) & (buildings_lineplot['Agency Name']<=Agency[1]) )\n",
    "\n",
    "# we can see this selects for the upper right point of our heatmap\n",
    "CongDist, Agency, buildings_lineplot['Congress Dist'][region_mask]"
   ]
  },
  {
   "cell_type": "code",
   "execution_count": 35,
   "metadata": {
    "scrolled": true
   },
   "outputs": [
    {
     "data": {
      "application/vnd.jupyter.widget-view+json": {
       "model_id": "61116a6bad26446aa95c8c6e1b0ff197",
       "version_major": 2,
       "version_minor": 0
      },
      "text/plain": [
       "Figure(axes=[Axis(label='Agency Name', scale=LinearScale()), Axis(label='Congress Dist', orientation='vertical…"
      ]
     },
     "metadata": {},
     "output_type": "display_data"
    }
   ],
   "source": [
    "#line graph\n",
    "# Lets define the scale\n",
    "\n",
    "x_sc=bqplot.OrdinalScale()\n",
    "y_sc=bqplot.LinearScale()\n",
    "\n",
    "# set up axis\n",
    "xl_ax = bqplot.Axis(scale=x_sc, label='Year')\n",
    "yl_ax = bqplot.Axis(scale=y_sc, label='Total Square Footage',label_offset=\"50px\" ,orientation='vertical')\n",
    "\n",
    "#Plot the graph with the masked region\n",
    "line_plot =bqplot.Lines(x=buildings_lineplot['Year Acquired'][region_mask], y=buildings_lineplot['Total Square Footage'], scales={'x': x_sc, 'y': y_sc},\n",
    "             stroke_width=3, colors=['purple'], display_legend=True, labels=['Line Plot'])\n",
    "\n",
    "fig = bqplot.Figure(marks=[line_plot], axes=[x_ax, y_ax], legend_location='top-left')\n",
    "fig"
   ]
  },
  {
   "cell_type": "code",
   "execution_count": 36,
   "metadata": {
    "scrolled": true
   },
   "outputs": [
    {
     "data": {
      "text/plain": [
       "['_model_module',\n",
       " '_model_module_version',\n",
       " '_model_name',\n",
       " '_view_count',\n",
       " '_view_module',\n",
       " '_view_module_version',\n",
       " '_view_name',\n",
       " 'apply_clip',\n",
       " 'close_path',\n",
       " 'color',\n",
       " 'colors',\n",
       " 'curves_subset',\n",
       " 'display_legend',\n",
       " 'enable_hover',\n",
       " 'fill',\n",
       " 'fill_colors',\n",
       " 'fill_opacities',\n",
       " 'interactions',\n",
       " 'interpolation',\n",
       " 'labels',\n",
       " 'labels_visibility',\n",
       " 'line_style',\n",
       " 'marker',\n",
       " 'marker_size',\n",
       " 'opacities',\n",
       " 'preserve_domain',\n",
       " 'scales',\n",
       " 'scales_metadata',\n",
       " 'selected',\n",
       " 'selected_style',\n",
       " 'stroke_width',\n",
       " 'tooltip',\n",
       " 'tooltip_location',\n",
       " 'tooltip_style',\n",
       " 'unselected_style',\n",
       " 'visible',\n",
       " 'x',\n",
       " 'y']"
      ]
     },
     "execution_count": 36,
     "metadata": {},
     "output_type": "execute_result"
    }
   ],
   "source": [
    "line_plot.keys"
   ]
  },
  {
   "cell_type": "markdown",
   "metadata": {},
   "source": [
    "### Let's put together our heatmap + label + line plot to create an interactive dashboard"
   ]
  },
  {
   "cell_type": "code",
   "execution_count": 37,
   "metadata": {},
   "outputs": [],
   "source": [
    "# (I) CREATE LABEL\n",
    "mySelectedLabel = ipywidgets.Label()"
   ]
  },
  {
   "cell_type": "code",
   "execution_count": 38,
   "metadata": {},
   "outputs": [],
   "source": [
    "# (1) add scales - colors, x & y\n",
    "col_sc = bqplot.ColorScale(scheme=\"RdPu\", \n",
    "                           min=np.nanmin(hist2d), \n",
    "                           max=np.nanmax(hist2d))\n",
    "x_sc = bqplot.LinearScale()\n",
    "y_sc = bqplot.LinearScale()\n",
    "\n",
    "# (2) create axis - for colors, x & y\n",
    "c_ax = bqplot.ColorAxis(scale = col_sc, \n",
    "                        orientation = 'vertical', \n",
    "                        side = 'right')\n",
    "\n",
    "x_ax = bqplot.Axis(scale = x_sc, label='Agency Name')\n",
    "y_ax = bqplot.Axis(scale = y_sc, \n",
    "                   orientation = 'vertical', \n",
    "                   label = 'Congress Dist')\n",
    "\n",
    "# (3) Marks for heat map\n",
    "heat_map = bqplot.GridHeatMap(color = hist2d,\n",
    "                              row = CongDist_centers, \n",
    "                              column = Agency_centers,\n",
    "                              scales = {'color': col_sc,\n",
    "                                        'row': y_sc,\n",
    "                                        'column': x_sc},\n",
    "                              interactions = {'click': 'select'},\n",
    "                              anchor_style = {'fill':'blue'}, \n",
    "                              selected_style = {'opacity': 1.0},\n",
    "                              unselected_style = {'opacity': 1.0})"
   ]
  },
  {
   "cell_type": "code",
   "execution_count": 39,
   "metadata": {},
   "outputs": [],
   "source": [
    "# Line Plot\n",
    "\n",
    "x_sc=bqplot.OrdinalScale()\n",
    "y_sc=bqplot.LinearScale()\n",
    "\n",
    "# set up axis\n",
    "xl_ax = bqplot.Axis(scale=x_sc, label='Year')\n",
    "yl_ax = bqplot.Axis(scale=y_sc, label='Total Square Footage',label_offset=\"50px\", orientation='vertical')\n",
    "\n",
    "i,j = 16,0 # picking an x/y bin -- this is one I know has a lot of data!\n",
    "Agency = [Agency_edges[j], Agency_edges[j+1]] # min/max Agency Name\n",
    "CongDist = [CongDist_edges[i],CongDist_edges[i+1]] # min/max Congress Dist\n",
    "\n",
    "line_plot =bqplot.Lines(x=buildings_lineplot['Year Acquired'][region_mask], y=buildings_lineplot['Total Square Footage'], scales={'x': x_sc, 'y': y_sc},\n",
    "             stroke_width=3, colors=['purple'], display_legend=True, labels=['Line Plot'])"
   ]
  },
  {
   "cell_type": "code",
   "execution_count": 40,
   "metadata": {},
   "outputs": [],
   "source": [
    "# this function does all the interactivity part\n",
    "def get_data_value(change):\n",
    "    if len(change['owner'].selected) == 1: #only 1 selected\n",
    "        i,j = change['owner'].selected[0]\n",
    "        v = hist2d[i,j] # grab data value\n",
    "        mySelectedLabel.value = 'Total Square Footage = ' + str(v) # set our label\n",
    "        # now: for the scatter plot\n",
    "        Agency = [Agency_edges[j], Agency_edges[j+1]] # min/max Agency Name\n",
    "        CongDist = [CongDist_edges[i],CongDist_edges[i+1]] # min/max Congress Dist\n",
    "        region_mask = ( (buildings_lineplot['Congress Dist'] >= CongDist[0]) & (buildings_lineplot['Congress Dist']<=CongDist[1]) &\\\n",
    "                (buildings_lineplot['Agency Name'] >= Agency[0]) & (buildings_lineplot['Agency Name']<=Agency[1]) )\n",
    "        line_plot.x = buildings_lineplot['Year Acquired'][region_mask]\n",
    "        line_plot.y = buildings_lineplot['Total Square Footage'][region_mask]\n",
    "        \n",
    "heat_map.observe(get_data_value, 'selected')"
   ]
  },
  {
   "cell_type": "code",
   "execution_count": 41,
   "metadata": {},
   "outputs": [],
   "source": [
    "# (5) create figures\n",
    "fig_heatmap = bqplot.Figure(marks = [heat_map], axes = [c_ax, y_ax, x_ax])\n",
    "fig_dur = bqplot.Figure(marks = [line_plot], axes = [xl_ax, yl_ax])"
   ]
  },
  {
   "cell_type": "code",
   "execution_count": 42,
   "metadata": {},
   "outputs": [
    {
     "data": {
      "application/vnd.jupyter.widget-view+json": {
       "model_id": "4d2784b2cc7d47a488a26d01c24d5496",
       "version_major": 2,
       "version_minor": 0
      },
      "text/plain": [
       "VBox(children=(Label(value=''), VBox(children=(Figure(axes=[ColorAxis(orientation='vertical', scale=ColorScale…"
      ]
     },
     "metadata": {},
     "output_type": "display_data"
    }
   ],
   "source": [
    "fig_heatmap.layout.min_width='600px'\n",
    "fig_dur.layout.min_width='500px'\n",
    "\n",
    "myDashboard = ipywidgets.VBox([mySelectedLabel, ipywidgets.VBox([fig_heatmap,fig_dur])])\n",
    "myDashboard"
   ]
  },
  {
   "cell_type": "markdown",
   "metadata": {},
   "source": [
    "## Inferences and Takeaway"
   ]
  },
  {
   "cell_type": "markdown",
   "metadata": {},
   "source": [
    "* I was not able to keep the X and Y ranges static on the graph as it kept on changing with the values i selected on the heatmap. As it is an interactive graph making the X and Y values might lead to a little clustred represnetation of data if we have a large scale of value or on the contrast we might not even see the data if it is very largely distributed or out of range. So I dont see any problem in dynamic ranges but I did not try to make them static.\n",
    "\n",
    "* Also I was able to change the colour of my line plot and style to it. By using the lineplot.keys functionality I can maipulate by plot as per my needs\n",
    "\n",
    "* Lastly I was still little lost when I was binning my data and masking it for thr interactive dashboard. I wanted to change the plot style like we did in our last assignment with a widget but was not very successful in doing so. "
   ]
  },
  {
   "cell_type": "code",
   "execution_count": null,
   "metadata": {},
   "outputs": [],
   "source": []
  }
 ],
 "metadata": {
  "kernelspec": {
   "display_name": "Python 3",
   "language": "python",
   "name": "python3"
  },
  "language_info": {
   "codemirror_mode": {
    "name": "ipython",
    "version": 3
   },
   "file_extension": ".py",
   "mimetype": "text/x-python",
   "name": "python",
   "nbconvert_exporter": "python",
   "pygments_lexer": "ipython3",
   "version": "3.7.1"
  }
 },
 "nbformat": 4,
 "nbformat_minor": 2
}
