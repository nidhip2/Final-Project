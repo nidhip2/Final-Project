{
 "cells": [
  {
   "cell_type": "markdown",
   "metadata": {},
   "source": [
    "# History Of the Riches"
   ]
  },
  {
   "cell_type": "markdown",
   "metadata": {},
   "source": [
    "## Details about the DataSet\n",
    "\n",
    "* The name of the data set is Billionaires. (Raw Csv format)\n",
    "* The data set is obtained from CORGIS: The Collection of Really Great, Interesting, Situated Datasets and was compiled by Ryan Whitcomb on 5-17-16\n",
    "* The daset comprises of the data of super-rich. Building off the Forbes World’s Billionaires lists from 1996-2014, scholars at Peterson Institute for International Economics have added a couple dozen more variables about each billionaire - including whether they were self-made or inherited their wealth. The datset can be downloaded from https://think.cs.vt.edu/corgis/csv/billionaires/\n",
    "* The copyright belongs to - © 2020 CORGIS Datasets Project. Project by Austin Cory Bart, Dennis Kafura, Clifford A. Shaffer, Javier Tibau, Luke Gusukuma, Eli Tilevich. The dataset is public and can be downloaded and used for personal projects.\n",
    "* The file is of 594 KB and can be easily downloaded. There are 2614 rows and 22 Columns in the file."
   ]
  },
  {
   "cell_type": "markdown",
   "metadata": {},
   "source": [
    "## Characteristics of the dataset\n",
    "\n",
    "* The dataset consists of the billionare list from the year 1975 to 2012. It comprises of the ranking they have on the forbes list and on which year they accquired this ranking. The year suggests when this data was collected. There are 0 values in this column which needs to be replaced by nan value.\n",
    "* There are 22 columns in th dataset with various data type as int64, object, bool, and float64.\n",
    "* The data is very simple in nature and needs basic cleaning like log values, null values and group by to achieve substantial relationship between the columns.\n",
    "* In this data I wish to define some of the following things:\n",
    "    1. Distribution of wealth by type of billionaire, advanced economies\n",
    "    2. Inherited wealth distribution by generation for a specific year or year range\n",
    "    3. Distribution of billionaires by type and advanced economies\n",
    "    4. Distribution of billionaires by source of wealth i.e they are self-made or they are inherited."
   ]
  },
  {
   "cell_type": "code",
   "execution_count": 1,
   "metadata": {},
   "outputs": [
    {
     "name": "stderr",
     "output_type": "stream",
     "text": [
      "\n",
      "Bad key \"text.kerning_factor\" on line 4 in\n",
      "C:\\Users\\npali\\Anaconda3\\lib\\site-packages\\matplotlib\\mpl-data\\stylelib\\_classic_test_patch.mplstyle.\n",
      "You probably need to get an updated matplotlibrc file from\n",
      "https://github.com/matplotlib/matplotlib/blob/v3.1.3/matplotlibrc.template\n",
      "or from the matplotlib source distribution\n"
     ]
    }
   ],
   "source": [
    "%matplotlib inline\n",
    "import warnings\n",
    "import matplotlib as mpl\n",
    "import matplotlib.colors as mpl_colors\n",
    "import matplotlib.pyplot as plt\n",
    "warnings.filterwarnings('ignore')\n",
    "import numpy as np\n",
    "import pandas as pd\n",
    "import ipywidgets\n"
   ]
  },
  {
   "cell_type": "code",
   "execution_count": 2,
   "metadata": {},
   "outputs": [],
   "source": [
    "billionaires = pd.read_csv(\"billionaires.csv\") # read the csv file"
   ]
  },
  {
   "cell_type": "code",
   "execution_count": 3,
   "metadata": {},
   "outputs": [
    {
     "data": {
      "text/plain": [
       "(2614, 22)"
      ]
     },
     "execution_count": 3,
     "metadata": {},
     "output_type": "execute_result"
    }
   ],
   "source": [
    "billionaires.shape # This gives the number of rows and columns in the dataset"
   ]
  },
  {
   "cell_type": "code",
   "execution_count": 4,
   "metadata": {},
   "outputs": [
    {
     "data": {
      "text/html": [
       "<div>\n",
       "<style scoped>\n",
       "    .dataframe tbody tr th:only-of-type {\n",
       "        vertical-align: middle;\n",
       "    }\n",
       "\n",
       "    .dataframe tbody tr th {\n",
       "        vertical-align: top;\n",
       "    }\n",
       "\n",
       "    .dataframe thead th {\n",
       "        text-align: right;\n",
       "    }\n",
       "</style>\n",
       "<table border=\"1\" class=\"dataframe\">\n",
       "  <thead>\n",
       "    <tr style=\"text-align: right;\">\n",
       "      <th></th>\n",
       "      <th>name</th>\n",
       "      <th>rank</th>\n",
       "      <th>year</th>\n",
       "      <th>company.founded</th>\n",
       "      <th>company.name</th>\n",
       "      <th>company.relationship</th>\n",
       "      <th>company.sector</th>\n",
       "      <th>company.type</th>\n",
       "      <th>demographics.age</th>\n",
       "      <th>demographics.gender</th>\n",
       "      <th>...</th>\n",
       "      <th>location.gdp</th>\n",
       "      <th>location.region</th>\n",
       "      <th>wealth.type</th>\n",
       "      <th>wealth.worth in billions</th>\n",
       "      <th>wealth.how.category</th>\n",
       "      <th>wealth.how.from emerging</th>\n",
       "      <th>wealth.how.industry</th>\n",
       "      <th>wealth.how.inherited</th>\n",
       "      <th>wealth.how.was founder</th>\n",
       "      <th>wealth.how.was political</th>\n",
       "    </tr>\n",
       "  </thead>\n",
       "  <tbody>\n",
       "    <tr>\n",
       "      <th>0</th>\n",
       "      <td>Bill Gates</td>\n",
       "      <td>1</td>\n",
       "      <td>1996</td>\n",
       "      <td>1975</td>\n",
       "      <td>Microsoft</td>\n",
       "      <td>founder</td>\n",
       "      <td>Software</td>\n",
       "      <td>new</td>\n",
       "      <td>40</td>\n",
       "      <td>male</td>\n",
       "      <td>...</td>\n",
       "      <td>8.100000e+12</td>\n",
       "      <td>North America</td>\n",
       "      <td>founder non-finance</td>\n",
       "      <td>18.5</td>\n",
       "      <td>New Sectors</td>\n",
       "      <td>True</td>\n",
       "      <td>Technology-Computer</td>\n",
       "      <td>not inherited</td>\n",
       "      <td>True</td>\n",
       "      <td>True</td>\n",
       "    </tr>\n",
       "    <tr>\n",
       "      <th>1</th>\n",
       "      <td>Bill Gates</td>\n",
       "      <td>1</td>\n",
       "      <td>2001</td>\n",
       "      <td>1975</td>\n",
       "      <td>Microsoft</td>\n",
       "      <td>founder</td>\n",
       "      <td>Software</td>\n",
       "      <td>new</td>\n",
       "      <td>45</td>\n",
       "      <td>male</td>\n",
       "      <td>...</td>\n",
       "      <td>1.060000e+13</td>\n",
       "      <td>North America</td>\n",
       "      <td>founder non-finance</td>\n",
       "      <td>58.7</td>\n",
       "      <td>New Sectors</td>\n",
       "      <td>True</td>\n",
       "      <td>Technology-Computer</td>\n",
       "      <td>not inherited</td>\n",
       "      <td>True</td>\n",
       "      <td>True</td>\n",
       "    </tr>\n",
       "    <tr>\n",
       "      <th>2</th>\n",
       "      <td>Bill Gates</td>\n",
       "      <td>1</td>\n",
       "      <td>2014</td>\n",
       "      <td>1975</td>\n",
       "      <td>Microsoft</td>\n",
       "      <td>founder</td>\n",
       "      <td>Software</td>\n",
       "      <td>new</td>\n",
       "      <td>58</td>\n",
       "      <td>male</td>\n",
       "      <td>...</td>\n",
       "      <td>0.000000e+00</td>\n",
       "      <td>North America</td>\n",
       "      <td>founder non-finance</td>\n",
       "      <td>76.0</td>\n",
       "      <td>New Sectors</td>\n",
       "      <td>True</td>\n",
       "      <td>Technology-Computer</td>\n",
       "      <td>not inherited</td>\n",
       "      <td>True</td>\n",
       "      <td>True</td>\n",
       "    </tr>\n",
       "    <tr>\n",
       "      <th>3</th>\n",
       "      <td>Warren Buffett</td>\n",
       "      <td>2</td>\n",
       "      <td>1996</td>\n",
       "      <td>1962</td>\n",
       "      <td>Berkshire Hathaway</td>\n",
       "      <td>founder</td>\n",
       "      <td>Finance</td>\n",
       "      <td>new</td>\n",
       "      <td>65</td>\n",
       "      <td>male</td>\n",
       "      <td>...</td>\n",
       "      <td>8.100000e+12</td>\n",
       "      <td>North America</td>\n",
       "      <td>founder non-finance</td>\n",
       "      <td>15.0</td>\n",
       "      <td>Traded Sectors</td>\n",
       "      <td>True</td>\n",
       "      <td>Consumer</td>\n",
       "      <td>not inherited</td>\n",
       "      <td>True</td>\n",
       "      <td>True</td>\n",
       "    </tr>\n",
       "    <tr>\n",
       "      <th>4</th>\n",
       "      <td>Warren Buffett</td>\n",
       "      <td>2</td>\n",
       "      <td>2001</td>\n",
       "      <td>1962</td>\n",
       "      <td>Berkshire Hathaway</td>\n",
       "      <td>founder</td>\n",
       "      <td>Finance</td>\n",
       "      <td>new</td>\n",
       "      <td>70</td>\n",
       "      <td>male</td>\n",
       "      <td>...</td>\n",
       "      <td>1.060000e+13</td>\n",
       "      <td>North America</td>\n",
       "      <td>founder non-finance</td>\n",
       "      <td>32.3</td>\n",
       "      <td>Traded Sectors</td>\n",
       "      <td>True</td>\n",
       "      <td>Consumer</td>\n",
       "      <td>not inherited</td>\n",
       "      <td>True</td>\n",
       "      <td>True</td>\n",
       "    </tr>\n",
       "  </tbody>\n",
       "</table>\n",
       "<p>5 rows × 22 columns</p>\n",
       "</div>"
      ],
      "text/plain": [
       "             name  rank  year  company.founded        company.name  \\\n",
       "0      Bill Gates     1  1996             1975           Microsoft   \n",
       "1      Bill Gates     1  2001             1975           Microsoft   \n",
       "2      Bill Gates     1  2014             1975           Microsoft   \n",
       "3  Warren Buffett     2  1996             1962  Berkshire Hathaway   \n",
       "4  Warren Buffett     2  2001             1962  Berkshire Hathaway   \n",
       "\n",
       "  company.relationship company.sector company.type  demographics.age  \\\n",
       "0              founder       Software          new                40   \n",
       "1              founder       Software          new                45   \n",
       "2              founder       Software          new                58   \n",
       "3              founder        Finance          new                65   \n",
       "4              founder        Finance          new                70   \n",
       "\n",
       "  demographics.gender  ...  location.gdp location.region          wealth.type  \\\n",
       "0                male  ...  8.100000e+12   North America  founder non-finance   \n",
       "1                male  ...  1.060000e+13   North America  founder non-finance   \n",
       "2                male  ...  0.000000e+00   North America  founder non-finance   \n",
       "3                male  ...  8.100000e+12   North America  founder non-finance   \n",
       "4                male  ...  1.060000e+13   North America  founder non-finance   \n",
       "\n",
       "  wealth.worth in billions wealth.how.category  wealth.how.from emerging  \\\n",
       "0                     18.5         New Sectors                      True   \n",
       "1                     58.7         New Sectors                      True   \n",
       "2                     76.0         New Sectors                      True   \n",
       "3                     15.0      Traded Sectors                      True   \n",
       "4                     32.3      Traded Sectors                      True   \n",
       "\n",
       "   wealth.how.industry  wealth.how.inherited wealth.how.was founder  \\\n",
       "0  Technology-Computer         not inherited                   True   \n",
       "1  Technology-Computer         not inherited                   True   \n",
       "2  Technology-Computer         not inherited                   True   \n",
       "3             Consumer         not inherited                   True   \n",
       "4             Consumer         not inherited                   True   \n",
       "\n",
       "  wealth.how.was political  \n",
       "0                     True  \n",
       "1                     True  \n",
       "2                     True  \n",
       "3                     True  \n",
       "4                     True  \n",
       "\n",
       "[5 rows x 22 columns]"
      ]
     },
     "execution_count": 4,
     "metadata": {},
     "output_type": "execute_result"
    }
   ],
   "source": [
    "billionaires.head() # Displayes the first 5 rows of the dataset"
   ]
  },
  {
   "cell_type": "code",
   "execution_count": 5,
   "metadata": {},
   "outputs": [
    {
     "data": {
      "text/plain": [
       "1577"
      ]
     },
     "execution_count": 5,
     "metadata": {},
     "output_type": "execute_result"
    }
   ],
   "source": [
    "billionaires[\"company.name\"].nunique() # How many comapnies are there in the dataset"
   ]
  },
  {
   "cell_type": "code",
   "execution_count": 6,
   "metadata": {},
   "outputs": [
    {
     "data": {
      "text/plain": [
       "array([' Software', ' Finance', ' Communications', 'pharmaceuticals',\n",
       "       'technology', 'Fashion', 'real estate', ' software',\n",
       "       'banking and insurance', 'groceries',\n",
       "       'construction/real estate/banking', '  Oil refining',\n",
       "       ' Oil refining', 'retail', ' retail', ' casinos', 'food packaging',\n",
       "       'cars', 'cosmetics', nan, ' fashion', 'media', 'luxury goods',\n",
       "       'oil, railroad, investments', ' finance', 'cigarettes',\n",
       "       'furniture', ' technology', 'oil', 'chocolates', 'banking',\n",
       "       'commodities (sugar, cement flour)', 'computer services',\n",
       "       'investment (via holding company)', 'apparel', 'hedge funds',\n",
       "       'mail order retail', 'construction, hotels, gaming', 'finance',\n",
       "       'investment banking', 'metals, paper, cement', 'candy',\n",
       "       'investment banking/beer', 'electronics', 'oil infrastructure',\n",
       "       'glasses', 'aluminum, oil', 'brewery', 'metals', 'textiles',\n",
       "       'software', 'chemicals', 'coal', 'consumer goods', 'mining',\n",
       "       'venture capitalist', 'brokerage/banking', 'construction', 'steel',\n",
       "       'oilfield services', 'construction/insurance', 'consumer loans',\n",
       "       'energy, retail, manufacturing', 'fashion', 'hotels', 'gas',\n",
       "       'holding company', 'oil trading', 'construction/real estate',\n",
       "       'copper', 'credit cards', 'timber', 'banking/insurance',\n",
       "       'shipping', 'roller bearings', 'petrochemicals', 'aviation',\n",
       "       'coffee', 'oil tankers', 'insurance', 'internet',\n",
       "       'financial services', 'beer', 'diamonds', 'e-commerce',\n",
       "       'publishing', 'cleaning supplies', 'rental cars',\n",
       "       'data processing', 'private investment company',\n",
       "       'industrial manufacturing and banking', 'casinos', 'food', 'jeans',\n",
       "       'beverages', 'diversified investments', 'aluminum', 'cruises',\n",
       "       'automotive parts', 'food distribution', 'toys', 'oil and gas',\n",
       "       'makeup', 'printers', 'investment', 'cigarette',\n",
       "       'textiles, industrial goods, media', 'real estate/banking',\n",
       "       'precious metals', 'luxury fashion', 'medical technology',\n",
       "       'transportation', 'finance ', 'agricultural products', 'liquor',\n",
       "       'cell phones', 'watches', 'screws', 'energy',\n",
       "       'industrial automation', 'logging', 'media, exports', 'healthcare',\n",
       "       'private equity', 'construcion', 'entertainment', 'utilities',\n",
       "       'home improvement retail', 'golf courses', 'staffing services',\n",
       "       'travel company', 'Banking', 'clothing ', 'HR consulting',\n",
       "       'auto dealerships', 'alcohol', 'asset management',\n",
       "       'aerospace and defense', 'gum', 'cans', 'fertilizer',\n",
       "       'stock brokerage', 'tires', 'Star Wars', 'telecommunications',\n",
       "       'airport maintenance', 'trade investment', 'trading company',\n",
       "       'video games', 'clothing', 'cement', 'internet service provider',\n",
       "       'small-company lending', 'commodities (wheat, oil, shipping)',\n",
       "       'chocolate and coffee', 'aircraft leasing', 'cheese',\n",
       "       'advertising', 'tobacco/luxury brands', 'tobacco', 'mutal funds',\n",
       "       'hardware stores', 'restaurants', 'mobile phones', 'racing',\n",
       "       'paper manufacturing/investment', 'comodities', 'autos',\n",
       "       'brake systems', 'gaming', 'appliances', 'semiconductors',\n",
       "       'pet supplies, real estate', 'manufacturing',\n",
       "       'property development', 'auto engines', 'glass', 'mobile app',\n",
       "       'medical supplies', 'shopping centers', 'waste management',\n",
       "       'zippers', 'soup', 'natural gas', 'movies', 'automobiles',\n",
       "       'hospitals', 'timber and paper', 'money management',\n",
       "       'fiber optic cables', 'technology publishing', 'data storage',\n",
       "       'movie theatres', 'computers', 'telecomm', 'pachinko',\n",
       "       'pachinko gaming machines', 'industrial goods',\n",
       "       'printing and electronics', 'technology consulting',\n",
       "       'medical devices', 'real estate/sports teams', 'armaments',\n",
       "       'agribusiness', 'sporting goods', 'postal service, beverages',\n",
       "       'tools', 'construction, utilities', 'electricity', 'cork',\n",
       "       'industrial tools', 'iron ore', 'metals/banking', 'plastics',\n",
       "       'payroll processing', 'greeting cards', 'supermarkets',\n",
       "       'electric motors', 'uniforms', 'food processing/commodities',\n",
       "       'utilities/financial services', 'airplanes', 'leveraged buyouts',\n",
       "       'currency trading', 'agriculture', 'banking, media', 'pet food',\n",
       "       'apparel and eyewear', 'wine', 'food processing', 'microchips',\n",
       "       'steel/banking', 'biotech', 'staffing company', 'shoes',\n",
       "       'steel/oil', 'soft drinks', 'cotton yarn', 'commodities trading',\n",
       "       'oil field services', 'cable', 'shale', 'telecom', 'stock broker',\n",
       "       'computer parts', 'real estate, retail', 'trucking', 'banannas',\n",
       "       'roofing', 'oil/telecommunications', 'catering', 'vacuum cleaners',\n",
       "       'finace', 'auto sales, energy', 'confectionary', 'airline',\n",
       "       'hospitality', 'gas and propane', 'palm oil/real estate',\n",
       "       'heavy manufacturing', 'mobile phone batteries', 'paper',\n",
       "       'port containers', 'banking/publishing',\n",
       "       'investments/real estate, sports teams', 'internet provider',\n",
       "       'copper/mining', 'tortillas', 'media, pipelines',\n",
       "       'web broadcasting', 'cogeneration', 'internet company',\n",
       "       'heavy equiptment (excavators, backhoes and tractors)', 'laptops',\n",
       "       'food production', 'auto parts', 'outsourcing',\n",
       "       'education, language schools', 'security ', 'sports retail',\n",
       "       'biotech investing', 'express delivery services',\n",
       "       'life insurance ', 'self-storage', 'dairy', 'investments',\n",
       "       'new technology', 'service assurance instruments',\n",
       "       'manufacturing, real estate, aviation', 'building materials',\n",
       "       'wool', 'fertalizers', 'steel ', 'self storage', 'mining, banking',\n",
       "       'drinks', 'grain', 'wind energy', 'security equipment',\n",
       "       'telecom/investments', 'electronic componants', 'food products',\n",
       "       'retail, home appliances', 'lumber, real estate', 'television',\n",
       "       'electronic interconnectors', 'lawsuits',\n",
       "       'internet service company', 'banking, oil, aluminum',\n",
       "       'hair care products', 'life insurance',\n",
       "       'beer and food distribution', 'telecom, oil, beer', 'security',\n",
       "       'diapers', 'spirits', 'petrochemicals and textiles',\n",
       "       'commercial pilot training', 'salsa', 'satallite communications',\n",
       "       'risk management', 'supply chain', 'biopharmaceutical',\n",
       "       'elevators, escalators, engineering', 'petroleum', 'drug stores',\n",
       "       'security and surveillance technology', 'wine and spirits',\n",
       "       'cloud computing', 'oil/investments', 'food and energy processess',\n",
       "       'retail, financial services, real estate',\n",
       "       'petrochemicals, textiles', 'sports', 'business centers',\n",
       "       'networking equipment', 'mutual funds', 'consumer retail',\n",
       "       'manufacturing (agriculture, steel, electronics)', 'animal feed',\n",
       "       'pipelines', 'banking, real estate', 'natural flavors',\n",
       "       'hospitality and food service', 'healthcare management',\n",
       "       'rice trading, mining, infrastructure', 'dairy products',\n",
       "       'restaurant', 'industrial software', 'seeds',\n",
       "       'hair care products/tequila',\n",
       "       'real estate, financial services and computers',\n",
       "       'sports equipment', 'frozen foods', 'footwear',\n",
       "       'metals and mining', 'kitchen appliances', 'paper products',\n",
       "       'real estate (shopping malls)', 'energy (coal, oil and gas)',\n",
       "       'hair care products ', 'shoe retail', 'iron and steel',\n",
       "       'video technology', 'wireless products', 'fashion retail',\n",
       "       'heating systems', 'internet companies', 'real estate and metals',\n",
       "       'trading', 'music', 'fashion/oil', 'GPS technology', 'soy sauce',\n",
       "       'gambling software', 'airport', 'mortgages', 'agriculteral',\n",
       "       'IT Consulting', 'bicycles', 'beauty and health care products',\n",
       "       'nutrition supplements', 'oil and natural gas', 'palm oil', 'port',\n",
       "       'mortgage banking', 'aplliances', 'trucking and logistics',\n",
       "       'domestic appliances', 'e-commerce, venture capital', 'paint',\n",
       "       'oil services', 'bank', 'construction,banking', 'trucking ',\n",
       "       'lumber', 'hair care', 'food retail', 'payroll processing ',\n",
       "       'solar energy', 'oleochemicals and palm oil', 'animation',\n",
       "       'food manufacturing', 'oil exploration equipment', 'fertilizers',\n",
       "       'internet domain and web hosting', 'airports',\n",
       "       'automotive components', 'invetsments', 'hotels and supermarkets',\n",
       "       'logistics', 'ethanol', 'property, textile manufacturing',\n",
       "       'beverages and food', 'processing machinary', 'leather',\n",
       "       'banking and real estate', 'palm oil, mining', 'trade fairs',\n",
       "       'flavorings', 'healthcare IT', 'education', 'apparel retail',\n",
       "       'medical equipment', 'shipbuilding', 'art dealing', 'truck stops',\n",
       "       'timber, plantations', 'printing', 'flooring',\n",
       "       'architectural products', 'heavy equipment', 'air compressors',\n",
       "       'gambing', 'cars, finance', 'sports team', 'food, entertainment',\n",
       "       'bottled water', 'gas pipeline', 'commodities',\n",
       "       'forestry and mining', 'investment mangagment', 'sewage treatment',\n",
       "       'home building materials', 'social network', 'toll roads',\n",
       "       'cleaning products', 'bridge to canada',\n",
       "       'locomotive manufacturing', 'landscape architecture', 'truck stop',\n",
       "       'electonics', 'insurancei, power', 'information services',\n",
       "       'leveraged buyout', 'meat products', 'financial information',\n",
       "       'telecom, finance', 'yogurt', 'auto repair', 'winter jackets',\n",
       "       'mining, steel', 'antennas', 'mass transit', 'snack foods',\n",
       "       'oil refining', 'home furnishings', 'auto components', 'cameras',\n",
       "       'sewing machines', 'aigriculture', 'automotives', 'online gaming',\n",
       "       'broadcasting', 'automobile dealers', 'power engineering',\n",
       "       'sugar, flour, cement', 'braking systems', 'infrastructure',\n",
       "       'auto glass', 'tire manufacturing', 'commodity trading',\n",
       "       'automotive', 'laboratory services', 'iron', 'copper, poultry',\n",
       "       'mettallurgy', 'diamond jewelry', 'measuring instruments',\n",
       "       'motorcycles', 'wrestling promotion', 'ports, gas',\n",
       "       'gas, petrochemicals', 'boats', 'industrial equipment',\n",
       "       'port logistics', 'watch retail', 'polymers', 'pipes',\n",
       "       'laundry soap', 'elevators', 'plastic', 'meat processing',\n",
       "       'mining, investments', 'tractors', 'oilfield equipment',\n",
       "       'infant formula', 'dental implants', 'milk', 'eyeglasses',\n",
       "       'cranes', 'electonics components', 'linear actuators',\n",
       "       'sportswear', 'auto retail', 'relocation services', 'engineering',\n",
       "       'hostile takeovers', 'film', 'jewelry', 'food sweeteners'],\n",
       "      dtype=object)"
      ]
     },
     "execution_count": 6,
     "metadata": {},
     "output_type": "execute_result"
    }
   ],
   "source": [
    "billionaires[\"company.sector\"].unique() # How many company sectors are there in the dataset"
   ]
  },
  {
   "cell_type": "code",
   "execution_count": 7,
   "metadata": {},
   "outputs": [
    {
     "data": {
      "text/plain": [
       "array(['not inherited', '3rd generation', 'father', 'spouse/widow',\n",
       "       '5th generation or longer', '4th generation'], dtype=object)"
      ]
     },
     "execution_count": 7,
     "metadata": {},
     "output_type": "execute_result"
    }
   ],
   "source": [
    "billionaires[\"wealth.how.inherited\"].unique() # How was the wealth inherited"
   ]
  },
  {
   "cell_type": "code",
   "execution_count": 8,
   "metadata": {},
   "outputs": [
    {
     "data": {
      "text/plain": [
       "array(['founder non-finance', 'privatized and resources', 'inherited',\n",
       "       'self-made finance', 'executive', nan], dtype=object)"
      ]
     },
     "execution_count": 8,
     "metadata": {},
     "output_type": "execute_result"
    }
   ],
   "source": [
    "billionaires[\"wealth.type\"].unique()  # What was the type of the wealth inherited"
   ]
  },
  {
   "cell_type": "code",
   "execution_count": 9,
   "metadata": {},
   "outputs": [
    {
     "data": {
      "text/plain": [
       "array(['North America', 'Latin America', 'Europe', 'East Asia',\n",
       "       'Middle East/North Africa', 'Sub-Saharan Africa', 'South Asia',\n",
       "       '0'], dtype=object)"
      ]
     },
     "execution_count": 9,
     "metadata": {},
     "output_type": "execute_result"
    }
   ],
   "source": [
    "billionaires[\"location.region\"].unique() # Count of the unique company sectors are there in the dataset"
   ]
  },
  {
   "cell_type": "code",
   "execution_count": 10,
   "metadata": {},
   "outputs": [
    {
     "data": {
      "text/plain": [
       "name                         object\n",
       "rank                          int64\n",
       "year                          int64\n",
       "company.founded               int64\n",
       "company.name                 object\n",
       "company.relationship         object\n",
       "company.sector               object\n",
       "company.type                 object\n",
       "demographics.age              int64\n",
       "demographics.gender          object\n",
       "location.citizenship         object\n",
       "location.country code        object\n",
       "location.gdp                float64\n",
       "location.region              object\n",
       "wealth.type                  object\n",
       "wealth.worth in billions    float64\n",
       "wealth.how.category          object\n",
       "wealth.how.from emerging       bool\n",
       "wealth.how.industry          object\n",
       "wealth.how.inherited         object\n",
       "wealth.how.was founder         bool\n",
       "wealth.how.was political       bool\n",
       "dtype: object"
      ]
     },
     "execution_count": 10,
     "metadata": {},
     "output_type": "execute_result"
    }
   ],
   "source": [
    "billionaires.dtypes # gives the data type of all the columns in the dataset"
   ]
  },
  {
   "cell_type": "code",
   "execution_count": 11,
   "metadata": {},
   "outputs": [
    {
     "data": {
      "text/plain": [
       "2609    Taiwan\n",
       "2610       CHN\n",
       "2611       CHN\n",
       "2612       CZE\n",
       "2613       CHN\n",
       "Name: location.country code, dtype: object"
      ]
     },
     "execution_count": 11,
     "metadata": {},
     "output_type": "execute_result"
    }
   ],
   "source": [
    "billionaires['location.country code'].tail() # Display rows of the dataset"
   ]
  },
  {
   "cell_type": "code",
   "execution_count": 12,
   "metadata": {},
   "outputs": [
    {
     "data": {
      "text/plain": [
       "array(['United States', 'Mexico', 'Switzerland', 'Spain', 'Hong Kong',\n",
       "       'Taiwan', 'Germany', 'Saudi Arabia', 'Japan', 'Sweden', 'France',\n",
       "       'Canada', 'Philippines', 'Indonesia', 'South Korea', 'Malaysia',\n",
       "       'Italy', 'Singapore', 'Nigeria', 'Brazil', 'Russia', 'India',\n",
       "       'United Kingdom', 'Australia', 'Thailand', 'Kuwait', 'Turkey',\n",
       "       'Chile', 'Netherlands', 'Venezuela', 'China', 'Argentina',\n",
       "       'Greece', 'Colombia', 'Cyprus', 'South Africa', 'Ireland',\n",
       "       'Ukraine', 'Czech Republic', 'Israel', 'Denmark', 'Lebanon',\n",
       "       'Austria', 'New Zealand', 'Egypt', 'Bermuda', 'Portugal',\n",
       "       'United Arab Emirates', 'Liechtenstein', 'Georgia', 'Norway',\n",
       "       'Belgium', 'Ecuador', 'Bahrain', 'Peru', 'Angola', 'Swaziland',\n",
       "       'Poland', 'Finland', 'Algeria', 'Morocco', 'Guernsey',\n",
       "       'Kazakhstan', 'Macau', 'Monaco', 'Vietnam', 'Romania',\n",
       "       'St. Kitts and Nevis', 'Oman', 'Nepal', 'Uganda', 'Lithuania',\n",
       "       'Tanzania'], dtype=object)"
      ]
     },
     "execution_count": 12,
     "metadata": {},
     "output_type": "execute_result"
    }
   ],
   "source": [
    "billionaires[\"location.citizenship\"].unique() # for the geographical mapping"
   ]
  },
  {
   "cell_type": "markdown",
   "metadata": {},
   "source": [
    "##### The dashboard designed will help us in identifying the following things from the dataset:\n",
    "* The number of Billionan the world\n",
    "* Which country has the most number of billionares\n",
    "* Which country has seen the fastest growth billionares in the world\n",
    "* Total new woth of the billionares in the economies (already established and advanced)\n",
    "* From which sector these ecenomies have derived their wealth from\n",
    "* Which age group do the maximum number of billionares lie in ?\n",
    "* How many number of billionares are male and female and is their wealth is inherited or self made?\n",
    "\n",
    "#### In addition to this dataset I have identified another datset of the same nature whoch can add another dimension to this analysis\n",
    "* The forbes billionare dataset 'https://www.forbes.com/real-time-billionaires/#5e6139b83d78\n",
    "* This datset gives the list of curent billionares as of 2020. IT gives there real time worth and net chage in the current market. This data needs to be scraped from the website or requested and this can help us to identify that with current condition of the market how has thier new worth been affected."
   ]
  },
  {
   "cell_type": "markdown",
   "metadata": {},
   "source": [
    "#### Lets rename the column in the dataframe to our convineance"
   ]
  },
  {
   "cell_type": "code",
   "execution_count": 13,
   "metadata": {},
   "outputs": [],
   "source": [
    "billionaires.columns = ['Name','Rank','Year','Company_Founded','Company_Name','Company_Relationship', \n",
    "                        'Company_Sector','Company_Type','Demographics_Age', 'Demographics_Gender','Location_Citizenship',\n",
    "                        'Location_Country Code','Location_Gdp','Location_Region','Wealth_Type','Wealth_Worth_In_Billions',\n",
    "                        'Wealth_How_Category','Wealth_How_From_Emerging','Wealth_How_Industry','Wealth_How_Inherited', \n",
    "                        'Wealth_How_Was_Founder','Wealth_How_Was_Political']"
   ]
  },
  {
   "cell_type": "code",
   "execution_count": 51,
   "metadata": {},
   "outputs": [],
   "source": [
    "temp_df=billionaires[[\"Year\", \"Rank\", \"Company_Sector\"]]\n",
    "billions_data=billionaires.sort_values([\"Year\",\"Rank\"], ascending=[True, True])\n",
    "for i in billions_data['Year'].unique():\n",
    "    if i==1996:\n",
    "        temp=pd.DataFrame(columns=[\"Year\", \"Rank\", \"Company_Sector\"])\n",
    "        temp_data=billions_data[billions_data['Year']==i][:10]\n",
    "    #print(temp_data) # to Verify"
   ]
  },
  {
   "cell_type": "markdown",
   "metadata": {},
   "source": [
    "### The columns in the dataset"
   ]
  },
  {
   "cell_type": "code",
   "execution_count": 15,
   "metadata": {},
   "outputs": [
    {
     "data": {
      "text/plain": [
       "Index(['Name', 'Rank', 'Year', 'Company_Founded', 'Company_Name',\n",
       "       'Company_Relationship', 'Company_Sector', 'Company_Type',\n",
       "       'Demographics_Age', 'Demographics_Gender', 'Location_Citizenship',\n",
       "       'Location_Country Code', 'Location_Gdp', 'Location_Region',\n",
       "       'Wealth_Type', 'Wealth_Worth_In_Billions', 'Wealth_How_Category',\n",
       "       'Wealth_How_From_Emerging', 'Wealth_How_Industry',\n",
       "       'Wealth_How_Inherited', 'Wealth_How_Was_Founder',\n",
       "       'Wealth_How_Was_Political'],\n",
       "      dtype='object')"
      ]
     },
     "execution_count": 15,
     "metadata": {},
     "output_type": "execute_result"
    }
   ],
   "source": [
    "billionaires.columns"
   ]
  },
  {
   "cell_type": "code",
   "execution_count": 16,
   "metadata": {},
   "outputs": [
    {
     "data": {
      "text/plain": [
       "1"
      ]
     },
     "execution_count": 16,
     "metadata": {},
     "output_type": "execute_result"
    }
   ],
   "source": [
    "#billionaires[\"Rank\"].max()  ## To check the max age\n",
    "billionaires[\"Rank\"].min()  ## To check the max age"
   ]
  },
  {
   "cell_type": "markdown",
   "metadata": {},
   "source": [
    "Lets replace the 0 age and the -ve age values with the mean value of the column."
   ]
  },
  {
   "cell_type": "code",
   "execution_count": 17,
   "metadata": {},
   "outputs": [],
   "source": [
    "billionaires['Demographics_Age']=billionaires.Demographics_Age.mask(billionaires.Demographics_Age == -42, 0)\n",
    "billionaires['Demographics_Age']=billionaires.Demographics_Age.mask(billionaires.Demographics_Age == -7, 0)"
   ]
  },
  {
   "cell_type": "code",
   "execution_count": 18,
   "metadata": {},
   "outputs": [
    {
     "data": {
      "text/plain": [
       "53"
      ]
     },
     "execution_count": 18,
     "metadata": {},
     "output_type": "execute_result"
    }
   ],
   "source": [
    "mean_age = billionaires[\"Demographics_Age\"].mean(skipna=True)\n",
    "int(mean_age)"
   ]
  },
  {
   "cell_type": "code",
   "execution_count": 19,
   "metadata": {},
   "outputs": [],
   "source": [
    "billionaires['Demographics_Age']=billionaires.Demographics_Age.mask(billionaires.Demographics_Age == 0,int(mean_age))"
   ]
  },
  {
   "cell_type": "code",
   "execution_count": 20,
   "metadata": {
    "scrolled": true
   },
   "outputs": [
    {
     "data": {
      "text/html": [
       "<div>\n",
       "<style scoped>\n",
       "    .dataframe tbody tr th:only-of-type {\n",
       "        vertical-align: middle;\n",
       "    }\n",
       "\n",
       "    .dataframe tbody tr th {\n",
       "        vertical-align: top;\n",
       "    }\n",
       "\n",
       "    .dataframe thead th {\n",
       "        text-align: right;\n",
       "    }\n",
       "</style>\n",
       "<table border=\"1\" class=\"dataframe\">\n",
       "  <thead>\n",
       "    <tr style=\"text-align: right;\">\n",
       "      <th></th>\n",
       "      <th>Name</th>\n",
       "      <th>Rank</th>\n",
       "      <th>Year</th>\n",
       "      <th>Company_Founded</th>\n",
       "      <th>Company_Name</th>\n",
       "      <th>Company_Relationship</th>\n",
       "      <th>Company_Sector</th>\n",
       "      <th>Company_Type</th>\n",
       "      <th>Demographics_Age</th>\n",
       "      <th>Demographics_Gender</th>\n",
       "      <th>...</th>\n",
       "      <th>Location_Gdp</th>\n",
       "      <th>Location_Region</th>\n",
       "      <th>Wealth_Type</th>\n",
       "      <th>Wealth_Worth_In_Billions</th>\n",
       "      <th>Wealth_How_Category</th>\n",
       "      <th>Wealth_How_From_Emerging</th>\n",
       "      <th>Wealth_How_Industry</th>\n",
       "      <th>Wealth_How_Inherited</th>\n",
       "      <th>Wealth_How_Was_Founder</th>\n",
       "      <th>Wealth_How_Was_Political</th>\n",
       "    </tr>\n",
       "  </thead>\n",
       "  <tbody>\n",
       "    <tr>\n",
       "      <th>6</th>\n",
       "      <td>Oeri Hoffman and Sacher</td>\n",
       "      <td>3</td>\n",
       "      <td>1996</td>\n",
       "      <td>1896</td>\n",
       "      <td>F. Hoffmann-La Roche</td>\n",
       "      <td>NaN</td>\n",
       "      <td>pharmaceuticals</td>\n",
       "      <td>new</td>\n",
       "      <td>53</td>\n",
       "      <td>NaN</td>\n",
       "      <td>...</td>\n",
       "      <td>3.300000e+11</td>\n",
       "      <td>Europe</td>\n",
       "      <td>inherited</td>\n",
       "      <td>13.1</td>\n",
       "      <td>New Sectors</td>\n",
       "      <td>True</td>\n",
       "      <td>Technology-Medical</td>\n",
       "      <td>3rd generation</td>\n",
       "      <td>True</td>\n",
       "      <td>True</td>\n",
       "    </tr>\n",
       "    <tr>\n",
       "      <th>13</th>\n",
       "      <td>Theo and Karl Albrecht</td>\n",
       "      <td>5</td>\n",
       "      <td>2001</td>\n",
       "      <td>1913</td>\n",
       "      <td>Aldi</td>\n",
       "      <td>founder</td>\n",
       "      <td>groceries</td>\n",
       "      <td>new</td>\n",
       "      <td>53</td>\n",
       "      <td>male</td>\n",
       "      <td>...</td>\n",
       "      <td>1.950000e+12</td>\n",
       "      <td>Europe</td>\n",
       "      <td>founder non-finance</td>\n",
       "      <td>25.0</td>\n",
       "      <td>Non-Traded Sectors</td>\n",
       "      <td>True</td>\n",
       "      <td>Retail, Restaurant</td>\n",
       "      <td>not inherited</td>\n",
       "      <td>True</td>\n",
       "      <td>True</td>\n",
       "    </tr>\n",
       "  </tbody>\n",
       "</table>\n",
       "<p>2 rows × 22 columns</p>\n",
       "</div>"
      ],
      "text/plain": [
       "                       Name  Rank  Year  Company_Founded  \\\n",
       "6   Oeri Hoffman and Sacher     3  1996             1896   \n",
       "13   Theo and Karl Albrecht     5  2001             1913   \n",
       "\n",
       "            Company_Name Company_Relationship   Company_Sector Company_Type  \\\n",
       "6   F. Hoffmann-La Roche                  NaN  pharmaceuticals          new   \n",
       "13                  Aldi              founder        groceries          new   \n",
       "\n",
       "    Demographics_Age Demographics_Gender  ...  Location_Gdp Location_Region  \\\n",
       "6                 53                 NaN  ...  3.300000e+11          Europe   \n",
       "13                53                male  ...  1.950000e+12          Europe   \n",
       "\n",
       "            Wealth_Type Wealth_Worth_In_Billions Wealth_How_Category  \\\n",
       "6             inherited                     13.1         New Sectors   \n",
       "13  founder non-finance                     25.0  Non-Traded Sectors   \n",
       "\n",
       "    Wealth_How_From_Emerging Wealth_How_Industry  Wealth_How_Inherited  \\\n",
       "6                       True  Technology-Medical        3rd generation   \n",
       "13                      True  Retail, Restaurant         not inherited   \n",
       "\n",
       "   Wealth_How_Was_Founder Wealth_How_Was_Political  \n",
       "6                    True                     True  \n",
       "13                   True                     True  \n",
       "\n",
       "[2 rows x 22 columns]"
      ]
     },
     "execution_count": 20,
     "metadata": {},
     "output_type": "execute_result"
    }
   ],
   "source": [
    "billionaires.loc[billionaires['Demographics_Age'] == 53].head(2)"
   ]
  },
  {
   "cell_type": "code",
   "execution_count": 21,
   "metadata": {},
   "outputs": [
    {
     "data": {
      "text/plain": [
       "Name                         0\n",
       "Rank                         0\n",
       "Year                         0\n",
       "Company_Founded              0\n",
       "Company_Name                38\n",
       "Company_Relationship        46\n",
       "Company_Sector              23\n",
       "Company_Type                36\n",
       "Demographics_Age             0\n",
       "Demographics_Gender         34\n",
       "Location_Citizenship         0\n",
       "Location_Country Code        0\n",
       "Location_Gdp                 0\n",
       "Location_Region              0\n",
       "Wealth_Type                 22\n",
       "Wealth_Worth_In_Billions     0\n",
       "Wealth_How_Category          1\n",
       "Wealth_How_From_Emerging     0\n",
       "Wealth_How_Industry          1\n",
       "Wealth_How_Inherited         0\n",
       "Wealth_How_Was_Founder       0\n",
       "Wealth_How_Was_Political     0\n",
       "dtype: int64"
      ]
     },
     "execution_count": 21,
     "metadata": {},
     "output_type": "execute_result"
    }
   ],
   "source": [
    "billionaires.isna().sum()"
   ]
  },
  {
   "cell_type": "code",
   "execution_count": 22,
   "metadata": {},
   "outputs": [
    {
     "data": {
      "text/html": [
       "<div>\n",
       "<style scoped>\n",
       "    .dataframe tbody tr th:only-of-type {\n",
       "        vertical-align: middle;\n",
       "    }\n",
       "\n",
       "    .dataframe tbody tr th {\n",
       "        vertical-align: top;\n",
       "    }\n",
       "\n",
       "    .dataframe thead th {\n",
       "        text-align: right;\n",
       "    }\n",
       "</style>\n",
       "<table border=\"1\" class=\"dataframe\">\n",
       "  <thead>\n",
       "    <tr style=\"text-align: right;\">\n",
       "      <th></th>\n",
       "      <th>Name</th>\n",
       "      <th>Rank</th>\n",
       "      <th>Year</th>\n",
       "      <th>Company_Founded</th>\n",
       "      <th>Company_Name</th>\n",
       "      <th>Company_Relationship</th>\n",
       "      <th>Company_Sector</th>\n",
       "      <th>Company_Type</th>\n",
       "      <th>Demographics_Age</th>\n",
       "      <th>Demographics_Gender</th>\n",
       "      <th>Location_Citizenship</th>\n",
       "      <th>Location_Country Code</th>\n",
       "      <th>Location_Gdp</th>\n",
       "      <th>Location_Region</th>\n",
       "      <th>Wealth_Type</th>\n",
       "      <th>Wealth_Worth_In_Billions</th>\n",
       "      <th>Wealth_How_Category</th>\n",
       "      <th>Wealth_How_From_Emerging</th>\n",
       "      <th>Wealth_How_Industry</th>\n",
       "      <th>Wealth_How_Inherited</th>\n",
       "      <th>Wealth_How_Was_Founder</th>\n",
       "      <th>Wealth_How_Was_Political</th>\n",
       "    </tr>\n",
       "  </thead>\n",
       "  <tbody>\n",
       "    <tr>\n",
       "      <th>0</th>\n",
       "      <td>Bill Gates</td>\n",
       "      <td>1</td>\n",
       "      <td>1996</td>\n",
       "      <td>1975</td>\n",
       "      <td>Microsoft</td>\n",
       "      <td>founder</td>\n",
       "      <td>Software</td>\n",
       "      <td>new</td>\n",
       "      <td>40</td>\n",
       "      <td>male</td>\n",
       "      <td>United States</td>\n",
       "      <td>USA</td>\n",
       "      <td>8.100000e+12</td>\n",
       "      <td>North America</td>\n",
       "      <td>founder non-finance</td>\n",
       "      <td>18.5</td>\n",
       "      <td>New Sectors</td>\n",
       "      <td>True</td>\n",
       "      <td>Technology-Computer</td>\n",
       "      <td>not inherited</td>\n",
       "      <td>True</td>\n",
       "      <td>True</td>\n",
       "    </tr>\n",
       "    <tr>\n",
       "      <th>1</th>\n",
       "      <td>Bill Gates</td>\n",
       "      <td>1</td>\n",
       "      <td>2001</td>\n",
       "      <td>1975</td>\n",
       "      <td>Microsoft</td>\n",
       "      <td>founder</td>\n",
       "      <td>Software</td>\n",
       "      <td>new</td>\n",
       "      <td>45</td>\n",
       "      <td>male</td>\n",
       "      <td>United States</td>\n",
       "      <td>USA</td>\n",
       "      <td>1.060000e+13</td>\n",
       "      <td>North America</td>\n",
       "      <td>founder non-finance</td>\n",
       "      <td>58.7</td>\n",
       "      <td>New Sectors</td>\n",
       "      <td>True</td>\n",
       "      <td>Technology-Computer</td>\n",
       "      <td>not inherited</td>\n",
       "      <td>True</td>\n",
       "      <td>True</td>\n",
       "    </tr>\n",
       "    <tr>\n",
       "      <th>2</th>\n",
       "      <td>Bill Gates</td>\n",
       "      <td>1</td>\n",
       "      <td>2014</td>\n",
       "      <td>1975</td>\n",
       "      <td>Microsoft</td>\n",
       "      <td>founder</td>\n",
       "      <td>Software</td>\n",
       "      <td>new</td>\n",
       "      <td>58</td>\n",
       "      <td>male</td>\n",
       "      <td>United States</td>\n",
       "      <td>USA</td>\n",
       "      <td>0.000000e+00</td>\n",
       "      <td>North America</td>\n",
       "      <td>founder non-finance</td>\n",
       "      <td>76.0</td>\n",
       "      <td>New Sectors</td>\n",
       "      <td>True</td>\n",
       "      <td>Technology-Computer</td>\n",
       "      <td>not inherited</td>\n",
       "      <td>True</td>\n",
       "      <td>True</td>\n",
       "    </tr>\n",
       "    <tr>\n",
       "      <th>3</th>\n",
       "      <td>Warren Buffett</td>\n",
       "      <td>2</td>\n",
       "      <td>1996</td>\n",
       "      <td>1962</td>\n",
       "      <td>Berkshire Hathaway</td>\n",
       "      <td>founder</td>\n",
       "      <td>Finance</td>\n",
       "      <td>new</td>\n",
       "      <td>65</td>\n",
       "      <td>male</td>\n",
       "      <td>United States</td>\n",
       "      <td>USA</td>\n",
       "      <td>8.100000e+12</td>\n",
       "      <td>North America</td>\n",
       "      <td>founder non-finance</td>\n",
       "      <td>15.0</td>\n",
       "      <td>Traded Sectors</td>\n",
       "      <td>True</td>\n",
       "      <td>Consumer</td>\n",
       "      <td>not inherited</td>\n",
       "      <td>True</td>\n",
       "      <td>True</td>\n",
       "    </tr>\n",
       "    <tr>\n",
       "      <th>4</th>\n",
       "      <td>Warren Buffett</td>\n",
       "      <td>2</td>\n",
       "      <td>2001</td>\n",
       "      <td>1962</td>\n",
       "      <td>Berkshire Hathaway</td>\n",
       "      <td>founder</td>\n",
       "      <td>Finance</td>\n",
       "      <td>new</td>\n",
       "      <td>70</td>\n",
       "      <td>male</td>\n",
       "      <td>United States</td>\n",
       "      <td>USA</td>\n",
       "      <td>1.060000e+13</td>\n",
       "      <td>North America</td>\n",
       "      <td>founder non-finance</td>\n",
       "      <td>32.3</td>\n",
       "      <td>Traded Sectors</td>\n",
       "      <td>True</td>\n",
       "      <td>Consumer</td>\n",
       "      <td>not inherited</td>\n",
       "      <td>True</td>\n",
       "      <td>True</td>\n",
       "    </tr>\n",
       "    <tr>\n",
       "      <th>7</th>\n",
       "      <td>Paul Allen</td>\n",
       "      <td>3</td>\n",
       "      <td>2001</td>\n",
       "      <td>1975</td>\n",
       "      <td>Microsoft</td>\n",
       "      <td>founder</td>\n",
       "      <td>technology</td>\n",
       "      <td>new</td>\n",
       "      <td>48</td>\n",
       "      <td>male</td>\n",
       "      <td>United States</td>\n",
       "      <td>USA</td>\n",
       "      <td>1.060000e+13</td>\n",
       "      <td>North America</td>\n",
       "      <td>founder non-finance</td>\n",
       "      <td>30.4</td>\n",
       "      <td>New Sectors</td>\n",
       "      <td>True</td>\n",
       "      <td>Technology-Computer</td>\n",
       "      <td>not inherited</td>\n",
       "      <td>True</td>\n",
       "      <td>True</td>\n",
       "    </tr>\n",
       "    <tr>\n",
       "      <th>10</th>\n",
       "      <td>Larry Ellison</td>\n",
       "      <td>4</td>\n",
       "      <td>2001</td>\n",
       "      <td>1977</td>\n",
       "      <td>Oracle</td>\n",
       "      <td>founder</td>\n",
       "      <td>software</td>\n",
       "      <td>new</td>\n",
       "      <td>56</td>\n",
       "      <td>male</td>\n",
       "      <td>United States</td>\n",
       "      <td>USA</td>\n",
       "      <td>1.060000e+13</td>\n",
       "      <td>North America</td>\n",
       "      <td>founder non-finance</td>\n",
       "      <td>26.0</td>\n",
       "      <td>New Sectors</td>\n",
       "      <td>True</td>\n",
       "      <td>Technology-Computer</td>\n",
       "      <td>not inherited</td>\n",
       "      <td>True</td>\n",
       "      <td>True</td>\n",
       "    </tr>\n",
       "    <tr>\n",
       "      <th>11</th>\n",
       "      <td>Warren Buffett</td>\n",
       "      <td>4</td>\n",
       "      <td>2014</td>\n",
       "      <td>1839</td>\n",
       "      <td>Berkshire Hathaway</td>\n",
       "      <td>founder</td>\n",
       "      <td>Finance</td>\n",
       "      <td>aquired</td>\n",
       "      <td>83</td>\n",
       "      <td>male</td>\n",
       "      <td>United States</td>\n",
       "      <td>USA</td>\n",
       "      <td>0.000000e+00</td>\n",
       "      <td>North America</td>\n",
       "      <td>founder non-finance</td>\n",
       "      <td>58.2</td>\n",
       "      <td>Traded Sectors</td>\n",
       "      <td>True</td>\n",
       "      <td>Consumer</td>\n",
       "      <td>not inherited</td>\n",
       "      <td>True</td>\n",
       "      <td>True</td>\n",
       "    </tr>\n",
       "    <tr>\n",
       "      <th>14</th>\n",
       "      <td>Larry Ellison</td>\n",
       "      <td>5</td>\n",
       "      <td>2014</td>\n",
       "      <td>1977</td>\n",
       "      <td>Oracle</td>\n",
       "      <td>founder</td>\n",
       "      <td>software</td>\n",
       "      <td>new</td>\n",
       "      <td>69</td>\n",
       "      <td>male</td>\n",
       "      <td>United States</td>\n",
       "      <td>USA</td>\n",
       "      <td>0.000000e+00</td>\n",
       "      <td>North America</td>\n",
       "      <td>founder non-finance</td>\n",
       "      <td>48.0</td>\n",
       "      <td>New Sectors</td>\n",
       "      <td>True</td>\n",
       "      <td>Technology-Computer</td>\n",
       "      <td>not inherited</td>\n",
       "      <td>True</td>\n",
       "      <td>True</td>\n",
       "    </tr>\n",
       "    <tr>\n",
       "      <th>17</th>\n",
       "      <td>Charles Koch</td>\n",
       "      <td>6</td>\n",
       "      <td>2014</td>\n",
       "      <td>1940</td>\n",
       "      <td>Koch industries</td>\n",
       "      <td>relation</td>\n",
       "      <td>Oil refining</td>\n",
       "      <td>new</td>\n",
       "      <td>78</td>\n",
       "      <td>male</td>\n",
       "      <td>United States</td>\n",
       "      <td>USA</td>\n",
       "      <td>0.000000e+00</td>\n",
       "      <td>North America</td>\n",
       "      <td>inherited</td>\n",
       "      <td>40.0</td>\n",
       "      <td>Financial</td>\n",
       "      <td>True</td>\n",
       "      <td>Diversified financial</td>\n",
       "      <td>father</td>\n",
       "      <td>True</td>\n",
       "      <td>True</td>\n",
       "    </tr>\n",
       "    <tr>\n",
       "      <th>18</th>\n",
       "      <td>David Koch</td>\n",
       "      <td>6</td>\n",
       "      <td>2014</td>\n",
       "      <td>1940</td>\n",
       "      <td>Koch industries</td>\n",
       "      <td>relation</td>\n",
       "      <td>Oil refining</td>\n",
       "      <td>new</td>\n",
       "      <td>73</td>\n",
       "      <td>male</td>\n",
       "      <td>United States</td>\n",
       "      <td>USA</td>\n",
       "      <td>0.000000e+00</td>\n",
       "      <td>North America</td>\n",
       "      <td>inherited</td>\n",
       "      <td>40.0</td>\n",
       "      <td>Financial</td>\n",
       "      <td>True</td>\n",
       "      <td>Diversified financial</td>\n",
       "      <td>father</td>\n",
       "      <td>True</td>\n",
       "      <td>True</td>\n",
       "    </tr>\n",
       "    <tr>\n",
       "      <th>20</th>\n",
       "      <td>Jim Walton</td>\n",
       "      <td>7</td>\n",
       "      <td>2001</td>\n",
       "      <td>1962</td>\n",
       "      <td>Walmart</td>\n",
       "      <td>relation</td>\n",
       "      <td>retail</td>\n",
       "      <td>new</td>\n",
       "      <td>53</td>\n",
       "      <td>male</td>\n",
       "      <td>United States</td>\n",
       "      <td>USA</td>\n",
       "      <td>1.060000e+13</td>\n",
       "      <td>North America</td>\n",
       "      <td>inherited</td>\n",
       "      <td>18.8</td>\n",
       "      <td>Non-Traded Sectors</td>\n",
       "      <td>True</td>\n",
       "      <td>Retail, Restaurant</td>\n",
       "      <td>father</td>\n",
       "      <td>True</td>\n",
       "      <td>True</td>\n",
       "    </tr>\n",
       "    <tr>\n",
       "      <th>22</th>\n",
       "      <td>John Walton</td>\n",
       "      <td>8</td>\n",
       "      <td>2001</td>\n",
       "      <td>1962</td>\n",
       "      <td>Walmart</td>\n",
       "      <td>relation</td>\n",
       "      <td>retail</td>\n",
       "      <td>new</td>\n",
       "      <td>55</td>\n",
       "      <td>male</td>\n",
       "      <td>United States</td>\n",
       "      <td>USA</td>\n",
       "      <td>1.060000e+13</td>\n",
       "      <td>North America</td>\n",
       "      <td>inherited</td>\n",
       "      <td>18.7</td>\n",
       "      <td>Traded Sectors</td>\n",
       "      <td>True</td>\n",
       "      <td>Consumer</td>\n",
       "      <td>father</td>\n",
       "      <td>True</td>\n",
       "      <td>True</td>\n",
       "    </tr>\n",
       "    <tr>\n",
       "      <th>23</th>\n",
       "      <td>Sheldon Adelson</td>\n",
       "      <td>8</td>\n",
       "      <td>2014</td>\n",
       "      <td>1952</td>\n",
       "      <td>Las Vegas Sands</td>\n",
       "      <td>founder</td>\n",
       "      <td>casinos</td>\n",
       "      <td>acquired</td>\n",
       "      <td>80</td>\n",
       "      <td>male</td>\n",
       "      <td>United States</td>\n",
       "      <td>USA</td>\n",
       "      <td>0.000000e+00</td>\n",
       "      <td>North America</td>\n",
       "      <td>self-made finance</td>\n",
       "      <td>38.0</td>\n",
       "      <td>Financial</td>\n",
       "      <td>True</td>\n",
       "      <td>Real Estate</td>\n",
       "      <td>not inherited</td>\n",
       "      <td>True</td>\n",
       "      <td>True</td>\n",
       "    </tr>\n",
       "    <tr>\n",
       "      <th>25</th>\n",
       "      <td>S Robson Walton</td>\n",
       "      <td>9</td>\n",
       "      <td>2001</td>\n",
       "      <td>1962</td>\n",
       "      <td>Walmart</td>\n",
       "      <td>relation</td>\n",
       "      <td>retail</td>\n",
       "      <td>new</td>\n",
       "      <td>57</td>\n",
       "      <td>male</td>\n",
       "      <td>United States</td>\n",
       "      <td>USA</td>\n",
       "      <td>1.060000e+13</td>\n",
       "      <td>North America</td>\n",
       "      <td>inherited</td>\n",
       "      <td>18.6</td>\n",
       "      <td>Non-Traded Sectors</td>\n",
       "      <td>True</td>\n",
       "      <td>Retail, Restaurant</td>\n",
       "      <td>father</td>\n",
       "      <td>True</td>\n",
       "      <td>True</td>\n",
       "    </tr>\n",
       "    <tr>\n",
       "      <th>26</th>\n",
       "      <td>Christy Walton</td>\n",
       "      <td>9</td>\n",
       "      <td>2014</td>\n",
       "      <td>1962</td>\n",
       "      <td>Walmart</td>\n",
       "      <td>relation</td>\n",
       "      <td>retail</td>\n",
       "      <td>new</td>\n",
       "      <td>59</td>\n",
       "      <td>female</td>\n",
       "      <td>United States</td>\n",
       "      <td>USA</td>\n",
       "      <td>0.000000e+00</td>\n",
       "      <td>North America</td>\n",
       "      <td>inherited</td>\n",
       "      <td>36.7</td>\n",
       "      <td>Non-Traded Sectors</td>\n",
       "      <td>True</td>\n",
       "      <td>Retail, Restaurant</td>\n",
       "      <td>spouse/widow</td>\n",
       "      <td>True</td>\n",
       "      <td>True</td>\n",
       "    </tr>\n",
       "    <tr>\n",
       "      <th>28</th>\n",
       "      <td>Alice Walton</td>\n",
       "      <td>10</td>\n",
       "      <td>2001</td>\n",
       "      <td>1962</td>\n",
       "      <td>Walmart</td>\n",
       "      <td>relation</td>\n",
       "      <td>retail</td>\n",
       "      <td>new</td>\n",
       "      <td>52</td>\n",
       "      <td>female</td>\n",
       "      <td>United States</td>\n",
       "      <td>USA</td>\n",
       "      <td>1.060000e+13</td>\n",
       "      <td>North America</td>\n",
       "      <td>inherited</td>\n",
       "      <td>18.5</td>\n",
       "      <td>Non-Traded Sectors</td>\n",
       "      <td>True</td>\n",
       "      <td>Retail, Restaurant</td>\n",
       "      <td>father</td>\n",
       "      <td>True</td>\n",
       "      <td>True</td>\n",
       "    </tr>\n",
       "    <tr>\n",
       "      <th>29</th>\n",
       "      <td>Helen Walton</td>\n",
       "      <td>10</td>\n",
       "      <td>2001</td>\n",
       "      <td>1962</td>\n",
       "      <td>Walmart</td>\n",
       "      <td>relation</td>\n",
       "      <td>retail</td>\n",
       "      <td>new</td>\n",
       "      <td>81</td>\n",
       "      <td>female</td>\n",
       "      <td>United States</td>\n",
       "      <td>USA</td>\n",
       "      <td>1.060000e+13</td>\n",
       "      <td>North America</td>\n",
       "      <td>inherited</td>\n",
       "      <td>18.5</td>\n",
       "      <td>Traded Sectors</td>\n",
       "      <td>True</td>\n",
       "      <td>Consumer</td>\n",
       "      <td>spouse/widow</td>\n",
       "      <td>True</td>\n",
       "      <td>True</td>\n",
       "    </tr>\n",
       "    <tr>\n",
       "      <th>30</th>\n",
       "      <td>Jim Walton</td>\n",
       "      <td>10</td>\n",
       "      <td>2014</td>\n",
       "      <td>1962</td>\n",
       "      <td>Walmart</td>\n",
       "      <td>relation</td>\n",
       "      <td>retail</td>\n",
       "      <td>new</td>\n",
       "      <td>66</td>\n",
       "      <td>male</td>\n",
       "      <td>United States</td>\n",
       "      <td>USA</td>\n",
       "      <td>0.000000e+00</td>\n",
       "      <td>North America</td>\n",
       "      <td>inherited</td>\n",
       "      <td>34.7</td>\n",
       "      <td>Non-Traded Sectors</td>\n",
       "      <td>True</td>\n",
       "      <td>Retail, Restaurant</td>\n",
       "      <td>father</td>\n",
       "      <td>True</td>\n",
       "      <td>True</td>\n",
       "    </tr>\n",
       "    <tr>\n",
       "      <th>36</th>\n",
       "      <td>Paul Allen</td>\n",
       "      <td>13</td>\n",
       "      <td>1996</td>\n",
       "      <td>1975</td>\n",
       "      <td>Microsoft</td>\n",
       "      <td>founder</td>\n",
       "      <td>technology</td>\n",
       "      <td>new</td>\n",
       "      <td>43</td>\n",
       "      <td>male</td>\n",
       "      <td>United States</td>\n",
       "      <td>USA</td>\n",
       "      <td>8.100000e+12</td>\n",
       "      <td>North America</td>\n",
       "      <td>founder non-finance</td>\n",
       "      <td>7.5</td>\n",
       "      <td>New Sectors</td>\n",
       "      <td>True</td>\n",
       "      <td>Technology-Computer</td>\n",
       "      <td>not inherited</td>\n",
       "      <td>True</td>\n",
       "      <td>True</td>\n",
       "    </tr>\n",
       "    <tr>\n",
       "      <th>37</th>\n",
       "      <td>Steven Ballmer</td>\n",
       "      <td>13</td>\n",
       "      <td>2001</td>\n",
       "      <td>1975</td>\n",
       "      <td>Microsoft</td>\n",
       "      <td>CEO</td>\n",
       "      <td>technology</td>\n",
       "      <td>new</td>\n",
       "      <td>44</td>\n",
       "      <td>male</td>\n",
       "      <td>United States</td>\n",
       "      <td>USA</td>\n",
       "      <td>1.060000e+13</td>\n",
       "      <td>North America</td>\n",
       "      <td>executive</td>\n",
       "      <td>16.6</td>\n",
       "      <td>New Sectors</td>\n",
       "      <td>True</td>\n",
       "      <td>Technology-Computer</td>\n",
       "      <td>not inherited</td>\n",
       "      <td>True</td>\n",
       "      <td>True</td>\n",
       "    </tr>\n",
       "    <tr>\n",
       "      <th>38</th>\n",
       "      <td>Alice Walton</td>\n",
       "      <td>13</td>\n",
       "      <td>2014</td>\n",
       "      <td>1962</td>\n",
       "      <td>Walmart</td>\n",
       "      <td>relation</td>\n",
       "      <td>retail</td>\n",
       "      <td>new</td>\n",
       "      <td>64</td>\n",
       "      <td>female</td>\n",
       "      <td>United States</td>\n",
       "      <td>USA</td>\n",
       "      <td>0.000000e+00</td>\n",
       "      <td>North America</td>\n",
       "      <td>inherited</td>\n",
       "      <td>34.3</td>\n",
       "      <td>Non-Traded Sectors</td>\n",
       "      <td>True</td>\n",
       "      <td>Retail, Restaurant</td>\n",
       "      <td>father</td>\n",
       "      <td>True</td>\n",
       "      <td>True</td>\n",
       "    </tr>\n",
       "    <tr>\n",
       "      <th>41</th>\n",
       "      <td>S. Robson Walton</td>\n",
       "      <td>14</td>\n",
       "      <td>2014</td>\n",
       "      <td>1962</td>\n",
       "      <td>Walmart</td>\n",
       "      <td>relation</td>\n",
       "      <td>retail</td>\n",
       "      <td>new</td>\n",
       "      <td>70</td>\n",
       "      <td>male</td>\n",
       "      <td>United States</td>\n",
       "      <td>USA</td>\n",
       "      <td>0.000000e+00</td>\n",
       "      <td>North America</td>\n",
       "      <td>inherited</td>\n",
       "      <td>34.2</td>\n",
       "      <td>Non-Traded Sectors</td>\n",
       "      <td>True</td>\n",
       "      <td>Retail, Restaurant</td>\n",
       "      <td>father</td>\n",
       "      <td>True</td>\n",
       "      <td>True</td>\n",
       "    </tr>\n",
       "    <tr>\n",
       "      <th>42</th>\n",
       "      <td>John Kluge</td>\n",
       "      <td>15</td>\n",
       "      <td>1996</td>\n",
       "      <td>1956</td>\n",
       "      <td>Metropolitan Broadcasting Corporation</td>\n",
       "      <td>chairman</td>\n",
       "      <td>media</td>\n",
       "      <td>new</td>\n",
       "      <td>81</td>\n",
       "      <td>male</td>\n",
       "      <td>United States</td>\n",
       "      <td>USA</td>\n",
       "      <td>8.100000e+12</td>\n",
       "      <td>North America</td>\n",
       "      <td>executive</td>\n",
       "      <td>7.2</td>\n",
       "      <td>Non-Traded Sectors</td>\n",
       "      <td>True</td>\n",
       "      <td>Media</td>\n",
       "      <td>not inherited</td>\n",
       "      <td>True</td>\n",
       "      <td>True</td>\n",
       "    </tr>\n",
       "    <tr>\n",
       "      <th>46</th>\n",
       "      <td>Philip Anschutz</td>\n",
       "      <td>16</td>\n",
       "      <td>2001</td>\n",
       "      <td>1961</td>\n",
       "      <td>Circle A Drilling</td>\n",
       "      <td>investor</td>\n",
       "      <td>oil, railroad, investments</td>\n",
       "      <td>aquired</td>\n",
       "      <td>61</td>\n",
       "      <td>male</td>\n",
       "      <td>United States</td>\n",
       "      <td>USA</td>\n",
       "      <td>1.060000e+13</td>\n",
       "      <td>North America</td>\n",
       "      <td>self-made finance</td>\n",
       "      <td>15.3</td>\n",
       "      <td>Financial</td>\n",
       "      <td>True</td>\n",
       "      <td>Money Management</td>\n",
       "      <td>not inherited</td>\n",
       "      <td>True</td>\n",
       "      <td>True</td>\n",
       "    </tr>\n",
       "    <tr>\n",
       "      <th>47</th>\n",
       "      <td>Michael Bloomberg</td>\n",
       "      <td>16</td>\n",
       "      <td>2014</td>\n",
       "      <td>1981</td>\n",
       "      <td>Bloomberg</td>\n",
       "      <td>founder</td>\n",
       "      <td>finance</td>\n",
       "      <td>new</td>\n",
       "      <td>72</td>\n",
       "      <td>male</td>\n",
       "      <td>United States</td>\n",
       "      <td>USA</td>\n",
       "      <td>0.000000e+00</td>\n",
       "      <td>North America</td>\n",
       "      <td>founder non-finance</td>\n",
       "      <td>33.0</td>\n",
       "      <td>Non-Traded Sectors</td>\n",
       "      <td>True</td>\n",
       "      <td>Media</td>\n",
       "      <td>not inherited</td>\n",
       "      <td>True</td>\n",
       "      <td>True</td>\n",
       "    </tr>\n",
       "    <tr>\n",
       "      <th>50</th>\n",
       "      <td>Larry Page</td>\n",
       "      <td>17</td>\n",
       "      <td>2014</td>\n",
       "      <td>1998</td>\n",
       "      <td>Google</td>\n",
       "      <td>founder</td>\n",
       "      <td>technology</td>\n",
       "      <td>new</td>\n",
       "      <td>40</td>\n",
       "      <td>male</td>\n",
       "      <td>United States</td>\n",
       "      <td>USA</td>\n",
       "      <td>0.000000e+00</td>\n",
       "      <td>North America</td>\n",
       "      <td>founder non-finance</td>\n",
       "      <td>32.3</td>\n",
       "      <td>New Sectors</td>\n",
       "      <td>True</td>\n",
       "      <td>Technology-Computer</td>\n",
       "      <td>not inherited</td>\n",
       "      <td>True</td>\n",
       "      <td>True</td>\n",
       "    </tr>\n",
       "    <tr>\n",
       "      <th>53</th>\n",
       "      <td>Sumner Redstone</td>\n",
       "      <td>18</td>\n",
       "      <td>2001</td>\n",
       "      <td>1936</td>\n",
       "      <td>National Amusements</td>\n",
       "      <td>relation</td>\n",
       "      <td>media</td>\n",
       "      <td>new</td>\n",
       "      <td>77</td>\n",
       "      <td>male</td>\n",
       "      <td>United States</td>\n",
       "      <td>USA</td>\n",
       "      <td>1.060000e+13</td>\n",
       "      <td>North America</td>\n",
       "      <td>inherited</td>\n",
       "      <td>12.6</td>\n",
       "      <td>Non-Traded Sectors</td>\n",
       "      <td>True</td>\n",
       "      <td>Media</td>\n",
       "      <td>father</td>\n",
       "      <td>True</td>\n",
       "      <td>True</td>\n",
       "    </tr>\n",
       "    <tr>\n",
       "      <th>54</th>\n",
       "      <td>Jeff Bezos</td>\n",
       "      <td>18</td>\n",
       "      <td>2014</td>\n",
       "      <td>1995</td>\n",
       "      <td>Amazon</td>\n",
       "      <td>founder</td>\n",
       "      <td>technology</td>\n",
       "      <td>new</td>\n",
       "      <td>50</td>\n",
       "      <td>male</td>\n",
       "      <td>United States</td>\n",
       "      <td>USA</td>\n",
       "      <td>0.000000e+00</td>\n",
       "      <td>North America</td>\n",
       "      <td>founder non-finance</td>\n",
       "      <td>32.0</td>\n",
       "      <td>Non-Traded Sectors</td>\n",
       "      <td>True</td>\n",
       "      <td>Retail, Restaurant</td>\n",
       "      <td>not inherited</td>\n",
       "      <td>True</td>\n",
       "      <td>True</td>\n",
       "    </tr>\n",
       "    <tr>\n",
       "      <th>55</th>\n",
       "      <td>Larry Ellison</td>\n",
       "      <td>19</td>\n",
       "      <td>1996</td>\n",
       "      <td>1977</td>\n",
       "      <td>Oracle</td>\n",
       "      <td>founder</td>\n",
       "      <td>software</td>\n",
       "      <td>new</td>\n",
       "      <td>51</td>\n",
       "      <td>male</td>\n",
       "      <td>United States</td>\n",
       "      <td>USA</td>\n",
       "      <td>8.100000e+12</td>\n",
       "      <td>North America</td>\n",
       "      <td>founder non-finance</td>\n",
       "      <td>6.0</td>\n",
       "      <td>New Sectors</td>\n",
       "      <td>True</td>\n",
       "      <td>Technology-Computer</td>\n",
       "      <td>not inherited</td>\n",
       "      <td>True</td>\n",
       "      <td>True</td>\n",
       "    </tr>\n",
       "    <tr>\n",
       "      <th>...</th>\n",
       "      <td>...</td>\n",
       "      <td>...</td>\n",
       "      <td>...</td>\n",
       "      <td>...</td>\n",
       "      <td>...</td>\n",
       "      <td>...</td>\n",
       "      <td>...</td>\n",
       "      <td>...</td>\n",
       "      <td>...</td>\n",
       "      <td>...</td>\n",
       "      <td>...</td>\n",
       "      <td>...</td>\n",
       "      <td>...</td>\n",
       "      <td>...</td>\n",
       "      <td>...</td>\n",
       "      <td>...</td>\n",
       "      <td>...</td>\n",
       "      <td>...</td>\n",
       "      <td>...</td>\n",
       "      <td>...</td>\n",
       "      <td>...</td>\n",
       "      <td>...</td>\n",
       "    </tr>\n",
       "    <tr>\n",
       "      <th>2477</th>\n",
       "      <td>Mark Pincus</td>\n",
       "      <td>1465</td>\n",
       "      <td>2014</td>\n",
       "      <td>2007</td>\n",
       "      <td>Zynga</td>\n",
       "      <td>founder</td>\n",
       "      <td>online gaming</td>\n",
       "      <td>new</td>\n",
       "      <td>48</td>\n",
       "      <td>male</td>\n",
       "      <td>United States</td>\n",
       "      <td>USA</td>\n",
       "      <td>0.000000e+00</td>\n",
       "      <td>North America</td>\n",
       "      <td>founder non-finance</td>\n",
       "      <td>1.1</td>\n",
       "      <td>New Sectors</td>\n",
       "      <td>True</td>\n",
       "      <td>Technology-Computer</td>\n",
       "      <td>not inherited</td>\n",
       "      <td>True</td>\n",
       "      <td>True</td>\n",
       "    </tr>\n",
       "    <tr>\n",
       "      <th>2478</th>\n",
       "      <td>Michael Steinhardt</td>\n",
       "      <td>1465</td>\n",
       "      <td>2014</td>\n",
       "      <td>1967</td>\n",
       "      <td>Steinhardt, Fine, Berkowitz &amp; Co</td>\n",
       "      <td>founder</td>\n",
       "      <td>hedge funds</td>\n",
       "      <td>new</td>\n",
       "      <td>73</td>\n",
       "      <td>male</td>\n",
       "      <td>United States</td>\n",
       "      <td>USA</td>\n",
       "      <td>0.000000e+00</td>\n",
       "      <td>North America</td>\n",
       "      <td>self-made finance</td>\n",
       "      <td>1.1</td>\n",
       "      <td>Financial</td>\n",
       "      <td>True</td>\n",
       "      <td>Money Management</td>\n",
       "      <td>not inherited</td>\n",
       "      <td>True</td>\n",
       "      <td>True</td>\n",
       "    </tr>\n",
       "    <tr>\n",
       "      <th>2488</th>\n",
       "      <td>Ray Irani</td>\n",
       "      <td>1465</td>\n",
       "      <td>2014</td>\n",
       "      <td>1920</td>\n",
       "      <td>Occidental Petroleum</td>\n",
       "      <td>former CEO</td>\n",
       "      <td>oil</td>\n",
       "      <td>new</td>\n",
       "      <td>79</td>\n",
       "      <td>male</td>\n",
       "      <td>United States</td>\n",
       "      <td>USA</td>\n",
       "      <td>0.000000e+00</td>\n",
       "      <td>North America</td>\n",
       "      <td>privatized and resources</td>\n",
       "      <td>1.1</td>\n",
       "      <td>Resource Related</td>\n",
       "      <td>True</td>\n",
       "      <td>Energy</td>\n",
       "      <td>not inherited</td>\n",
       "      <td>True</td>\n",
       "      <td>True</td>\n",
       "    </tr>\n",
       "    <tr>\n",
       "      <th>2489</th>\n",
       "      <td>Robert Citrone</td>\n",
       "      <td>1465</td>\n",
       "      <td>2014</td>\n",
       "      <td>1999</td>\n",
       "      <td>Discovery Capital Management</td>\n",
       "      <td>founder</td>\n",
       "      <td>hedge funds</td>\n",
       "      <td>new</td>\n",
       "      <td>49</td>\n",
       "      <td>male</td>\n",
       "      <td>United States</td>\n",
       "      <td>USA</td>\n",
       "      <td>0.000000e+00</td>\n",
       "      <td>North America</td>\n",
       "      <td>self-made finance</td>\n",
       "      <td>1.1</td>\n",
       "      <td>Financial</td>\n",
       "      <td>True</td>\n",
       "      <td>Hedge funds</td>\n",
       "      <td>not inherited</td>\n",
       "      <td>True</td>\n",
       "      <td>True</td>\n",
       "    </tr>\n",
       "    <tr>\n",
       "      <th>2491</th>\n",
       "      <td>Robert Piccinini</td>\n",
       "      <td>1465</td>\n",
       "      <td>2014</td>\n",
       "      <td>1952</td>\n",
       "      <td>Save Mart</td>\n",
       "      <td>relation</td>\n",
       "      <td>groceries</td>\n",
       "      <td>new</td>\n",
       "      <td>72</td>\n",
       "      <td>male</td>\n",
       "      <td>United States</td>\n",
       "      <td>USA</td>\n",
       "      <td>0.000000e+00</td>\n",
       "      <td>North America</td>\n",
       "      <td>inherited</td>\n",
       "      <td>1.1</td>\n",
       "      <td>Non-Traded Sectors</td>\n",
       "      <td>True</td>\n",
       "      <td>Retail, Restaurant</td>\n",
       "      <td>father</td>\n",
       "      <td>True</td>\n",
       "      <td>True</td>\n",
       "    </tr>\n",
       "    <tr>\n",
       "      <th>2497</th>\n",
       "      <td>Stewart Horejsi</td>\n",
       "      <td>1465</td>\n",
       "      <td>2014</td>\n",
       "      <td>1962</td>\n",
       "      <td>Berkshire Hathaway</td>\n",
       "      <td>investor</td>\n",
       "      <td>finance</td>\n",
       "      <td>new</td>\n",
       "      <td>76</td>\n",
       "      <td>male</td>\n",
       "      <td>United States</td>\n",
       "      <td>USA</td>\n",
       "      <td>0.000000e+00</td>\n",
       "      <td>North America</td>\n",
       "      <td>executive</td>\n",
       "      <td>1.1</td>\n",
       "      <td>Traded Sectors</td>\n",
       "      <td>True</td>\n",
       "      <td>Consumer</td>\n",
       "      <td>not inherited</td>\n",
       "      <td>True</td>\n",
       "      <td>True</td>\n",
       "    </tr>\n",
       "    <tr>\n",
       "      <th>2500</th>\n",
       "      <td>Timothy Boyle</td>\n",
       "      <td>1465</td>\n",
       "      <td>2014</td>\n",
       "      <td>1938</td>\n",
       "      <td>Columbia Sportswear</td>\n",
       "      <td>relation</td>\n",
       "      <td>apparel</td>\n",
       "      <td>new</td>\n",
       "      <td>64</td>\n",
       "      <td>male</td>\n",
       "      <td>United States</td>\n",
       "      <td>USA</td>\n",
       "      <td>0.000000e+00</td>\n",
       "      <td>North America</td>\n",
       "      <td>inherited</td>\n",
       "      <td>1.1</td>\n",
       "      <td>Traded Sectors</td>\n",
       "      <td>True</td>\n",
       "      <td>Consumer</td>\n",
       "      <td>3rd generation</td>\n",
       "      <td>True</td>\n",
       "      <td>True</td>\n",
       "    </tr>\n",
       "    <tr>\n",
       "      <th>2511</th>\n",
       "      <td>Douglas Perkins</td>\n",
       "      <td>1540</td>\n",
       "      <td>2014</td>\n",
       "      <td>1984</td>\n",
       "      <td>Specsavers</td>\n",
       "      <td>founder</td>\n",
       "      <td>eyeglasses</td>\n",
       "      <td>new</td>\n",
       "      <td>53</td>\n",
       "      <td>male</td>\n",
       "      <td>United States</td>\n",
       "      <td>USA</td>\n",
       "      <td>0.000000e+00</td>\n",
       "      <td>North America</td>\n",
       "      <td>founder non-finance</td>\n",
       "      <td>1.1</td>\n",
       "      <td>Non-Traded Sectors</td>\n",
       "      <td>True</td>\n",
       "      <td>Retail, Restaurant</td>\n",
       "      <td>not inherited</td>\n",
       "      <td>True</td>\n",
       "      <td>True</td>\n",
       "    </tr>\n",
       "    <tr>\n",
       "      <th>2521</th>\n",
       "      <td>Mary Perkins</td>\n",
       "      <td>1540</td>\n",
       "      <td>2014</td>\n",
       "      <td>1984</td>\n",
       "      <td>Specsavers</td>\n",
       "      <td>founder</td>\n",
       "      <td>eyeglasses</td>\n",
       "      <td>new</td>\n",
       "      <td>53</td>\n",
       "      <td>female</td>\n",
       "      <td>United States</td>\n",
       "      <td>USA</td>\n",
       "      <td>0.000000e+00</td>\n",
       "      <td>North America</td>\n",
       "      <td>founder non-finance</td>\n",
       "      <td>1.1</td>\n",
       "      <td>Non-Traded Sectors</td>\n",
       "      <td>True</td>\n",
       "      <td>Retail, Restaurant</td>\n",
       "      <td>not inherited</td>\n",
       "      <td>True</td>\n",
       "      <td>True</td>\n",
       "    </tr>\n",
       "    <tr>\n",
       "      <th>2525</th>\n",
       "      <td>Sheryl Sandberg</td>\n",
       "      <td>1540</td>\n",
       "      <td>2014</td>\n",
       "      <td>2004</td>\n",
       "      <td>Facebook</td>\n",
       "      <td>COO</td>\n",
       "      <td>internet company</td>\n",
       "      <td>new</td>\n",
       "      <td>44</td>\n",
       "      <td>female</td>\n",
       "      <td>United States</td>\n",
       "      <td>USA</td>\n",
       "      <td>0.000000e+00</td>\n",
       "      <td>North America</td>\n",
       "      <td>executive</td>\n",
       "      <td>1.1</td>\n",
       "      <td>New Sectors</td>\n",
       "      <td>True</td>\n",
       "      <td>Technology-Computer</td>\n",
       "      <td>not inherited</td>\n",
       "      <td>True</td>\n",
       "      <td>True</td>\n",
       "    </tr>\n",
       "    <tr>\n",
       "      <th>2526</th>\n",
       "      <td>Sun Hongbin</td>\n",
       "      <td>1540</td>\n",
       "      <td>2014</td>\n",
       "      <td>1994</td>\n",
       "      <td>Sunac China Holdings</td>\n",
       "      <td>founder</td>\n",
       "      <td>real estate</td>\n",
       "      <td>new</td>\n",
       "      <td>51</td>\n",
       "      <td>male</td>\n",
       "      <td>United States</td>\n",
       "      <td>USA</td>\n",
       "      <td>0.000000e+00</td>\n",
       "      <td>North America</td>\n",
       "      <td>self-made finance</td>\n",
       "      <td>1.1</td>\n",
       "      <td>Financial</td>\n",
       "      <td>True</td>\n",
       "      <td>Real Estate</td>\n",
       "      <td>not inherited</td>\n",
       "      <td>True</td>\n",
       "      <td>True</td>\n",
       "    </tr>\n",
       "    <tr>\n",
       "      <th>2536</th>\n",
       "      <td>Andrea Reimann-Ciardelli</td>\n",
       "      <td>1565</td>\n",
       "      <td>2014</td>\n",
       "      <td>1923</td>\n",
       "      <td>Benckiser</td>\n",
       "      <td>relation</td>\n",
       "      <td>consumer goods</td>\n",
       "      <td>aquired</td>\n",
       "      <td>53</td>\n",
       "      <td>female</td>\n",
       "      <td>United States</td>\n",
       "      <td>USA</td>\n",
       "      <td>0.000000e+00</td>\n",
       "      <td>North America</td>\n",
       "      <td>inherited</td>\n",
       "      <td>1.0</td>\n",
       "      <td>Traded Sectors</td>\n",
       "      <td>True</td>\n",
       "      <td>Consumer</td>\n",
       "      <td>father</td>\n",
       "      <td>True</td>\n",
       "      <td>True</td>\n",
       "    </tr>\n",
       "    <tr>\n",
       "      <th>2543</th>\n",
       "      <td>Brian Higgins</td>\n",
       "      <td>1565</td>\n",
       "      <td>2014</td>\n",
       "      <td>1995</td>\n",
       "      <td>King Street Capital Management</td>\n",
       "      <td>founder</td>\n",
       "      <td>hedge funds</td>\n",
       "      <td>new</td>\n",
       "      <td>49</td>\n",
       "      <td>male</td>\n",
       "      <td>United States</td>\n",
       "      <td>USA</td>\n",
       "      <td>0.000000e+00</td>\n",
       "      <td>North America</td>\n",
       "      <td>self-made finance</td>\n",
       "      <td>1.0</td>\n",
       "      <td>Financial</td>\n",
       "      <td>True</td>\n",
       "      <td>Hedge funds</td>\n",
       "      <td>not inherited</td>\n",
       "      <td>True</td>\n",
       "      <td>True</td>\n",
       "    </tr>\n",
       "    <tr>\n",
       "      <th>2544</th>\n",
       "      <td>C. James Koch</td>\n",
       "      <td>1565</td>\n",
       "      <td>2014</td>\n",
       "      <td>1984</td>\n",
       "      <td>Boston Beer Company</td>\n",
       "      <td>founder</td>\n",
       "      <td>beer</td>\n",
       "      <td>new</td>\n",
       "      <td>64</td>\n",
       "      <td>male</td>\n",
       "      <td>United States</td>\n",
       "      <td>USA</td>\n",
       "      <td>0.000000e+00</td>\n",
       "      <td>North America</td>\n",
       "      <td>founder non-finance</td>\n",
       "      <td>1.0</td>\n",
       "      <td>Traded Sectors</td>\n",
       "      <td>True</td>\n",
       "      <td>Consumer</td>\n",
       "      <td>not inherited</td>\n",
       "      <td>True</td>\n",
       "      <td>True</td>\n",
       "    </tr>\n",
       "    <tr>\n",
       "      <th>2547</th>\n",
       "      <td>Christopher Burch</td>\n",
       "      <td>1565</td>\n",
       "      <td>2014</td>\n",
       "      <td>2004</td>\n",
       "      <td>Tory Burch LLC</td>\n",
       "      <td>founder</td>\n",
       "      <td>fashion</td>\n",
       "      <td>new</td>\n",
       "      <td>60</td>\n",
       "      <td>male</td>\n",
       "      <td>United States</td>\n",
       "      <td>USA</td>\n",
       "      <td>0.000000e+00</td>\n",
       "      <td>North America</td>\n",
       "      <td>founder non-finance</td>\n",
       "      <td>1.0</td>\n",
       "      <td>Traded Sectors</td>\n",
       "      <td>True</td>\n",
       "      <td>Consumer</td>\n",
       "      <td>not inherited</td>\n",
       "      <td>True</td>\n",
       "      <td>True</td>\n",
       "    </tr>\n",
       "    <tr>\n",
       "      <th>2556</th>\n",
       "      <td>Fred Chang</td>\n",
       "      <td>1565</td>\n",
       "      <td>2014</td>\n",
       "      <td>2001</td>\n",
       "      <td>Newegg.com</td>\n",
       "      <td>founder</td>\n",
       "      <td>e-commerce</td>\n",
       "      <td>new</td>\n",
       "      <td>57</td>\n",
       "      <td>male</td>\n",
       "      <td>United States</td>\n",
       "      <td>USA</td>\n",
       "      <td>0.000000e+00</td>\n",
       "      <td>North America</td>\n",
       "      <td>founder non-finance</td>\n",
       "      <td>1.0</td>\n",
       "      <td>Non-Traded Sectors</td>\n",
       "      <td>True</td>\n",
       "      <td>Retail, Restaurant</td>\n",
       "      <td>not inherited</td>\n",
       "      <td>True</td>\n",
       "      <td>True</td>\n",
       "    </tr>\n",
       "    <tr>\n",
       "      <th>2565</th>\n",
       "      <td>Jim Thompson</td>\n",
       "      <td>1565</td>\n",
       "      <td>2014</td>\n",
       "      <td>1965</td>\n",
       "      <td>Crown Worldwide Group</td>\n",
       "      <td>founder</td>\n",
       "      <td>relocation services</td>\n",
       "      <td>new</td>\n",
       "      <td>74</td>\n",
       "      <td>male</td>\n",
       "      <td>United States</td>\n",
       "      <td>USA</td>\n",
       "      <td>0.000000e+00</td>\n",
       "      <td>North America</td>\n",
       "      <td>founder non-finance</td>\n",
       "      <td>1.0</td>\n",
       "      <td>0</td>\n",
       "      <td>True</td>\n",
       "      <td>Other</td>\n",
       "      <td>not inherited</td>\n",
       "      <td>True</td>\n",
       "      <td>True</td>\n",
       "    </tr>\n",
       "    <tr>\n",
       "      <th>2567</th>\n",
       "      <td>John Morgridge</td>\n",
       "      <td>1565</td>\n",
       "      <td>2014</td>\n",
       "      <td>1984</td>\n",
       "      <td>Cisco Systems</td>\n",
       "      <td>ceo</td>\n",
       "      <td>software</td>\n",
       "      <td>new</td>\n",
       "      <td>80</td>\n",
       "      <td>male</td>\n",
       "      <td>United States</td>\n",
       "      <td>USA</td>\n",
       "      <td>0.000000e+00</td>\n",
       "      <td>North America</td>\n",
       "      <td>executive</td>\n",
       "      <td>1.0</td>\n",
       "      <td>New Sectors</td>\n",
       "      <td>True</td>\n",
       "      <td>Technology-Computer</td>\n",
       "      <td>not inherited</td>\n",
       "      <td>True</td>\n",
       "      <td>True</td>\n",
       "    </tr>\n",
       "    <tr>\n",
       "      <th>2570</th>\n",
       "      <td>Kenneth Tuchman</td>\n",
       "      <td>1565</td>\n",
       "      <td>2014</td>\n",
       "      <td>1982</td>\n",
       "      <td>TeleTech</td>\n",
       "      <td>founder</td>\n",
       "      <td>software</td>\n",
       "      <td>new</td>\n",
       "      <td>54</td>\n",
       "      <td>male</td>\n",
       "      <td>United States</td>\n",
       "      <td>USA</td>\n",
       "      <td>0.000000e+00</td>\n",
       "      <td>North America</td>\n",
       "      <td>founder non-finance</td>\n",
       "      <td>1.0</td>\n",
       "      <td>Non-Traded Sectors</td>\n",
       "      <td>True</td>\n",
       "      <td>Retail, Restaurant</td>\n",
       "      <td>not inherited</td>\n",
       "      <td>True</td>\n",
       "      <td>True</td>\n",
       "    </tr>\n",
       "    <tr>\n",
       "      <th>2572</th>\n",
       "      <td>Leon Charney</td>\n",
       "      <td>1565</td>\n",
       "      <td>2014</td>\n",
       "      <td>1980</td>\n",
       "      <td>One Times Square</td>\n",
       "      <td>investor</td>\n",
       "      <td>real estate</td>\n",
       "      <td>new</td>\n",
       "      <td>72</td>\n",
       "      <td>male</td>\n",
       "      <td>United States</td>\n",
       "      <td>USA</td>\n",
       "      <td>0.000000e+00</td>\n",
       "      <td>North America</td>\n",
       "      <td>self-made finance</td>\n",
       "      <td>1.0</td>\n",
       "      <td>Financial</td>\n",
       "      <td>True</td>\n",
       "      <td>Real Estate</td>\n",
       "      <td>not inherited</td>\n",
       "      <td>True</td>\n",
       "      <td>True</td>\n",
       "    </tr>\n",
       "    <tr>\n",
       "      <th>2573</th>\n",
       "      <td>Leonard Schleifer</td>\n",
       "      <td>1565</td>\n",
       "      <td>2014</td>\n",
       "      <td>1988</td>\n",
       "      <td>Regeneron Pharmaceuicals</td>\n",
       "      <td>founder</td>\n",
       "      <td>pharmaceuticals</td>\n",
       "      <td>new</td>\n",
       "      <td>61</td>\n",
       "      <td>male</td>\n",
       "      <td>United States</td>\n",
       "      <td>USA</td>\n",
       "      <td>0.000000e+00</td>\n",
       "      <td>North America</td>\n",
       "      <td>founder non-finance</td>\n",
       "      <td>1.0</td>\n",
       "      <td>New Sectors</td>\n",
       "      <td>True</td>\n",
       "      <td>Technology-Medical</td>\n",
       "      <td>not inherited</td>\n",
       "      <td>True</td>\n",
       "      <td>True</td>\n",
       "    </tr>\n",
       "    <tr>\n",
       "      <th>2579</th>\n",
       "      <td>Michael Kors</td>\n",
       "      <td>1565</td>\n",
       "      <td>2014</td>\n",
       "      <td>1981</td>\n",
       "      <td>Michael Kors</td>\n",
       "      <td>founder</td>\n",
       "      <td>retail</td>\n",
       "      <td>new</td>\n",
       "      <td>54</td>\n",
       "      <td>male</td>\n",
       "      <td>United States</td>\n",
       "      <td>USA</td>\n",
       "      <td>0.000000e+00</td>\n",
       "      <td>North America</td>\n",
       "      <td>founder non-finance</td>\n",
       "      <td>1.0</td>\n",
       "      <td>Non-Traded Sectors</td>\n",
       "      <td>True</td>\n",
       "      <td>Retail, Restaurant</td>\n",
       "      <td>not inherited</td>\n",
       "      <td>True</td>\n",
       "      <td>True</td>\n",
       "    </tr>\n",
       "    <tr>\n",
       "      <th>2586</th>\n",
       "      <td>O. Francis Biondi</td>\n",
       "      <td>1565</td>\n",
       "      <td>2014</td>\n",
       "      <td>1995</td>\n",
       "      <td>King Street Capital Management</td>\n",
       "      <td>founder</td>\n",
       "      <td>hedge funds</td>\n",
       "      <td>new</td>\n",
       "      <td>49</td>\n",
       "      <td>male</td>\n",
       "      <td>United States</td>\n",
       "      <td>USA</td>\n",
       "      <td>0.000000e+00</td>\n",
       "      <td>North America</td>\n",
       "      <td>self-made finance</td>\n",
       "      <td>1.0</td>\n",
       "      <td>Financial</td>\n",
       "      <td>True</td>\n",
       "      <td>Hedge funds</td>\n",
       "      <td>not inherited</td>\n",
       "      <td>True</td>\n",
       "      <td>True</td>\n",
       "    </tr>\n",
       "    <tr>\n",
       "      <th>2588</th>\n",
       "      <td>Philip Falcone</td>\n",
       "      <td>1565</td>\n",
       "      <td>2014</td>\n",
       "      <td>2001</td>\n",
       "      <td>Harbinger Capital</td>\n",
       "      <td>founder</td>\n",
       "      <td>hedge funds</td>\n",
       "      <td>new</td>\n",
       "      <td>51</td>\n",
       "      <td>male</td>\n",
       "      <td>United States</td>\n",
       "      <td>USA</td>\n",
       "      <td>0.000000e+00</td>\n",
       "      <td>North America</td>\n",
       "      <td>self-made finance</td>\n",
       "      <td>1.0</td>\n",
       "      <td>Financial</td>\n",
       "      <td>True</td>\n",
       "      <td>Hedge funds</td>\n",
       "      <td>not inherited</td>\n",
       "      <td>True</td>\n",
       "      <td>True</td>\n",
       "    </tr>\n",
       "    <tr>\n",
       "      <th>2592</th>\n",
       "      <td>Ryan Kavanaugh</td>\n",
       "      <td>1565</td>\n",
       "      <td>2014</td>\n",
       "      <td>2004</td>\n",
       "      <td>Relativity Media</td>\n",
       "      <td>founder</td>\n",
       "      <td>film</td>\n",
       "      <td>new</td>\n",
       "      <td>39</td>\n",
       "      <td>male</td>\n",
       "      <td>United States</td>\n",
       "      <td>USA</td>\n",
       "      <td>0.000000e+00</td>\n",
       "      <td>North America</td>\n",
       "      <td>founder non-finance</td>\n",
       "      <td>1.0</td>\n",
       "      <td>Non-Traded Sectors</td>\n",
       "      <td>True</td>\n",
       "      <td>Media</td>\n",
       "      <td>not inherited</td>\n",
       "      <td>True</td>\n",
       "      <td>True</td>\n",
       "    </tr>\n",
       "    <tr>\n",
       "      <th>2593</th>\n",
       "      <td>Sara Blakely</td>\n",
       "      <td>1565</td>\n",
       "      <td>2014</td>\n",
       "      <td>2000</td>\n",
       "      <td>Spanx</td>\n",
       "      <td>founder</td>\n",
       "      <td>apparel</td>\n",
       "      <td>new</td>\n",
       "      <td>43</td>\n",
       "      <td>female</td>\n",
       "      <td>United States</td>\n",
       "      <td>USA</td>\n",
       "      <td>0.000000e+00</td>\n",
       "      <td>North America</td>\n",
       "      <td>founder non-finance</td>\n",
       "      <td>1.0</td>\n",
       "      <td>Traded Sectors</td>\n",
       "      <td>True</td>\n",
       "      <td>Consumer</td>\n",
       "      <td>not inherited</td>\n",
       "      <td>True</td>\n",
       "      <td>True</td>\n",
       "    </tr>\n",
       "    <tr>\n",
       "      <th>2601</th>\n",
       "      <td>Thomas Bailey</td>\n",
       "      <td>1565</td>\n",
       "      <td>2014</td>\n",
       "      <td>1969</td>\n",
       "      <td>Janus Capital Group</td>\n",
       "      <td>founder</td>\n",
       "      <td>mutual funds</td>\n",
       "      <td>new</td>\n",
       "      <td>77</td>\n",
       "      <td>male</td>\n",
       "      <td>United States</td>\n",
       "      <td>USA</td>\n",
       "      <td>0.000000e+00</td>\n",
       "      <td>North America</td>\n",
       "      <td>self-made finance</td>\n",
       "      <td>1.0</td>\n",
       "      <td>Financial</td>\n",
       "      <td>True</td>\n",
       "      <td>Money Management</td>\n",
       "      <td>not inherited</td>\n",
       "      <td>True</td>\n",
       "      <td>True</td>\n",
       "    </tr>\n",
       "    <tr>\n",
       "      <th>2602</th>\n",
       "      <td>Thomas Kaplan</td>\n",
       "      <td>1565</td>\n",
       "      <td>2014</td>\n",
       "      <td>1993</td>\n",
       "      <td>Apex Silver Mines</td>\n",
       "      <td>founder</td>\n",
       "      <td>metals</td>\n",
       "      <td>new</td>\n",
       "      <td>51</td>\n",
       "      <td>male</td>\n",
       "      <td>United States</td>\n",
       "      <td>USA</td>\n",
       "      <td>0.000000e+00</td>\n",
       "      <td>North America</td>\n",
       "      <td>self-made finance</td>\n",
       "      <td>1.0</td>\n",
       "      <td>Financial</td>\n",
       "      <td>True</td>\n",
       "      <td>Diversified financial</td>\n",
       "      <td>not inherited</td>\n",
       "      <td>True</td>\n",
       "      <td>True</td>\n",
       "    </tr>\n",
       "    <tr>\n",
       "      <th>2603</th>\n",
       "      <td>Tory Burch</td>\n",
       "      <td>1565</td>\n",
       "      <td>2014</td>\n",
       "      <td>2004</td>\n",
       "      <td>Tory Burch LLC</td>\n",
       "      <td>founder</td>\n",
       "      <td>fashion</td>\n",
       "      <td>new</td>\n",
       "      <td>47</td>\n",
       "      <td>female</td>\n",
       "      <td>United States</td>\n",
       "      <td>USA</td>\n",
       "      <td>0.000000e+00</td>\n",
       "      <td>North America</td>\n",
       "      <td>founder non-finance</td>\n",
       "      <td>1.0</td>\n",
       "      <td>Traded Sectors</td>\n",
       "      <td>True</td>\n",
       "      <td>Consumer</td>\n",
       "      <td>not inherited</td>\n",
       "      <td>True</td>\n",
       "      <td>True</td>\n",
       "    </tr>\n",
       "    <tr>\n",
       "      <th>2608</th>\n",
       "      <td>William Moncrief, Jr.</td>\n",
       "      <td>1565</td>\n",
       "      <td>2014</td>\n",
       "      <td>1929</td>\n",
       "      <td>Moncrief Oil</td>\n",
       "      <td>relation</td>\n",
       "      <td>oil</td>\n",
       "      <td>new</td>\n",
       "      <td>93</td>\n",
       "      <td>male</td>\n",
       "      <td>United States</td>\n",
       "      <td>USA</td>\n",
       "      <td>0.000000e+00</td>\n",
       "      <td>North America</td>\n",
       "      <td>inherited</td>\n",
       "      <td>1.0</td>\n",
       "      <td>Resource Related</td>\n",
       "      <td>True</td>\n",
       "      <td>Energy</td>\n",
       "      <td>father</td>\n",
       "      <td>True</td>\n",
       "      <td>True</td>\n",
       "    </tr>\n",
       "  </tbody>\n",
       "</table>\n",
       "<p>903 rows × 22 columns</p>\n",
       "</div>"
      ],
      "text/plain": [
       "                          Name  Rank  Year  Company_Founded  \\\n",
       "0                   Bill Gates     1  1996             1975   \n",
       "1                   Bill Gates     1  2001             1975   \n",
       "2                   Bill Gates     1  2014             1975   \n",
       "3               Warren Buffett     2  1996             1962   \n",
       "4               Warren Buffett     2  2001             1962   \n",
       "7                   Paul Allen     3  2001             1975   \n",
       "10               Larry Ellison     4  2001             1977   \n",
       "11              Warren Buffett     4  2014             1839   \n",
       "14               Larry Ellison     5  2014             1977   \n",
       "17                Charles Koch     6  2014             1940   \n",
       "18                  David Koch     6  2014             1940   \n",
       "20                  Jim Walton     7  2001             1962   \n",
       "22                 John Walton     8  2001             1962   \n",
       "23             Sheldon Adelson     8  2014             1952   \n",
       "25             S Robson Walton     9  2001             1962   \n",
       "26              Christy Walton     9  2014             1962   \n",
       "28                Alice Walton    10  2001             1962   \n",
       "29                Helen Walton    10  2001             1962   \n",
       "30                  Jim Walton    10  2014             1962   \n",
       "36                  Paul Allen    13  1996             1975   \n",
       "37              Steven Ballmer    13  2001             1975   \n",
       "38                Alice Walton    13  2014             1962   \n",
       "41            S. Robson Walton    14  2014             1962   \n",
       "42                  John Kluge    15  1996             1956   \n",
       "46             Philip Anschutz    16  2001             1961   \n",
       "47           Michael Bloomberg    16  2014             1981   \n",
       "50                  Larry Page    17  2014             1998   \n",
       "53             Sumner Redstone    18  2001             1936   \n",
       "54                  Jeff Bezos    18  2014             1995   \n",
       "55               Larry Ellison    19  1996             1977   \n",
       "...                        ...   ...   ...              ...   \n",
       "2477               Mark Pincus  1465  2014             2007   \n",
       "2478        Michael Steinhardt  1465  2014             1967   \n",
       "2488                 Ray Irani  1465  2014             1920   \n",
       "2489            Robert Citrone  1465  2014             1999   \n",
       "2491          Robert Piccinini  1465  2014             1952   \n",
       "2497           Stewart Horejsi  1465  2014             1962   \n",
       "2500             Timothy Boyle  1465  2014             1938   \n",
       "2511           Douglas Perkins  1540  2014             1984   \n",
       "2521              Mary Perkins  1540  2014             1984   \n",
       "2525           Sheryl Sandberg  1540  2014             2004   \n",
       "2526               Sun Hongbin  1540  2014             1994   \n",
       "2536  Andrea Reimann-Ciardelli  1565  2014             1923   \n",
       "2543             Brian Higgins  1565  2014             1995   \n",
       "2544             C. James Koch  1565  2014             1984   \n",
       "2547         Christopher Burch  1565  2014             2004   \n",
       "2556                Fred Chang  1565  2014             2001   \n",
       "2565              Jim Thompson  1565  2014             1965   \n",
       "2567            John Morgridge  1565  2014             1984   \n",
       "2570           Kenneth Tuchman  1565  2014             1982   \n",
       "2572              Leon Charney  1565  2014             1980   \n",
       "2573         Leonard Schleifer  1565  2014             1988   \n",
       "2579              Michael Kors  1565  2014             1981   \n",
       "2586         O. Francis Biondi  1565  2014             1995   \n",
       "2588            Philip Falcone  1565  2014             2001   \n",
       "2592            Ryan Kavanaugh  1565  2014             2004   \n",
       "2593              Sara Blakely  1565  2014             2000   \n",
       "2601             Thomas Bailey  1565  2014             1969   \n",
       "2602             Thomas Kaplan  1565  2014             1993   \n",
       "2603                Tory Burch  1565  2014             2004   \n",
       "2608     William Moncrief, Jr.  1565  2014             1929   \n",
       "\n",
       "                               Company_Name Company_Relationship  \\\n",
       "0                                 Microsoft              founder   \n",
       "1                                 Microsoft              founder   \n",
       "2                                 Microsoft              founder   \n",
       "3                        Berkshire Hathaway              founder   \n",
       "4                        Berkshire Hathaway              founder   \n",
       "7                                 Microsoft              founder   \n",
       "10                                   Oracle              founder   \n",
       "11                       Berkshire Hathaway              founder   \n",
       "14                                   Oracle              founder   \n",
       "17                          Koch industries             relation   \n",
       "18                          Koch industries             relation   \n",
       "20                                  Walmart             relation   \n",
       "22                                  Walmart             relation   \n",
       "23                          Las Vegas Sands              founder   \n",
       "25                                  Walmart             relation   \n",
       "26                                  Walmart             relation   \n",
       "28                                  Walmart             relation   \n",
       "29                                  Walmart             relation   \n",
       "30                                  Walmart             relation   \n",
       "36                                Microsoft              founder   \n",
       "37                                Microsoft                  CEO   \n",
       "38                                  Walmart             relation   \n",
       "41                                  Walmart             relation   \n",
       "42    Metropolitan Broadcasting Corporation             chairman   \n",
       "46                        Circle A Drilling             investor   \n",
       "47                                Bloomberg              founder   \n",
       "50                                   Google              founder   \n",
       "53                      National Amusements             relation   \n",
       "54                                   Amazon              founder   \n",
       "55                                   Oracle              founder   \n",
       "...                                     ...                  ...   \n",
       "2477                                  Zynga              founder   \n",
       "2478       Steinhardt, Fine, Berkowitz & Co              founder   \n",
       "2488                   Occidental Petroleum           former CEO   \n",
       "2489           Discovery Capital Management              founder   \n",
       "2491                              Save Mart             relation   \n",
       "2497                     Berkshire Hathaway             investor   \n",
       "2500                    Columbia Sportswear             relation   \n",
       "2511                             Specsavers              founder   \n",
       "2521                             Specsavers              founder   \n",
       "2525                               Facebook                  COO   \n",
       "2526                   Sunac China Holdings              founder   \n",
       "2536                              Benckiser             relation   \n",
       "2543         King Street Capital Management              founder   \n",
       "2544                    Boston Beer Company              founder   \n",
       "2547                         Tory Burch LLC              founder   \n",
       "2556                             Newegg.com              founder   \n",
       "2565                  Crown Worldwide Group              founder   \n",
       "2567                          Cisco Systems                  ceo   \n",
       "2570                               TeleTech              founder   \n",
       "2572                       One Times Square             investor   \n",
       "2573               Regeneron Pharmaceuicals              founder   \n",
       "2579                           Michael Kors              founder   \n",
       "2586         King Street Capital Management              founder   \n",
       "2588                      Harbinger Capital              founder   \n",
       "2592                       Relativity Media              founder   \n",
       "2593                                  Spanx              founder   \n",
       "2601                    Janus Capital Group              founder   \n",
       "2602                      Apex Silver Mines              founder   \n",
       "2603                         Tory Burch LLC              founder   \n",
       "2608                           Moncrief Oil             relation   \n",
       "\n",
       "                  Company_Sector Company_Type  Demographics_Age  \\\n",
       "0                       Software          new                40   \n",
       "1                       Software          new                45   \n",
       "2                       Software          new                58   \n",
       "3                        Finance          new                65   \n",
       "4                        Finance          new                70   \n",
       "7                     technology          new                48   \n",
       "10                      software          new                56   \n",
       "11                       Finance      aquired                83   \n",
       "14                      software          new                69   \n",
       "17                  Oil refining          new                78   \n",
       "18                  Oil refining          new                73   \n",
       "20                        retail          new                53   \n",
       "22                        retail          new                55   \n",
       "23                       casinos     acquired                80   \n",
       "25                        retail          new                57   \n",
       "26                        retail          new                59   \n",
       "28                        retail          new                52   \n",
       "29                        retail          new                81   \n",
       "30                        retail          new                66   \n",
       "36                    technology          new                43   \n",
       "37                    technology          new                44   \n",
       "38                        retail          new                64   \n",
       "41                        retail          new                70   \n",
       "42                         media          new                81   \n",
       "46    oil, railroad, investments      aquired                61   \n",
       "47                       finance          new                72   \n",
       "50                    technology          new                40   \n",
       "53                         media          new                77   \n",
       "54                    technology          new                50   \n",
       "55                      software          new                51   \n",
       "...                          ...          ...               ...   \n",
       "2477               online gaming          new                48   \n",
       "2478                 hedge funds          new                73   \n",
       "2488                         oil          new                79   \n",
       "2489                 hedge funds          new                49   \n",
       "2491                   groceries          new                72   \n",
       "2497                    finance           new                76   \n",
       "2500                     apparel          new                64   \n",
       "2511                  eyeglasses          new                53   \n",
       "2521                  eyeglasses          new                53   \n",
       "2525            internet company          new                44   \n",
       "2526                 real estate          new                51   \n",
       "2536              consumer goods      aquired                53   \n",
       "2543                 hedge funds          new                49   \n",
       "2544                        beer          new                64   \n",
       "2547                     fashion          new                60   \n",
       "2556                  e-commerce          new                57   \n",
       "2565         relocation services          new                74   \n",
       "2567                    software          new                80   \n",
       "2570                    software          new                54   \n",
       "2572                 real estate          new                72   \n",
       "2573             pharmaceuticals          new                61   \n",
       "2579                      retail          new                54   \n",
       "2586                 hedge funds          new                49   \n",
       "2588                 hedge funds          new                51   \n",
       "2592                        film          new                39   \n",
       "2593                     apparel          new                43   \n",
       "2601                mutual funds          new                77   \n",
       "2602                      metals          new                51   \n",
       "2603                     fashion          new                47   \n",
       "2608                         oil          new                93   \n",
       "\n",
       "     Demographics_Gender Location_Citizenship Location_Country Code  \\\n",
       "0                   male        United States                   USA   \n",
       "1                   male        United States                   USA   \n",
       "2                   male        United States                   USA   \n",
       "3                   male        United States                   USA   \n",
       "4                   male        United States                   USA   \n",
       "7                   male        United States                   USA   \n",
       "10                  male        United States                   USA   \n",
       "11                  male        United States                   USA   \n",
       "14                  male        United States                   USA   \n",
       "17                  male        United States                   USA   \n",
       "18                  male        United States                   USA   \n",
       "20                  male        United States                   USA   \n",
       "22                  male        United States                   USA   \n",
       "23                  male        United States                   USA   \n",
       "25                  male        United States                   USA   \n",
       "26                female        United States                   USA   \n",
       "28                female        United States                   USA   \n",
       "29                female        United States                   USA   \n",
       "30                  male        United States                   USA   \n",
       "36                  male        United States                   USA   \n",
       "37                  male        United States                   USA   \n",
       "38                female        United States                   USA   \n",
       "41                  male        United States                   USA   \n",
       "42                  male        United States                   USA   \n",
       "46                  male        United States                   USA   \n",
       "47                  male        United States                   USA   \n",
       "50                  male        United States                   USA   \n",
       "53                  male        United States                   USA   \n",
       "54                  male        United States                   USA   \n",
       "55                  male        United States                   USA   \n",
       "...                  ...                  ...                   ...   \n",
       "2477                male        United States                   USA   \n",
       "2478                male        United States                   USA   \n",
       "2488                male        United States                   USA   \n",
       "2489                male        United States                   USA   \n",
       "2491                male        United States                   USA   \n",
       "2497                male        United States                   USA   \n",
       "2500                male        United States                   USA   \n",
       "2511                male        United States                   USA   \n",
       "2521              female        United States                   USA   \n",
       "2525              female        United States                   USA   \n",
       "2526                male        United States                   USA   \n",
       "2536              female        United States                   USA   \n",
       "2543                male        United States                   USA   \n",
       "2544                male        United States                   USA   \n",
       "2547                male        United States                   USA   \n",
       "2556                male        United States                   USA   \n",
       "2565                male        United States                   USA   \n",
       "2567                male        United States                   USA   \n",
       "2570                male        United States                   USA   \n",
       "2572                male        United States                   USA   \n",
       "2573                male        United States                   USA   \n",
       "2579                male        United States                   USA   \n",
       "2586                male        United States                   USA   \n",
       "2588                male        United States                   USA   \n",
       "2592                male        United States                   USA   \n",
       "2593              female        United States                   USA   \n",
       "2601                male        United States                   USA   \n",
       "2602                male        United States                   USA   \n",
       "2603              female        United States                   USA   \n",
       "2608                male        United States                   USA   \n",
       "\n",
       "      Location_Gdp Location_Region               Wealth_Type  \\\n",
       "0     8.100000e+12   North America       founder non-finance   \n",
       "1     1.060000e+13   North America       founder non-finance   \n",
       "2     0.000000e+00   North America       founder non-finance   \n",
       "3     8.100000e+12   North America       founder non-finance   \n",
       "4     1.060000e+13   North America       founder non-finance   \n",
       "7     1.060000e+13   North America       founder non-finance   \n",
       "10    1.060000e+13   North America       founder non-finance   \n",
       "11    0.000000e+00   North America       founder non-finance   \n",
       "14    0.000000e+00   North America       founder non-finance   \n",
       "17    0.000000e+00   North America                 inherited   \n",
       "18    0.000000e+00   North America                 inherited   \n",
       "20    1.060000e+13   North America                 inherited   \n",
       "22    1.060000e+13   North America                 inherited   \n",
       "23    0.000000e+00   North America         self-made finance   \n",
       "25    1.060000e+13   North America                 inherited   \n",
       "26    0.000000e+00   North America                 inherited   \n",
       "28    1.060000e+13   North America                 inherited   \n",
       "29    1.060000e+13   North America                 inherited   \n",
       "30    0.000000e+00   North America                 inherited   \n",
       "36    8.100000e+12   North America       founder non-finance   \n",
       "37    1.060000e+13   North America                 executive   \n",
       "38    0.000000e+00   North America                 inherited   \n",
       "41    0.000000e+00   North America                 inherited   \n",
       "42    8.100000e+12   North America                 executive   \n",
       "46    1.060000e+13   North America         self-made finance   \n",
       "47    0.000000e+00   North America       founder non-finance   \n",
       "50    0.000000e+00   North America       founder non-finance   \n",
       "53    1.060000e+13   North America                 inherited   \n",
       "54    0.000000e+00   North America       founder non-finance   \n",
       "55    8.100000e+12   North America       founder non-finance   \n",
       "...            ...             ...                       ...   \n",
       "2477  0.000000e+00   North America       founder non-finance   \n",
       "2478  0.000000e+00   North America         self-made finance   \n",
       "2488  0.000000e+00   North America  privatized and resources   \n",
       "2489  0.000000e+00   North America         self-made finance   \n",
       "2491  0.000000e+00   North America                 inherited   \n",
       "2497  0.000000e+00   North America                 executive   \n",
       "2500  0.000000e+00   North America                 inherited   \n",
       "2511  0.000000e+00   North America       founder non-finance   \n",
       "2521  0.000000e+00   North America       founder non-finance   \n",
       "2525  0.000000e+00   North America                 executive   \n",
       "2526  0.000000e+00   North America         self-made finance   \n",
       "2536  0.000000e+00   North America                 inherited   \n",
       "2543  0.000000e+00   North America         self-made finance   \n",
       "2544  0.000000e+00   North America       founder non-finance   \n",
       "2547  0.000000e+00   North America       founder non-finance   \n",
       "2556  0.000000e+00   North America       founder non-finance   \n",
       "2565  0.000000e+00   North America       founder non-finance   \n",
       "2567  0.000000e+00   North America                 executive   \n",
       "2570  0.000000e+00   North America       founder non-finance   \n",
       "2572  0.000000e+00   North America         self-made finance   \n",
       "2573  0.000000e+00   North America       founder non-finance   \n",
       "2579  0.000000e+00   North America       founder non-finance   \n",
       "2586  0.000000e+00   North America         self-made finance   \n",
       "2588  0.000000e+00   North America         self-made finance   \n",
       "2592  0.000000e+00   North America       founder non-finance   \n",
       "2593  0.000000e+00   North America       founder non-finance   \n",
       "2601  0.000000e+00   North America         self-made finance   \n",
       "2602  0.000000e+00   North America         self-made finance   \n",
       "2603  0.000000e+00   North America       founder non-finance   \n",
       "2608  0.000000e+00   North America                 inherited   \n",
       "\n",
       "      Wealth_Worth_In_Billions Wealth_How_Category  Wealth_How_From_Emerging  \\\n",
       "0                         18.5         New Sectors                      True   \n",
       "1                         58.7         New Sectors                      True   \n",
       "2                         76.0         New Sectors                      True   \n",
       "3                         15.0      Traded Sectors                      True   \n",
       "4                         32.3      Traded Sectors                      True   \n",
       "7                         30.4         New Sectors                      True   \n",
       "10                        26.0         New Sectors                      True   \n",
       "11                        58.2      Traded Sectors                      True   \n",
       "14                        48.0         New Sectors                      True   \n",
       "17                        40.0           Financial                      True   \n",
       "18                        40.0           Financial                      True   \n",
       "20                        18.8  Non-Traded Sectors                      True   \n",
       "22                        18.7      Traded Sectors                      True   \n",
       "23                        38.0           Financial                      True   \n",
       "25                        18.6  Non-Traded Sectors                      True   \n",
       "26                        36.7  Non-Traded Sectors                      True   \n",
       "28                        18.5  Non-Traded Sectors                      True   \n",
       "29                        18.5      Traded Sectors                      True   \n",
       "30                        34.7  Non-Traded Sectors                      True   \n",
       "36                         7.5         New Sectors                      True   \n",
       "37                        16.6         New Sectors                      True   \n",
       "38                        34.3  Non-Traded Sectors                      True   \n",
       "41                        34.2  Non-Traded Sectors                      True   \n",
       "42                         7.2  Non-Traded Sectors                      True   \n",
       "46                        15.3           Financial                      True   \n",
       "47                        33.0  Non-Traded Sectors                      True   \n",
       "50                        32.3         New Sectors                      True   \n",
       "53                        12.6  Non-Traded Sectors                      True   \n",
       "54                        32.0  Non-Traded Sectors                      True   \n",
       "55                         6.0         New Sectors                      True   \n",
       "...                        ...                 ...                       ...   \n",
       "2477                       1.1         New Sectors                      True   \n",
       "2478                       1.1           Financial                      True   \n",
       "2488                       1.1    Resource Related                      True   \n",
       "2489                       1.1           Financial                      True   \n",
       "2491                       1.1  Non-Traded Sectors                      True   \n",
       "2497                       1.1      Traded Sectors                      True   \n",
       "2500                       1.1      Traded Sectors                      True   \n",
       "2511                       1.1  Non-Traded Sectors                      True   \n",
       "2521                       1.1  Non-Traded Sectors                      True   \n",
       "2525                       1.1         New Sectors                      True   \n",
       "2526                       1.1           Financial                      True   \n",
       "2536                       1.0      Traded Sectors                      True   \n",
       "2543                       1.0           Financial                      True   \n",
       "2544                       1.0      Traded Sectors                      True   \n",
       "2547                       1.0      Traded Sectors                      True   \n",
       "2556                       1.0  Non-Traded Sectors                      True   \n",
       "2565                       1.0                   0                      True   \n",
       "2567                       1.0         New Sectors                      True   \n",
       "2570                       1.0  Non-Traded Sectors                      True   \n",
       "2572                       1.0           Financial                      True   \n",
       "2573                       1.0         New Sectors                      True   \n",
       "2579                       1.0  Non-Traded Sectors                      True   \n",
       "2586                       1.0           Financial                      True   \n",
       "2588                       1.0           Financial                      True   \n",
       "2592                       1.0  Non-Traded Sectors                      True   \n",
       "2593                       1.0      Traded Sectors                      True   \n",
       "2601                       1.0           Financial                      True   \n",
       "2602                       1.0           Financial                      True   \n",
       "2603                       1.0      Traded Sectors                      True   \n",
       "2608                       1.0    Resource Related                      True   \n",
       "\n",
       "        Wealth_How_Industry Wealth_How_Inherited  Wealth_How_Was_Founder  \\\n",
       "0       Technology-Computer        not inherited                    True   \n",
       "1       Technology-Computer        not inherited                    True   \n",
       "2       Technology-Computer        not inherited                    True   \n",
       "3                  Consumer        not inherited                    True   \n",
       "4                  Consumer        not inherited                    True   \n",
       "7       Technology-Computer        not inherited                    True   \n",
       "10      Technology-Computer        not inherited                    True   \n",
       "11                 Consumer        not inherited                    True   \n",
       "14      Technology-Computer        not inherited                    True   \n",
       "17    Diversified financial               father                    True   \n",
       "18    Diversified financial               father                    True   \n",
       "20       Retail, Restaurant               father                    True   \n",
       "22                 Consumer               father                    True   \n",
       "23              Real Estate        not inherited                    True   \n",
       "25       Retail, Restaurant               father                    True   \n",
       "26       Retail, Restaurant         spouse/widow                    True   \n",
       "28       Retail, Restaurant               father                    True   \n",
       "29                 Consumer         spouse/widow                    True   \n",
       "30       Retail, Restaurant               father                    True   \n",
       "36      Technology-Computer        not inherited                    True   \n",
       "37      Technology-Computer        not inherited                    True   \n",
       "38       Retail, Restaurant               father                    True   \n",
       "41       Retail, Restaurant               father                    True   \n",
       "42                    Media        not inherited                    True   \n",
       "46         Money Management        not inherited                    True   \n",
       "47                    Media        not inherited                    True   \n",
       "50      Technology-Computer        not inherited                    True   \n",
       "53                    Media               father                    True   \n",
       "54       Retail, Restaurant        not inherited                    True   \n",
       "55      Technology-Computer        not inherited                    True   \n",
       "...                     ...                  ...                     ...   \n",
       "2477    Technology-Computer        not inherited                    True   \n",
       "2478       Money Management        not inherited                    True   \n",
       "2488                 Energy        not inherited                    True   \n",
       "2489            Hedge funds        not inherited                    True   \n",
       "2491     Retail, Restaurant               father                    True   \n",
       "2497               Consumer        not inherited                    True   \n",
       "2500               Consumer       3rd generation                    True   \n",
       "2511     Retail, Restaurant        not inherited                    True   \n",
       "2521     Retail, Restaurant        not inherited                    True   \n",
       "2525    Technology-Computer        not inherited                    True   \n",
       "2526            Real Estate        not inherited                    True   \n",
       "2536               Consumer               father                    True   \n",
       "2543            Hedge funds        not inherited                    True   \n",
       "2544               Consumer        not inherited                    True   \n",
       "2547               Consumer        not inherited                    True   \n",
       "2556     Retail, Restaurant        not inherited                    True   \n",
       "2565                  Other        not inherited                    True   \n",
       "2567    Technology-Computer        not inherited                    True   \n",
       "2570     Retail, Restaurant        not inherited                    True   \n",
       "2572            Real Estate        not inherited                    True   \n",
       "2573     Technology-Medical        not inherited                    True   \n",
       "2579     Retail, Restaurant        not inherited                    True   \n",
       "2586            Hedge funds        not inherited                    True   \n",
       "2588            Hedge funds        not inherited                    True   \n",
       "2592                  Media        not inherited                    True   \n",
       "2593               Consumer        not inherited                    True   \n",
       "2601       Money Management        not inherited                    True   \n",
       "2602  Diversified financial        not inherited                    True   \n",
       "2603               Consumer        not inherited                    True   \n",
       "2608                 Energy               father                    True   \n",
       "\n",
       "      Wealth_How_Was_Political  \n",
       "0                         True  \n",
       "1                         True  \n",
       "2                         True  \n",
       "3                         True  \n",
       "4                         True  \n",
       "7                         True  \n",
       "10                        True  \n",
       "11                        True  \n",
       "14                        True  \n",
       "17                        True  \n",
       "18                        True  \n",
       "20                        True  \n",
       "22                        True  \n",
       "23                        True  \n",
       "25                        True  \n",
       "26                        True  \n",
       "28                        True  \n",
       "29                        True  \n",
       "30                        True  \n",
       "36                        True  \n",
       "37                        True  \n",
       "38                        True  \n",
       "41                        True  \n",
       "42                        True  \n",
       "46                        True  \n",
       "47                        True  \n",
       "50                        True  \n",
       "53                        True  \n",
       "54                        True  \n",
       "55                        True  \n",
       "...                        ...  \n",
       "2477                      True  \n",
       "2478                      True  \n",
       "2488                      True  \n",
       "2489                      True  \n",
       "2491                      True  \n",
       "2497                      True  \n",
       "2500                      True  \n",
       "2511                      True  \n",
       "2521                      True  \n",
       "2525                      True  \n",
       "2526                      True  \n",
       "2536                      True  \n",
       "2543                      True  \n",
       "2544                      True  \n",
       "2547                      True  \n",
       "2556                      True  \n",
       "2565                      True  \n",
       "2567                      True  \n",
       "2570                      True  \n",
       "2572                      True  \n",
       "2573                      True  \n",
       "2579                      True  \n",
       "2586                      True  \n",
       "2588                      True  \n",
       "2592                      True  \n",
       "2593                      True  \n",
       "2601                      True  \n",
       "2602                      True  \n",
       "2603                      True  \n",
       "2608                      True  \n",
       "\n",
       "[903 rows x 22 columns]"
      ]
     },
     "execution_count": 22,
     "metadata": {},
     "output_type": "execute_result"
    }
   ],
   "source": [
    "pd.set_option('display.max_columns', 30)\n",
    "sample_test = billionaires[(billionaires['Year'] ==1996) & (billionaires['Company_Sector'] == \"real estate\")]\n",
    "billionaires[billionaires['Location_Citizenship']=='United States']"
   ]
  },
  {
   "cell_type": "code",
   "execution_count": 23,
   "metadata": {},
   "outputs": [],
   "source": [
    "#billionaires.sort_values([\"Year\",\"Rank\"], ascending=[True, True])"
   ]
  },
  {
   "cell_type": "markdown",
   "metadata": {},
   "source": [
    "### Lets plot the Top Countries which had the maximum number of Billionares (based on each year the data was collected)"
   ]
  },
  {
   "cell_type": "code",
   "execution_count": 24,
   "metadata": {},
   "outputs": [],
   "source": [
    "def categorical_var(x):\n",
    "    year=x['Year'].unique() \n",
    "    return year"
   ]
  },
  {
   "cell_type": "code",
   "execution_count": 25,
   "metadata": {},
   "outputs": [
    {
     "data": {
      "application/vnd.jupyter.widget-view+json": {
       "model_id": "3998f90f864b4cd2bcb0a352ef365455",
       "version_major": 2,
       "version_minor": 0
      },
      "text/plain": [
       "interactive(children=(Dropdown(description='x_axis', options=(1996, 2001, 2014), value=1996), Output()), _dom_…"
      ]
     },
     "metadata": {},
     "output_type": "display_data"
    }
   ],
   "source": [
    "@ipywidgets.interact\n",
    "# we have defined the widget values for X-axis and the Int Slider parameters in the function.      \n",
    "        \n",
    "def plot_histogram(x_axis=categorical_var(billionaires)):\n",
    "    plt.figure(figsize=(18,10))  # size of the plot    \n",
    "    norm = mpl_colors.Normalize()\n",
    "    if x_axis == 1996:\n",
    "        temp_data = billionaires[billionaires['Year']==1996]\n",
    "        Bill_Country = temp_data.groupby('Location_Citizenship')[['Name']].count()\n",
    "        #plot bar Graph\n",
    "        Bill_Country.sort_values(\"Name\", ascending = False).head(20).plot(kind= 'bar',figsize = (18,9), colors=\"violet\")\n",
    "        plt.xlabel('Top 20 Country - 1996',fontsize = 18)\n",
    "        plt.ylabel('Count of Billionares',fontsize = 18)\n",
    "        plt.title('Top Billionares Based on Country', fontsize = 22)\n",
    "    elif x_axis == 2001:\n",
    "        temp_data = billionaires[billionaires['Year']==2001]\n",
    "        Bill_Country = temp_data.groupby('Location_Citizenship')[['Name']].count()\n",
    "        #plot bar Graph\n",
    "        Bill_Country.sort_values(\"Name\", ascending = False).head(20).plot(kind= 'bar', figsize = (18,9), colors=\"teal\")\n",
    "        plt.xlabel('Top 20 Country - 2001',fontsize = 18)\n",
    "        plt.ylabel('Count of Billionares',fontsize = 18)\n",
    "        plt.title('Top Billionares Based on Country', fontsize = 22)\n",
    "    elif x_axis == 2014:\n",
    "        temp_data = billionaires[billionaires['Year']==2014]\n",
    "        Bill_Country = temp_data.groupby('Location_Citizenship')[['Name']].count()\n",
    "        #plot bar Graph\n",
    "        Bill_Country.sort_values(\"Name\", ascending = False).head(20).plot(kind= 'bar', figsize = (18,9), colors=\"crimson\")\n",
    "        plt.xlabel('Top 20 Country - 2014',fontsize = 18)\n",
    "        plt.ylabel('Count of Billionares',fontsize = 18)\n",
    "        plt.title('Top Billionares Based on Country', fontsize = 22)\n",
    "        #print(temp_data)"
   ]
  },
  {
   "cell_type": "code",
   "execution_count": 26,
   "metadata": {},
   "outputs": [],
   "source": [
    "# Sample = billionaires.groupby(['Company_Sector'], as_index=False)['Rank'].count()\n",
    "# Sample.head(20)"
   ]
  },
  {
   "cell_type": "code",
   "execution_count": 27,
   "metadata": {},
   "outputs": [
    {
     "data": {
      "text/plain": [
       "array([1996, 2001, 2014], dtype=int64)"
      ]
     },
     "execution_count": 27,
     "metadata": {},
     "output_type": "execute_result"
    }
   ],
   "source": [
    "billionaires[\"Year\"].unique()"
   ]
  },
  {
   "cell_type": "markdown",
   "metadata": {},
   "source": [
    "### Now we will plot the graphs for the Major Sectors which had the most number of Billionares (based on each year the data was collected)"
   ]
  },
  {
   "cell_type": "code",
   "execution_count": 28,
   "metadata": {
    "scrolled": false
   },
   "outputs": [
    {
     "data": {
      "application/vnd.jupyter.widget-view+json": {
       "model_id": "f01f55bbff224dbf98c3c88d9870fc44",
       "version_major": 2,
       "version_minor": 0
      },
      "text/plain": [
       "interactive(children=(Dropdown(description='x_axis', options=(1996, 2001, 2014), value=1996), Output()), _dom_…"
      ]
     },
     "metadata": {},
     "output_type": "display_data"
    }
   ],
   "source": [
    "@ipywidgets.interact\n",
    "# we have defined the widget values for X-axis and the Int Slider parameters in the function.\n",
    "def plot_histogram(x_axis=categorical_var(billionaires)):\n",
    "    plt.figure(figsize=(18,10))  # size of the plot\n",
    "    if x_axis == 1996:\n",
    "        temp_data = billionaires[billionaires['Year']==1996]\n",
    "        Bill_Country = temp_data.groupby('Company_Sector')[['Name']].count()\n",
    "        Bill_Country.sort_values(\"Name\", ascending = False).head(20).plot(kind= 'bar', figsize = (18,9),color = 'bbbbbcccccyyyyyrrrrr')\n",
    "        plt.xlabel('Top 20 Sectors - 1996',fontsize = 18)\n",
    "        plt.ylabel('Count of Billionares',fontsize = 18)\n",
    "        plt.title('Sectors consisting of Maximum Billionares (Based on Year)', fontsize = 22)\n",
    "    elif x_axis == 2001:\n",
    "        temp_data = billionaires[billionaires['Year']==2001]\n",
    "        Bill_Country = temp_data.groupby('Company_Sector')[['Name']].count()\n",
    "        #plot bar Graph\n",
    "        Bill_Country.sort_values(\"Name\", ascending = False).head(20).plot(kind= 'bar', figsize = (18,9),color = 'bbbcccccyyyyyrrrrr')\n",
    "        plt.xlabel('Top 20 Sectors - 2001',fontsize = 18)\n",
    "        plt.ylabel('Count of Billionares',fontsize = 18)\n",
    "        plt.title('Sectors consisting of Maximum Billionares (Based on Year)', fontsize = 22)\n",
    "    elif x_axis == 2014:\n",
    "        temp_data = billionaires[billionaires['Year']==2014]\n",
    "        Bill_Country = temp_data.groupby('Company_Sector')[['Name']].count()\n",
    "        #plot bar Graph\n",
    "        Bill_Country.sort_values(\"Name\", ascending = False).head(20).plot(kind= 'bar', figsize = (18,9),color = 'bbbbbcccccyyyyyrrrrr')\n",
    "        plt.xlabel('Top 20 Sectors - 2014',fontsize = 18)\n",
    "        plt.ylabel('Count of Billionares',fontsize = 18)\n",
    "        plt.title('Sectors consisting of Maximum Billionares (Based on Year)', fontsize = 22)\n",
    "        #print(temp_data)"
   ]
  },
  {
   "cell_type": "code",
   "execution_count": 29,
   "metadata": {},
   "outputs": [
    {
     "data": {
      "text/plain": [
       "271.2"
      ]
     },
     "execution_count": 29,
     "metadata": {},
     "output_type": "execute_result"
    }
   ],
   "source": [
    "z = billionaires.groupby('Company_Name')['Wealth_Worth_In_Billions'].sum()\n",
    "z[\"Walmart\"]"
   ]
  },
  {
   "cell_type": "markdown",
   "metadata": {},
   "source": [
    "### Now we will check the Age Range of Billionares based on Region for a particular year."
   ]
  },
  {
   "cell_type": "code",
   "execution_count": 30,
   "metadata": {},
   "outputs": [],
   "source": [
    "import plotly.express as px\n",
    "data2001 = billionaires.query(\"Year == 2001\").sort_values(\"Wealth_Worth_In_Billions\", ascending = False)\n",
    "data1996 = billionaires.query(\"Year == 1996\").sort_values(\"Wealth_Worth_In_Billions\", ascending = False)\n",
    "data2014 = billionaires.query(\"Year == 2014\").sort_values(\"Wealth_Worth_In_Billions\", ascending = False)"
   ]
  },
  {
   "cell_type": "code",
   "execution_count": 31,
   "metadata": {},
   "outputs": [
    {
     "data": {
      "application/vnd.jupyter.widget-view+json": {
       "model_id": "d25a70294c534433acd930b4ee48a137",
       "version_major": 2,
       "version_minor": 0
      },
      "text/plain": [
       "interactive(children=(Dropdown(description='x_axis', options=(1996, 2001, 2014), value=1996), Output()), _dom_…"
      ]
     },
     "metadata": {},
     "output_type": "display_data"
    }
   ],
   "source": [
    "@ipywidgets.interact\n",
    "# we have defined the widget values for X-axis and the Int Slider parameters in the function.\n",
    "def plot_histogram(x_axis=categorical_var(billionaires)):\n",
    "    plt.figure(figsize=(18,10))  # size of the plot\n",
    "    if x_axis == 1996:\n",
    "        fig1 = px.scatter(data1996, x=\"Name\", y=\"Demographics_Age\", color= \"Location_Region\", hover_name=\"Location_Citizenship\")\n",
    "        fig1.update_layout(\n",
    "            autosize=False,\n",
    "            width=1000,\n",
    "            height=700,\n",
    "            title=\"Age Range of Billionares based on Region for the year 1996\")\n",
    "        fig1.show()\n",
    "    elif x_axis == 2001:\n",
    "        fig2 = px.scatter(data2001, x=\"Name\", y=\"Demographics_Age\", color= \"Location_Region\", hover_name=\"Location_Citizenship\")\n",
    "        fig2.update_layout(\n",
    "            autosize=False,\n",
    "            width=1000,\n",
    "            height=700,\n",
    "            title=\"Age Range of Billionares based on Region for the year 2001\")\n",
    "        fig2.show()\n",
    "    elif x_axis == 2014:\n",
    "        fig3 = px.scatter(data2014, x=\"Name\", y=\"Demographics_Age\", color= \"Location_Region\", hover_name=\"Location_Citizenship\")\n",
    "        fig3.update_layout(\n",
    "            autosize=False,\n",
    "            width=1000,\n",
    "            height=700,\n",
    "            title=\"Age Range of Billionares based on Region for the year 2014\")\n",
    "        fig3.show()\n",
    "    \n"
   ]
  },
  {
   "cell_type": "markdown",
   "metadata": {},
   "source": [
    "## We will count the number of males and females billionares per year"
   ]
  },
  {
   "cell_type": "code",
   "execution_count": 32,
   "metadata": {
    "scrolled": true
   },
   "outputs": [
    {
     "data": {
      "text/html": [
       "<div>\n",
       "<style scoped>\n",
       "    .dataframe tbody tr th:only-of-type {\n",
       "        vertical-align: middle;\n",
       "    }\n",
       "\n",
       "    .dataframe tbody tr th {\n",
       "        vertical-align: top;\n",
       "    }\n",
       "\n",
       "    .dataframe thead th {\n",
       "        text-align: right;\n",
       "    }\n",
       "</style>\n",
       "<table border=\"1\" class=\"dataframe\">\n",
       "  <thead>\n",
       "    <tr style=\"text-align: right;\">\n",
       "      <th></th>\n",
       "      <th>Demographics_Gender</th>\n",
       "      <th>Rank</th>\n",
       "    </tr>\n",
       "  </thead>\n",
       "  <tbody>\n",
       "    <tr>\n",
       "      <th>0</th>\n",
       "      <td>female</td>\n",
       "      <td>31</td>\n",
       "    </tr>\n",
       "    <tr>\n",
       "      <th>1</th>\n",
       "      <td>male</td>\n",
       "      <td>357</td>\n",
       "    </tr>\n",
       "    <tr>\n",
       "      <th>2</th>\n",
       "      <td>married couple</td>\n",
       "      <td>1</td>\n",
       "    </tr>\n",
       "  </tbody>\n",
       "</table>\n",
       "</div>"
      ],
      "text/plain": [
       "  Demographics_Gender  Rank\n",
       "0              female    31\n",
       "1                male   357\n",
       "2      married couple     1"
      ]
     },
     "execution_count": 32,
     "metadata": {},
     "output_type": "execute_result"
    }
   ],
   "source": [
    "gender1 = data1996.groupby(\"Demographics_Gender\")[\"Rank\"].count().reset_index()\n",
    "gender1"
   ]
  },
  {
   "cell_type": "code",
   "execution_count": 33,
   "metadata": {},
   "outputs": [
    {
     "data": {
      "text/html": [
       "<div>\n",
       "<style scoped>\n",
       "    .dataframe tbody tr th:only-of-type {\n",
       "        vertical-align: middle;\n",
       "    }\n",
       "\n",
       "    .dataframe tbody tr th {\n",
       "        vertical-align: top;\n",
       "    }\n",
       "\n",
       "    .dataframe thead th {\n",
       "        text-align: right;\n",
       "    }\n",
       "</style>\n",
       "<table border=\"1\" class=\"dataframe\">\n",
       "  <thead>\n",
       "    <tr style=\"text-align: right;\">\n",
       "      <th></th>\n",
       "      <th>Demographics_Gender</th>\n",
       "      <th>Rank</th>\n",
       "    </tr>\n",
       "  </thead>\n",
       "  <tbody>\n",
       "    <tr>\n",
       "      <th>0</th>\n",
       "      <td>female</td>\n",
       "      <td>38</td>\n",
       "    </tr>\n",
       "    <tr>\n",
       "      <th>1</th>\n",
       "      <td>male</td>\n",
       "      <td>498</td>\n",
       "    </tr>\n",
       "    <tr>\n",
       "      <th>2</th>\n",
       "      <td>married couple</td>\n",
       "      <td>2</td>\n",
       "    </tr>\n",
       "  </tbody>\n",
       "</table>\n",
       "</div>"
      ],
      "text/plain": [
       "  Demographics_Gender  Rank\n",
       "0              female    38\n",
       "1                male   498\n",
       "2      married couple     2"
      ]
     },
     "execution_count": 33,
     "metadata": {},
     "output_type": "execute_result"
    }
   ],
   "source": [
    "gender2 = data2001.groupby(\"Demographics_Gender\")[\"Rank\"].count().reset_index()\n",
    "gender2"
   ]
  },
  {
   "cell_type": "code",
   "execution_count": 34,
   "metadata": {
    "scrolled": false
   },
   "outputs": [
    {
     "data": {
      "text/html": [
       "<div>\n",
       "<style scoped>\n",
       "    .dataframe tbody tr th:only-of-type {\n",
       "        vertical-align: middle;\n",
       "    }\n",
       "\n",
       "    .dataframe tbody tr th {\n",
       "        vertical-align: top;\n",
       "    }\n",
       "\n",
       "    .dataframe thead th {\n",
       "        text-align: right;\n",
       "    }\n",
       "</style>\n",
       "<table border=\"1\" class=\"dataframe\">\n",
       "  <thead>\n",
       "    <tr style=\"text-align: right;\">\n",
       "      <th></th>\n",
       "      <th>Demographics_Gender</th>\n",
       "      <th>Rank</th>\n",
       "    </tr>\n",
       "  </thead>\n",
       "  <tbody>\n",
       "    <tr>\n",
       "      <th>0</th>\n",
       "      <td>female</td>\n",
       "      <td>180</td>\n",
       "    </tr>\n",
       "    <tr>\n",
       "      <th>1</th>\n",
       "      <td>male</td>\n",
       "      <td>1473</td>\n",
       "    </tr>\n",
       "  </tbody>\n",
       "</table>\n",
       "</div>"
      ],
      "text/plain": [
       "  Demographics_Gender  Rank\n",
       "0              female   180\n",
       "1                male  1473"
      ]
     },
     "execution_count": 34,
     "metadata": {},
     "output_type": "execute_result"
    }
   ],
   "source": [
    "gender3 = data2014.groupby(\"Demographics_Gender\")[\"Rank\"].count().reset_index()\n",
    "gender3"
   ]
  },
  {
   "cell_type": "code",
   "execution_count": 35,
   "metadata": {
    "scrolled": true
   },
   "outputs": [
    {
     "data": {
      "text/html": [
       "<div>\n",
       "<style scoped>\n",
       "    .dataframe tbody tr th:only-of-type {\n",
       "        vertical-align: middle;\n",
       "    }\n",
       "\n",
       "    .dataframe tbody tr th {\n",
       "        vertical-align: top;\n",
       "    }\n",
       "\n",
       "    .dataframe thead th {\n",
       "        text-align: right;\n",
       "    }\n",
       "</style>\n",
       "<table border=\"1\" class=\"dataframe\">\n",
       "  <thead>\n",
       "    <tr style=\"text-align: right;\">\n",
       "      <th></th>\n",
       "      <th>Name</th>\n",
       "      <th>Rank</th>\n",
       "      <th>Year</th>\n",
       "      <th>Company_Founded</th>\n",
       "      <th>Company_Name</th>\n",
       "      <th>Company_Relationship</th>\n",
       "      <th>Company_Sector</th>\n",
       "      <th>Company_Type</th>\n",
       "      <th>Demographics_Age</th>\n",
       "      <th>Demographics_Gender</th>\n",
       "      <th>Location_Citizenship</th>\n",
       "      <th>Location_Country Code</th>\n",
       "      <th>Location_Gdp</th>\n",
       "      <th>Location_Region</th>\n",
       "      <th>Wealth_Type</th>\n",
       "      <th>Wealth_Worth_In_Billions</th>\n",
       "      <th>Wealth_How_Category</th>\n",
       "      <th>Wealth_How_From_Emerging</th>\n",
       "      <th>Wealth_How_Industry</th>\n",
       "      <th>Wealth_How_Inherited</th>\n",
       "      <th>Wealth_How_Was_Founder</th>\n",
       "      <th>Wealth_How_Was_Political</th>\n",
       "    </tr>\n",
       "  </thead>\n",
       "  <tbody>\n",
       "    <tr>\n",
       "      <th>805</th>\n",
       "      <td>Willi and Isolde Liebherr</td>\n",
       "      <td>268</td>\n",
       "      <td>1996</td>\n",
       "      <td>1949</td>\n",
       "      <td>Liebherr</td>\n",
       "      <td>relation</td>\n",
       "      <td>construction</td>\n",
       "      <td>new</td>\n",
       "      <td>53</td>\n",
       "      <td>married couple</td>\n",
       "      <td>Switzerland</td>\n",
       "      <td>CHE</td>\n",
       "      <td>3.300000e+11</td>\n",
       "      <td>Europe</td>\n",
       "      <td>inherited</td>\n",
       "      <td>1.5</td>\n",
       "      <td>Non-Traded Sectors</td>\n",
       "      <td>True</td>\n",
       "      <td>Constrution</td>\n",
       "      <td>not inherited</td>\n",
       "      <td>True</td>\n",
       "      <td>True</td>\n",
       "    </tr>\n",
       "    <tr>\n",
       "      <th>1109</th>\n",
       "      <td>Willi and Isolde Liebherr</td>\n",
       "      <td>363</td>\n",
       "      <td>2001</td>\n",
       "      <td>1949</td>\n",
       "      <td>Liebherr</td>\n",
       "      <td>relation</td>\n",
       "      <td>construction</td>\n",
       "      <td>new</td>\n",
       "      <td>53</td>\n",
       "      <td>married couple</td>\n",
       "      <td>Switzerland</td>\n",
       "      <td>CHE</td>\n",
       "      <td>2.790000e+11</td>\n",
       "      <td>Europe</td>\n",
       "      <td>inherited</td>\n",
       "      <td>1.4</td>\n",
       "      <td>Non-Traded Sectors</td>\n",
       "      <td>True</td>\n",
       "      <td>Constrution</td>\n",
       "      <td>not inherited</td>\n",
       "      <td>True</td>\n",
       "      <td>True</td>\n",
       "    </tr>\n",
       "    <tr>\n",
       "      <th>1435</th>\n",
       "      <td>Jacob and Yehudith Richter</td>\n",
       "      <td>490</td>\n",
       "      <td>2001</td>\n",
       "      <td>1992</td>\n",
       "      <td>Medinol</td>\n",
       "      <td>founder</td>\n",
       "      <td>pharmaceuticals</td>\n",
       "      <td>new</td>\n",
       "      <td>53</td>\n",
       "      <td>married couple</td>\n",
       "      <td>Israel</td>\n",
       "      <td>ISR</td>\n",
       "      <td>1.300000e+11</td>\n",
       "      <td>Middle East/North Africa</td>\n",
       "      <td>founder non-finance</td>\n",
       "      <td>1.0</td>\n",
       "      <td>New Sectors</td>\n",
       "      <td>True</td>\n",
       "      <td>Technology-Medical</td>\n",
       "      <td>not inherited</td>\n",
       "      <td>True</td>\n",
       "      <td>True</td>\n",
       "    </tr>\n",
       "  </tbody>\n",
       "</table>\n",
       "</div>"
      ],
      "text/plain": [
       "                            Name  Rank  Year  Company_Founded Company_Name  \\\n",
       "805    Willi and Isolde Liebherr   268  1996             1949     Liebherr   \n",
       "1109   Willi and Isolde Liebherr   363  2001             1949     Liebherr   \n",
       "1435  Jacob and Yehudith Richter   490  2001             1992      Medinol   \n",
       "\n",
       "     Company_Relationship   Company_Sector Company_Type  Demographics_Age  \\\n",
       "805              relation     construction          new                53   \n",
       "1109             relation     construction          new                53   \n",
       "1435              founder  pharmaceuticals          new                53   \n",
       "\n",
       "     Demographics_Gender Location_Citizenship Location_Country Code  \\\n",
       "805       married couple          Switzerland                   CHE   \n",
       "1109      married couple          Switzerland                   CHE   \n",
       "1435      married couple               Israel                   ISR   \n",
       "\n",
       "      Location_Gdp           Location_Region          Wealth_Type  \\\n",
       "805   3.300000e+11                    Europe            inherited   \n",
       "1109  2.790000e+11                    Europe            inherited   \n",
       "1435  1.300000e+11  Middle East/North Africa  founder non-finance   \n",
       "\n",
       "      Wealth_Worth_In_Billions Wealth_How_Category  Wealth_How_From_Emerging  \\\n",
       "805                        1.5  Non-Traded Sectors                      True   \n",
       "1109                       1.4  Non-Traded Sectors                      True   \n",
       "1435                       1.0         New Sectors                      True   \n",
       "\n",
       "     Wealth_How_Industry Wealth_How_Inherited  Wealth_How_Was_Founder  \\\n",
       "805          Constrution        not inherited                    True   \n",
       "1109         Constrution        not inherited                    True   \n",
       "1435  Technology-Medical        not inherited                    True   \n",
       "\n",
       "      Wealth_How_Was_Political  \n",
       "805                       True  \n",
       "1109                      True  \n",
       "1435                      True  "
      ]
     },
     "execution_count": 35,
     "metadata": {},
     "output_type": "execute_result"
    }
   ],
   "source": [
    "billionaires[billionaires[\"Demographics_Gender\"]==\"married couple\"] # Where couple is billionare based on joint wealth"
   ]
  },
  {
   "cell_type": "code",
   "execution_count": 36,
   "metadata": {
    "scrolled": false
   },
   "outputs": [
    {
     "data": {
      "application/vnd.jupyter.widget-view+json": {
       "model_id": "99c42b60a50e44d6b57bd468862d2eff",
       "version_major": 2,
       "version_minor": 0
      },
      "text/plain": [
       "interactive(children=(Dropdown(description='x_axis', options=(1996, 2001, 2014), value=1996), Output()), _dom_…"
      ]
     },
     "metadata": {},
     "output_type": "display_data"
    }
   ],
   "source": [
    "@ipywidgets.interact\n",
    "# we have defined the widget values for X-axis and the Int Slider parameters in the function.\n",
    "def plot_histogram(x_axis=categorical_var(billionaires)):\n",
    "    plt.figure(figsize=(18,10))  # size of the plot\n",
    "    if x_axis == 1996:\n",
    "        fig = px.bar(gender1, x='Demographics_Gender', y='Rank',\n",
    "            labels={'Rank':'Count of Billionares'},title=\"Male, Female, and Married Couple count for Billionares in the year 1996\", height=400)\n",
    "        fig.show()\n",
    "    elif x_axis == 2001:\n",
    "        fig = px.bar(gender2, x='Demographics_Gender', y='Rank',\n",
    "            labels={'Rank':'Count of Billionares'},title=\"Male, Female, and Married Couple count for Billionares in the year 2001\", height=400)\n",
    "        fig.show()\n",
    "    elif x_axis == 2014:\n",
    "        fig = px.bar(gender3, x='Demographics_Gender', y='Rank',\n",
    "            labels={'Rank':'Count of Billionares'},title=\"Male, Female, and Married Couple count for Billionares in the year 2014\", height=400)\n",
    "        fig.show()"
   ]
  },
  {
   "cell_type": "code",
   "execution_count": 37,
   "metadata": {},
   "outputs": [],
   "source": [
    "import numpy as np\n",
    "data2014 = data2014.replace(np.nan, '', regex=True) # Replace the nan values"
   ]
  },
  {
   "cell_type": "code",
   "execution_count": 38,
   "metadata": {},
   "outputs": [],
   "source": [
    "#data2014.isnull().values.sum()"
   ]
  },
  {
   "cell_type": "code",
   "execution_count": 39,
   "metadata": {},
   "outputs": [
    {
     "data": {
      "application/vnd.jupyter.widget-view+json": {
       "model_id": "2814f5e0a74a4883ba544527197d7677",
       "version_major": 2,
       "version_minor": 0
      },
      "text/plain": [
       "interactive(children=(Dropdown(description='x_axis', options=(1996, 2001, 2014), value=1996), Output()), _dom_…"
      ]
     },
     "metadata": {},
     "output_type": "display_data"
    }
   ],
   "source": [
    "@ipywidgets.interact\n",
    "def plot_histogram(x_axis=categorical_var(billionaires)):\n",
    "    plt.figure(figsize=(18,10))  # size of the plot\n",
    "    if x_axis == 1996:\n",
    "        figa =  px.choropleth(data1996, locations=\"Location_Country Code\", color=\"Location_Region\", \n",
    "                              hover_data=[\"Name\"], animation_frame=\"Wealth_How_Industry\",\n",
    "                              color_continuous_scale=px.colors.sequential.Plasma, projection=\"natural earth\")\n",
    "        figa.show()\n",
    "    elif x_axis == 2001:\n",
    "        figb = px.choropleth(data2001, locations=\"Location_Country Code\", color=\"Location_Region\", \n",
    "                             hover_data=[\"Name\"],animation_frame=\"Wealth_How_Industry\",\n",
    "                             color_continuous_scale=px.colors.sequential.Plasma, projection=\"natural earth\")\n",
    "        figb.show()\n",
    "    elif x_axis == 2014:\n",
    "        figc = px.choropleth(data2014, locations=\"Location_Country Code\", color=\"Location_Region\", \n",
    "                             hover_data=[\"Name\"],animation_frame=\"Wealth_How_Industry\",\n",
    "                             color_continuous_scale=px.colors.sequential.Plasma, projection=\"natural earth\")\n",
    "        figc.show()"
   ]
  },
  {
   "cell_type": "code",
   "execution_count": 40,
   "metadata": {},
   "outputs": [
    {
     "data": {
      "text/plain": [
       "61.333333333333336"
      ]
     },
     "execution_count": 40,
     "metadata": {},
     "output_type": "execute_result"
    }
   ],
   "source": [
    "test_age = billionaires[(billionaires[\"Location_Citizenship\"] == \"Brazil\") & (billionaires[\"Year\"] ==2001)]\n",
    "test_age[\"Demographics_Age\"].mean()"
   ]
  },
  {
   "cell_type": "code",
   "execution_count": 41,
   "metadata": {},
   "outputs": [
    {
     "data": {
      "text/plain": [
       "Name                        17\n",
       "Rank                        17\n",
       "Year                        17\n",
       "Company_Founded             17\n",
       "Company_Name                17\n",
       "Company_Relationship        17\n",
       "Company_Sector              17\n",
       "Company_Type                17\n",
       "Demographics_Age            17\n",
       "Demographics_Gender         17\n",
       "Location_Citizenship        17\n",
       "Location_Country Code       17\n",
       "Location_Gdp                17\n",
       "Location_Region             17\n",
       "Wealth_Type                 17\n",
       "Wealth_Worth_In_Billions    17\n",
       "Wealth_How_Category         17\n",
       "Wealth_How_From_Emerging    17\n",
       "Wealth_How_Industry         17\n",
       "Wealth_How_Inherited        17\n",
       "Wealth_How_Was_Founder      17\n",
       "Wealth_How_Was_Political    17\n",
       "dtype: int64"
      ]
     },
     "execution_count": 41,
     "metadata": {},
     "output_type": "execute_result"
    }
   ],
   "source": [
    "sample_test = billionaires[(billionaires['Year'] ==1996) & (billionaires['Company_Sector'] == \"real estate\")]\n",
    "billionaires[(billionaires[\"Location_Citizenship\"] == \"Brazil\") & (billionaires[\"Company_Sector\"] ==\"banking\")].count()"
   ]
  },
  {
   "cell_type": "code",
   "execution_count": 42,
   "metadata": {},
   "outputs": [
    {
     "data": {
      "text/html": [
       "<div>\n",
       "<style scoped>\n",
       "    .dataframe tbody tr th:only-of-type {\n",
       "        vertical-align: middle;\n",
       "    }\n",
       "\n",
       "    .dataframe tbody tr th {\n",
       "        vertical-align: top;\n",
       "    }\n",
       "\n",
       "    .dataframe thead th {\n",
       "        text-align: right;\n",
       "    }\n",
       "</style>\n",
       "<table border=\"1\" class=\"dataframe\">\n",
       "  <thead>\n",
       "    <tr style=\"text-align: right;\">\n",
       "      <th></th>\n",
       "      <th>Country</th>\n",
       "      <th>Country_code</th>\n",
       "      <th>Total_wealth</th>\n",
       "      <th>Mean_age</th>\n",
       "    </tr>\n",
       "  </thead>\n",
       "  <tbody>\n",
       "    <tr>\n",
       "      <th>0</th>\n",
       "      <td>Algeria</td>\n",
       "      <td>DZA</td>\n",
       "      <td>3.2</td>\n",
       "      <td>70</td>\n",
       "    </tr>\n",
       "    <tr>\n",
       "      <th>1</th>\n",
       "      <td>Angola</td>\n",
       "      <td>AGO</td>\n",
       "      <td>3.7</td>\n",
       "      <td>40</td>\n",
       "    </tr>\n",
       "    <tr>\n",
       "      <th>2</th>\n",
       "      <td>Argentina</td>\n",
       "      <td>ARG</td>\n",
       "      <td>23.3</td>\n",
       "      <td>60</td>\n",
       "    </tr>\n",
       "    <tr>\n",
       "      <th>3</th>\n",
       "      <td>Australia</td>\n",
       "      <td>AUS</td>\n",
       "      <td>93.2</td>\n",
       "      <td>67</td>\n",
       "    </tr>\n",
       "    <tr>\n",
       "      <th>4</th>\n",
       "      <td>Austria</td>\n",
       "      <td>AUT</td>\n",
       "      <td>33.8</td>\n",
       "      <td>72</td>\n",
       "    </tr>\n",
       "  </tbody>\n",
       "</table>\n",
       "</div>"
      ],
      "text/plain": [
       "     Country Country_code  Total_wealth  Mean_age\n",
       "0    Algeria          DZA           3.2        70\n",
       "1     Angola          AGO           3.7        40\n",
       "2  Argentina          ARG          23.3        60\n",
       "3  Australia          AUS          93.2        67\n",
       "4    Austria          AUT          33.8        72"
      ]
     },
     "execution_count": 42,
     "metadata": {},
     "output_type": "execute_result"
    }
   ],
   "source": [
    "temp_df=billionaires[['Location_Citizenship','Location_Country Code', 'Wealth_Worth_In_Billions', 'Demographics_Age']]\n",
    "temp_df=temp_df.groupby(['Location_Citizenship', 'Location_Country Code'], as_index=False).agg({'Wealth_Worth_In_Billions':'sum', 'Demographics_Age':'mean'})\n",
    "temp_df.columns=['Country','Country_code', 'Total_wealth', 'Mean_age']\n",
    "temp_df[\"Mean_age\"] = temp_df[\"Mean_age\"].astype(int)\n",
    "temp_df.head()"
   ]
  },
  {
   "cell_type": "code",
   "execution_count": 43,
   "metadata": {},
   "outputs": [
    {
     "data": {
      "text/html": [
       "<div>\n",
       "<style scoped>\n",
       "    .dataframe tbody tr th:only-of-type {\n",
       "        vertical-align: middle;\n",
       "    }\n",
       "\n",
       "    .dataframe tbody tr th {\n",
       "        vertical-align: top;\n",
       "    }\n",
       "\n",
       "    .dataframe thead th {\n",
       "        text-align: right;\n",
       "    }\n",
       "</style>\n",
       "<table border=\"1\" class=\"dataframe\">\n",
       "  <thead>\n",
       "    <tr style=\"text-align: right;\">\n",
       "      <th></th>\n",
       "      <th>Country</th>\n",
       "      <th>Country_code</th>\n",
       "      <th>Total_wealth</th>\n",
       "      <th>Mean_age</th>\n",
       "    </tr>\n",
       "  </thead>\n",
       "  <tbody>\n",
       "    <tr>\n",
       "      <th>72</th>\n",
       "      <td>United States</td>\n",
       "      <td>USA</td>\n",
       "      <td>3542.1</td>\n",
       "      <td>62</td>\n",
       "    </tr>\n",
       "  </tbody>\n",
       "</table>\n",
       "</div>"
      ],
      "text/plain": [
       "          Country Country_code  Total_wealth  Mean_age\n",
       "72  United States          USA        3542.1        62"
      ]
     },
     "execution_count": 43,
     "metadata": {},
     "output_type": "execute_result"
    }
   ],
   "source": [
    "temp_df[temp_df[\"Country\"]==\"United States\"]"
   ]
  },
  {
   "cell_type": "code",
   "execution_count": 44,
   "metadata": {},
   "outputs": [
    {
     "data": {
      "application/vnd.plotly.v1+json": {
       "config": {
        "plotlyServerURL": "https://plot.ly"
       },
       "data": [
        {
         "autocolorscale": false,
         "colorbar": {
          "title": {
           "text": "Billions USD"
          }
         },
         "colorscale": [
          [
           0,
           "rgb(209, 238, 234)"
          ],
          [
           0.16666666666666666,
           "rgb(168, 219, 217)"
          ],
          [
           0.3333333333333333,
           "rgb(133, 196, 201)"
          ],
          [
           0.5,
           "rgb(104, 171, 184)"
          ],
          [
           0.6666666666666666,
           "rgb(79, 144, 166)"
          ],
          [
           0.8333333333333334,
           "rgb(59, 115, 143)"
          ],
          [
           1,
           "rgb(42, 86, 116)"
          ]
         ],
         "locations": [
          "DZA",
          "AGO",
          "ARG",
          "AUS",
          "AUT",
          "BHR",
          "BEL",
          "BMU",
          "BRA",
          "CAN",
          "CHL",
          "CHN",
          "COL",
          "CYP",
          "CZE",
          "DEN",
          "DNK",
          "ECU",
          "EGY",
          "FIN",
          "FIN",
          "FRA",
          "GEO",
          "DEU",
          "GRC",
          "GGY",
          "HKG",
          "IND",
          "IDN",
          "IRL",
          "ISR",
          "ITA",
          "JPN",
          "KAZ",
          "KWT",
          "LBN",
          "LIE",
          "LTU",
          "MAC",
          "MYS",
          "MEX",
          "MCO",
          "MAR",
          "NPL",
          "NLD",
          "NZL",
          "NGA",
          "NOR",
          "OMN",
          "PER",
          "PHL",
          "POL",
          "PRT",
          "ROU",
          "RUS",
          "SAU",
          "SGP",
          "ZAF",
          "KOR",
          "ESP",
          "KNA",
          "SWZ",
          "SWE",
          "CHE",
          "Taiwan",
          "TZA",
          "THA",
          "TUR",
          "UGA",
          "UKR",
          "ARE",
          "GBR",
          "USA",
          "VEN",
          "VNM"
         ],
         "marker": {
          "line": {
           "color": "black"
          }
         },
         "text": [
          "Algeria<br>Total Wealth 3.2<br>Age 70",
          "Angola<br>Total Wealth 3.7<br>Age 40",
          "Argentina<br>Total Wealth 23.299999999999997<br>Age 60",
          "Australia<br>Total Wealth 93.19999999999999<br>Age 67",
          "Austria<br>Total Wealth 33.800000000000004<br>Age 72",
          "Bahrain<br>Total Wealth 1.0<br>Age 53",
          "Belgium<br>Total Wealth 9.0<br>Age 73",
          "Bermuda<br>Total Wealth 2.1<br>Age 84",
          "Brazil<br>Total Wealth 224.6999999999999<br>Age 64",
          "Canada<br>Total Wealth 175.30000000000004<br>Age 67",
          "Chile<br>Total Wealth 52.699999999999996<br>Age 65",
          "China<br>Total Wealth 377.10000000000025<br>Age 52",
          "Colombia<br>Total Wealth 36.3<br>Age 64",
          "Cyprus<br>Total Wealth 19.7<br>Age 58",
          "Czech Republic<br>Total Wealth 18.4<br>Age 49",
          "Denmark<br>Total Wealth 26.9<br>Age 59",
          "Denmark<br>Total Wealth 8.9<br>Age 67",
          "Ecuador<br>Total Wealth 1.2<br>Age 53",
          "Egypt<br>Total Wealth 16.599999999999998<br>Age 67",
          "Egypt<br>Total Wealth 6.7<br>Age 53",
          "Finland<br>Total Wealth 6.6<br>Age 52",
          "France<br>Total Wealth 336.9<br>Age 64",
          "Georgia<br>Total Wealth 5.2<br>Age 58",
          "Germany<br>Total Wealth 671.0000000000002<br>Age 62",
          "Greece<br>Total Wealth 28.799999999999997<br>Age 53",
          "Guernsey<br>Total Wealth 2.4<br>Age 61",
          "Hong Kong<br>Total Wealth 338.20000000000016<br>Age 61",
          "India<br>Total Wealth 210.80000000000004<br>Age 61",
          "Indonesia<br>Total Wealth 80.6<br>Age 62",
          "Ireland<br>Total Wealth 30.5<br>Age 64",
          "Israel<br>Total Wealth 65.7<br>Age 56",
          "Italy<br>Total Wealth 220.30000000000004<br>Age 64",
          "Japan<br>Total Wealth 280.30000000000007<br>Age 59",
          "Kazakhstan<br>Total Wealth 9.2<br>Age 52",
          "Kuwait<br>Total Wealth 15.500000000000004<br>Age 57",
          "Lebanon<br>Total Wealth 19.7<br>Age 49",
          "Liechtenstein<br>Total Wealth 2.9<br>Age 53",
          "Lithuania<br>Total Wealth 1.0<br>Age 46",
          "Macau<br>Total Wealth 2.8<br>Age 58",
          "Malaysia<br>Total Wealth 86.39999999999998<br>Age 65",
          "Mexico<br>Total Wealth 202.60000000000008<br>Age 58",
          "Monaco<br>Total Wealth 4.6<br>Age 70",
          "Morocco<br>Total Wealth 7.3999999999999995<br>Age 68",
          "Nepal<br>Total Wealth 1.1<br>Age 58",
          "Netherlands<br>Total Wealth 38.50000000000001<br>Age 63",
          "New Zealand<br>Total Wealth 10.8<br>Age 55",
          "Nigeria<br>Total Wealth 33.300000000000004<br>Age 58",
          "Norway<br>Total Wealth 24.399999999999995<br>Age 58",
          "Oman<br>Total Wealth 2.3<br>Age 63",
          "Peru<br>Total Wealth 12.899999999999999<br>Age 68",
          "Philippines<br>Total Wealth 67.60000000000001<br>Age 65",
          "Poland<br>Total Wealth 12.8<br>Age 54",
          "Portugal<br>Total Wealth 13.600000000000001<br>Age 74",
          "Romania<br>Total Wealth 1.2<br>Age 59",
          "Russia<br>Total Wealth 434.9000000000001<br>Age 51",
          "Saudi Arabia<br>Total Wealth 106.30000000000001<br>Age 60",
          "Singapore<br>Total Wealth 68.4<br>Age 65",
          "South Africa<br>Total Wealth 35.3<br>Age 60",
          "South Korea<br>Total Wealth 86.79999999999998<br>Age 56",
          "Spain<br>Total Wealth 142.39999999999998<br>Age 62",
          "St. Kitts and Nevis<br>Total Wealth 1.2<br>Age 53",
          "Swaziland<br>Total Wealth 3.7<br>Age 82",
          "Sweden<br>Total Wealth 164.80000000000004<br>Age 64",
          "Switzerland<br>Total Wealth 168.6<br>Age 57",
          "Taiwan<br>Total Wealth 111.99999999999999<br>Age 66",
          "Tanzania<br>Total Wealth 1.0<br>Age 49",
          "Thailand<br>Total Wealth 60.30000000000001<br>Age 58",
          "Turkey<br>Total Wealth 65.4<br>Age 62",
          "Uganda<br>Total Wealth 1.1<br>Age 58",
          "Ukraine<br>Total Wealth 26.6<br>Age 48",
          "United Arab Emirates<br>Total Wealth 16.5<br>Age 51",
          "United Kingdom<br>Total Wealth 190.59999999999997<br>Age 60",
          "United States<br>Total Wealth 3542.1<br>Age 62",
          "Venezuela<br>Total Wealth 21.200000000000003<br>Age 48",
          "Vietnam<br>Total Wealth 1.6<br>Age 45"
         ],
         "type": "choropleth",
         "uid": "4ce1d882-b1dd-486b-8778-cbdb03399c21",
         "z": [
          "3.2",
          "3.7",
          "23.299999999999997",
          "93.19999999999999",
          "33.800000000000004",
          "1.0",
          "9.0",
          "2.1",
          "224.6999999999999",
          "175.30000000000004",
          "52.699999999999996",
          "377.10000000000025",
          "36.3",
          "19.7",
          "18.4",
          "26.9",
          "8.9",
          "1.2",
          "16.599999999999998",
          "6.7",
          "6.6",
          "336.9",
          "5.2",
          "671.0000000000002",
          "28.799999999999997",
          "2.4",
          "338.20000000000016",
          "210.80000000000004",
          "80.6",
          "30.5",
          "65.7",
          "220.30000000000004",
          "280.30000000000007",
          "9.2",
          "15.500000000000004",
          "19.7",
          "2.9",
          "1.0",
          "2.8",
          "86.39999999999998",
          "202.60000000000008",
          "4.6",
          "7.3999999999999995",
          "1.1",
          "38.50000000000001",
          "10.8",
          "33.300000000000004",
          "24.399999999999995",
          "2.3",
          "12.899999999999999",
          "67.60000000000001",
          "12.8",
          "13.600000000000001",
          "1.2",
          "434.9000000000001",
          "106.30000000000001",
          "68.4",
          "35.3",
          "86.79999999999998",
          "142.39999999999998",
          "1.2",
          "3.7",
          "164.80000000000004",
          "168.6",
          "111.99999999999999",
          "1.0",
          "60.30000000000001",
          "65.4",
          "1.1",
          "26.6",
          "16.5",
          "190.59999999999997",
          "3542.1",
          "21.200000000000003",
          "1.6"
         ]
        }
       ],
       "layout": {
        "geo": {
         "lakecolor": "rgb(255, 255, 255)",
         "projection": {
          "type": "natural earth"
         },
         "showlakes": true
        },
        "template": {
         "data": {
          "bar": [
           {
            "error_x": {
             "color": "#2a3f5f"
            },
            "error_y": {
             "color": "#2a3f5f"
            },
            "marker": {
             "line": {
              "color": "#E5ECF6",
              "width": 0.5
             }
            },
            "type": "bar"
           }
          ],
          "barpolar": [
           {
            "marker": {
             "line": {
              "color": "#E5ECF6",
              "width": 0.5
             }
            },
            "type": "barpolar"
           }
          ],
          "carpet": [
           {
            "aaxis": {
             "endlinecolor": "#2a3f5f",
             "gridcolor": "white",
             "linecolor": "white",
             "minorgridcolor": "white",
             "startlinecolor": "#2a3f5f"
            },
            "baxis": {
             "endlinecolor": "#2a3f5f",
             "gridcolor": "white",
             "linecolor": "white",
             "minorgridcolor": "white",
             "startlinecolor": "#2a3f5f"
            },
            "type": "carpet"
           }
          ],
          "choropleth": [
           {
            "colorbar": {
             "outlinewidth": 0,
             "ticks": ""
            },
            "type": "choropleth"
           }
          ],
          "contour": [
           {
            "colorbar": {
             "outlinewidth": 0,
             "ticks": ""
            },
            "colorscale": [
             [
              0,
              "#0d0887"
             ],
             [
              0.1111111111111111,
              "#46039f"
             ],
             [
              0.2222222222222222,
              "#7201a8"
             ],
             [
              0.3333333333333333,
              "#9c179e"
             ],
             [
              0.4444444444444444,
              "#bd3786"
             ],
             [
              0.5555555555555556,
              "#d8576b"
             ],
             [
              0.6666666666666666,
              "#ed7953"
             ],
             [
              0.7777777777777778,
              "#fb9f3a"
             ],
             [
              0.8888888888888888,
              "#fdca26"
             ],
             [
              1,
              "#f0f921"
             ]
            ],
            "type": "contour"
           }
          ],
          "contourcarpet": [
           {
            "colorbar": {
             "outlinewidth": 0,
             "ticks": ""
            },
            "type": "contourcarpet"
           }
          ],
          "heatmap": [
           {
            "colorbar": {
             "outlinewidth": 0,
             "ticks": ""
            },
            "colorscale": [
             [
              0,
              "#0d0887"
             ],
             [
              0.1111111111111111,
              "#46039f"
             ],
             [
              0.2222222222222222,
              "#7201a8"
             ],
             [
              0.3333333333333333,
              "#9c179e"
             ],
             [
              0.4444444444444444,
              "#bd3786"
             ],
             [
              0.5555555555555556,
              "#d8576b"
             ],
             [
              0.6666666666666666,
              "#ed7953"
             ],
             [
              0.7777777777777778,
              "#fb9f3a"
             ],
             [
              0.8888888888888888,
              "#fdca26"
             ],
             [
              1,
              "#f0f921"
             ]
            ],
            "type": "heatmap"
           }
          ],
          "heatmapgl": [
           {
            "colorbar": {
             "outlinewidth": 0,
             "ticks": ""
            },
            "colorscale": [
             [
              0,
              "#0d0887"
             ],
             [
              0.1111111111111111,
              "#46039f"
             ],
             [
              0.2222222222222222,
              "#7201a8"
             ],
             [
              0.3333333333333333,
              "#9c179e"
             ],
             [
              0.4444444444444444,
              "#bd3786"
             ],
             [
              0.5555555555555556,
              "#d8576b"
             ],
             [
              0.6666666666666666,
              "#ed7953"
             ],
             [
              0.7777777777777778,
              "#fb9f3a"
             ],
             [
              0.8888888888888888,
              "#fdca26"
             ],
             [
              1,
              "#f0f921"
             ]
            ],
            "type": "heatmapgl"
           }
          ],
          "histogram": [
           {
            "marker": {
             "colorbar": {
              "outlinewidth": 0,
              "ticks": ""
             }
            },
            "type": "histogram"
           }
          ],
          "histogram2d": [
           {
            "colorbar": {
             "outlinewidth": 0,
             "ticks": ""
            },
            "colorscale": [
             [
              0,
              "#0d0887"
             ],
             [
              0.1111111111111111,
              "#46039f"
             ],
             [
              0.2222222222222222,
              "#7201a8"
             ],
             [
              0.3333333333333333,
              "#9c179e"
             ],
             [
              0.4444444444444444,
              "#bd3786"
             ],
             [
              0.5555555555555556,
              "#d8576b"
             ],
             [
              0.6666666666666666,
              "#ed7953"
             ],
             [
              0.7777777777777778,
              "#fb9f3a"
             ],
             [
              0.8888888888888888,
              "#fdca26"
             ],
             [
              1,
              "#f0f921"
             ]
            ],
            "type": "histogram2d"
           }
          ],
          "histogram2dcontour": [
           {
            "colorbar": {
             "outlinewidth": 0,
             "ticks": ""
            },
            "colorscale": [
             [
              0,
              "#0d0887"
             ],
             [
              0.1111111111111111,
              "#46039f"
             ],
             [
              0.2222222222222222,
              "#7201a8"
             ],
             [
              0.3333333333333333,
              "#9c179e"
             ],
             [
              0.4444444444444444,
              "#bd3786"
             ],
             [
              0.5555555555555556,
              "#d8576b"
             ],
             [
              0.6666666666666666,
              "#ed7953"
             ],
             [
              0.7777777777777778,
              "#fb9f3a"
             ],
             [
              0.8888888888888888,
              "#fdca26"
             ],
             [
              1,
              "#f0f921"
             ]
            ],
            "type": "histogram2dcontour"
           }
          ],
          "mesh3d": [
           {
            "colorbar": {
             "outlinewidth": 0,
             "ticks": ""
            },
            "type": "mesh3d"
           }
          ],
          "parcoords": [
           {
            "line": {
             "colorbar": {
              "outlinewidth": 0,
              "ticks": ""
             }
            },
            "type": "parcoords"
           }
          ],
          "pie": [
           {
            "automargin": true,
            "type": "pie"
           }
          ],
          "scatter": [
           {
            "marker": {
             "colorbar": {
              "outlinewidth": 0,
              "ticks": ""
             }
            },
            "type": "scatter"
           }
          ],
          "scatter3d": [
           {
            "line": {
             "colorbar": {
              "outlinewidth": 0,
              "ticks": ""
             }
            },
            "marker": {
             "colorbar": {
              "outlinewidth": 0,
              "ticks": ""
             }
            },
            "type": "scatter3d"
           }
          ],
          "scattercarpet": [
           {
            "marker": {
             "colorbar": {
              "outlinewidth": 0,
              "ticks": ""
             }
            },
            "type": "scattercarpet"
           }
          ],
          "scattergeo": [
           {
            "marker": {
             "colorbar": {
              "outlinewidth": 0,
              "ticks": ""
             }
            },
            "type": "scattergeo"
           }
          ],
          "scattergl": [
           {
            "marker": {
             "colorbar": {
              "outlinewidth": 0,
              "ticks": ""
             }
            },
            "type": "scattergl"
           }
          ],
          "scattermapbox": [
           {
            "marker": {
             "colorbar": {
              "outlinewidth": 0,
              "ticks": ""
             }
            },
            "type": "scattermapbox"
           }
          ],
          "scatterpolar": [
           {
            "marker": {
             "colorbar": {
              "outlinewidth": 0,
              "ticks": ""
             }
            },
            "type": "scatterpolar"
           }
          ],
          "scatterpolargl": [
           {
            "marker": {
             "colorbar": {
              "outlinewidth": 0,
              "ticks": ""
             }
            },
            "type": "scatterpolargl"
           }
          ],
          "scatterternary": [
           {
            "marker": {
             "colorbar": {
              "outlinewidth": 0,
              "ticks": ""
             }
            },
            "type": "scatterternary"
           }
          ],
          "surface": [
           {
            "colorbar": {
             "outlinewidth": 0,
             "ticks": ""
            },
            "colorscale": [
             [
              0,
              "#0d0887"
             ],
             [
              0.1111111111111111,
              "#46039f"
             ],
             [
              0.2222222222222222,
              "#7201a8"
             ],
             [
              0.3333333333333333,
              "#9c179e"
             ],
             [
              0.4444444444444444,
              "#bd3786"
             ],
             [
              0.5555555555555556,
              "#d8576b"
             ],
             [
              0.6666666666666666,
              "#ed7953"
             ],
             [
              0.7777777777777778,
              "#fb9f3a"
             ],
             [
              0.8888888888888888,
              "#fdca26"
             ],
             [
              1,
              "#f0f921"
             ]
            ],
            "type": "surface"
           }
          ],
          "table": [
           {
            "cells": {
             "fill": {
              "color": "#EBF0F8"
             },
             "line": {
              "color": "white"
             }
            },
            "header": {
             "fill": {
              "color": "#C8D4E3"
             },
             "line": {
              "color": "white"
             }
            },
            "type": "table"
           }
          ]
         },
         "layout": {
          "annotationdefaults": {
           "arrowcolor": "#2a3f5f",
           "arrowhead": 0,
           "arrowwidth": 1
          },
          "coloraxis": {
           "colorbar": {
            "outlinewidth": 0,
            "ticks": ""
           }
          },
          "colorscale": {
           "diverging": [
            [
             0,
             "#8e0152"
            ],
            [
             0.1,
             "#c51b7d"
            ],
            [
             0.2,
             "#de77ae"
            ],
            [
             0.3,
             "#f1b6da"
            ],
            [
             0.4,
             "#fde0ef"
            ],
            [
             0.5,
             "#f7f7f7"
            ],
            [
             0.6,
             "#e6f5d0"
            ],
            [
             0.7,
             "#b8e186"
            ],
            [
             0.8,
             "#7fbc41"
            ],
            [
             0.9,
             "#4d9221"
            ],
            [
             1,
             "#276419"
            ]
           ],
           "sequential": [
            [
             0,
             "#0d0887"
            ],
            [
             0.1111111111111111,
             "#46039f"
            ],
            [
             0.2222222222222222,
             "#7201a8"
            ],
            [
             0.3333333333333333,
             "#9c179e"
            ],
            [
             0.4444444444444444,
             "#bd3786"
            ],
            [
             0.5555555555555556,
             "#d8576b"
            ],
            [
             0.6666666666666666,
             "#ed7953"
            ],
            [
             0.7777777777777778,
             "#fb9f3a"
            ],
            [
             0.8888888888888888,
             "#fdca26"
            ],
            [
             1,
             "#f0f921"
            ]
           ],
           "sequentialminus": [
            [
             0,
             "#0d0887"
            ],
            [
             0.1111111111111111,
             "#46039f"
            ],
            [
             0.2222222222222222,
             "#7201a8"
            ],
            [
             0.3333333333333333,
             "#9c179e"
            ],
            [
             0.4444444444444444,
             "#bd3786"
            ],
            [
             0.5555555555555556,
             "#d8576b"
            ],
            [
             0.6666666666666666,
             "#ed7953"
            ],
            [
             0.7777777777777778,
             "#fb9f3a"
            ],
            [
             0.8888888888888888,
             "#fdca26"
            ],
            [
             1,
             "#f0f921"
            ]
           ]
          },
          "colorway": [
           "#636efa",
           "#EF553B",
           "#00cc96",
           "#ab63fa",
           "#FFA15A",
           "#19d3f3",
           "#FF6692",
           "#B6E880",
           "#FF97FF",
           "#FECB52"
          ],
          "font": {
           "color": "#2a3f5f"
          },
          "geo": {
           "bgcolor": "white",
           "lakecolor": "white",
           "landcolor": "#E5ECF6",
           "showlakes": true,
           "showland": true,
           "subunitcolor": "white"
          },
          "hoverlabel": {
           "align": "left"
          },
          "hovermode": "closest",
          "mapbox": {
           "style": "light"
          },
          "paper_bgcolor": "white",
          "plot_bgcolor": "#E5ECF6",
          "polar": {
           "angularaxis": {
            "gridcolor": "white",
            "linecolor": "white",
            "ticks": ""
           },
           "bgcolor": "#E5ECF6",
           "radialaxis": {
            "gridcolor": "white",
            "linecolor": "white",
            "ticks": ""
           }
          },
          "scene": {
           "xaxis": {
            "backgroundcolor": "#E5ECF6",
            "gridcolor": "white",
            "gridwidth": 2,
            "linecolor": "white",
            "showbackground": true,
            "ticks": "",
            "zerolinecolor": "white"
           },
           "yaxis": {
            "backgroundcolor": "#E5ECF6",
            "gridcolor": "white",
            "gridwidth": 2,
            "linecolor": "white",
            "showbackground": true,
            "ticks": "",
            "zerolinecolor": "white"
           },
           "zaxis": {
            "backgroundcolor": "#E5ECF6",
            "gridcolor": "white",
            "gridwidth": 2,
            "linecolor": "white",
            "showbackground": true,
            "ticks": "",
            "zerolinecolor": "white"
           }
          },
          "shapedefaults": {
           "line": {
            "color": "#2a3f5f"
           }
          },
          "ternary": {
           "aaxis": {
            "gridcolor": "white",
            "linecolor": "white",
            "ticks": ""
           },
           "baxis": {
            "gridcolor": "white",
            "linecolor": "white",
            "ticks": ""
           },
           "bgcolor": "#E5ECF6",
           "caxis": {
            "gridcolor": "white",
            "linecolor": "white",
            "ticks": ""
           }
          },
          "title": {
           "x": 0.05
          },
          "xaxis": {
           "automargin": true,
           "gridcolor": "white",
           "linecolor": "white",
           "ticks": "",
           "title": {
            "standoff": 15
           },
           "zerolinecolor": "white",
           "zerolinewidth": 2
          },
          "yaxis": {
           "automargin": true,
           "gridcolor": "white",
           "linecolor": "white",
           "ticks": "",
           "title": {
            "standoff": 15
           },
           "zerolinecolor": "white",
           "zerolinewidth": 2
          }
         }
        },
        "title": {
         "text": "Wealth and Mean Age for a Country"
        }
       }
      },
      "text/html": [
       "<div>\n",
       "        \n",
       "        \n",
       "            <div id=\"de84b547-c8b7-49ac-9730-afc26ae351f6\" class=\"plotly-graph-div\" style=\"height:525px; width:100%;\"></div>\n",
       "            <script type=\"text/javascript\">\n",
       "                require([\"plotly\"], function(Plotly) {\n",
       "                    window.PLOTLYENV=window.PLOTLYENV || {};\n",
       "                    \n",
       "                if (document.getElementById(\"de84b547-c8b7-49ac-9730-afc26ae351f6\")) {\n",
       "                    Plotly.newPlot(\n",
       "                        'de84b547-c8b7-49ac-9730-afc26ae351f6',\n",
       "                        [{\"autocolorscale\": false, \"colorbar\": {\"title\": {\"text\": \"Billions USD\"}}, \"colorscale\": [[0.0, \"rgb(209, 238, 234)\"], [0.16666666666666666, \"rgb(168, 219, 217)\"], [0.3333333333333333, \"rgb(133, 196, 201)\"], [0.5, \"rgb(104, 171, 184)\"], [0.6666666666666666, \"rgb(79, 144, 166)\"], [0.8333333333333334, \"rgb(59, 115, 143)\"], [1.0, \"rgb(42, 86, 116)\"]], \"locations\": [\"DZA\", \"AGO\", \"ARG\", \"AUS\", \"AUT\", \"BHR\", \"BEL\", \"BMU\", \"BRA\", \"CAN\", \"CHL\", \"CHN\", \"COL\", \"CYP\", \"CZE\", \"DEN\", \"DNK\", \"ECU\", \"EGY\", \"FIN\", \"FIN\", \"FRA\", \"GEO\", \"DEU\", \"GRC\", \"GGY\", \"HKG\", \"IND\", \"IDN\", \"IRL\", \"ISR\", \"ITA\", \"JPN\", \"KAZ\", \"KWT\", \"LBN\", \"LIE\", \"LTU\", \"MAC\", \"MYS\", \"MEX\", \"MCO\", \"MAR\", \"NPL\", \"NLD\", \"NZL\", \"NGA\", \"NOR\", \"OMN\", \"PER\", \"PHL\", \"POL\", \"PRT\", \"ROU\", \"RUS\", \"SAU\", \"SGP\", \"ZAF\", \"KOR\", \"ESP\", \"KNA\", \"SWZ\", \"SWE\", \"CHE\", \"Taiwan\", \"TZA\", \"THA\", \"TUR\", \"UGA\", \"UKR\", \"ARE\", \"GBR\", \"USA\", \"VEN\", \"VNM\"], \"marker\": {\"line\": {\"color\": \"black\"}}, \"text\": [\"Algeria<br>Total Wealth 3.2<br>Age 70\", \"Angola<br>Total Wealth 3.7<br>Age 40\", \"Argentina<br>Total Wealth 23.299999999999997<br>Age 60\", \"Australia<br>Total Wealth 93.19999999999999<br>Age 67\", \"Austria<br>Total Wealth 33.800000000000004<br>Age 72\", \"Bahrain<br>Total Wealth 1.0<br>Age 53\", \"Belgium<br>Total Wealth 9.0<br>Age 73\", \"Bermuda<br>Total Wealth 2.1<br>Age 84\", \"Brazil<br>Total Wealth 224.6999999999999<br>Age 64\", \"Canada<br>Total Wealth 175.30000000000004<br>Age 67\", \"Chile<br>Total Wealth 52.699999999999996<br>Age 65\", \"China<br>Total Wealth 377.10000000000025<br>Age 52\", \"Colombia<br>Total Wealth 36.3<br>Age 64\", \"Cyprus<br>Total Wealth 19.7<br>Age 58\", \"Czech Republic<br>Total Wealth 18.4<br>Age 49\", \"Denmark<br>Total Wealth 26.9<br>Age 59\", \"Denmark<br>Total Wealth 8.9<br>Age 67\", \"Ecuador<br>Total Wealth 1.2<br>Age 53\", \"Egypt<br>Total Wealth 16.599999999999998<br>Age 67\", \"Egypt<br>Total Wealth 6.7<br>Age 53\", \"Finland<br>Total Wealth 6.6<br>Age 52\", \"France<br>Total Wealth 336.9<br>Age 64\", \"Georgia<br>Total Wealth 5.2<br>Age 58\", \"Germany<br>Total Wealth 671.0000000000002<br>Age 62\", \"Greece<br>Total Wealth 28.799999999999997<br>Age 53\", \"Guernsey<br>Total Wealth 2.4<br>Age 61\", \"Hong Kong<br>Total Wealth 338.20000000000016<br>Age 61\", \"India<br>Total Wealth 210.80000000000004<br>Age 61\", \"Indonesia<br>Total Wealth 80.6<br>Age 62\", \"Ireland<br>Total Wealth 30.5<br>Age 64\", \"Israel<br>Total Wealth 65.7<br>Age 56\", \"Italy<br>Total Wealth 220.30000000000004<br>Age 64\", \"Japan<br>Total Wealth 280.30000000000007<br>Age 59\", \"Kazakhstan<br>Total Wealth 9.2<br>Age 52\", \"Kuwait<br>Total Wealth 15.500000000000004<br>Age 57\", \"Lebanon<br>Total Wealth 19.7<br>Age 49\", \"Liechtenstein<br>Total Wealth 2.9<br>Age 53\", \"Lithuania<br>Total Wealth 1.0<br>Age 46\", \"Macau<br>Total Wealth 2.8<br>Age 58\", \"Malaysia<br>Total Wealth 86.39999999999998<br>Age 65\", \"Mexico<br>Total Wealth 202.60000000000008<br>Age 58\", \"Monaco<br>Total Wealth 4.6<br>Age 70\", \"Morocco<br>Total Wealth 7.3999999999999995<br>Age 68\", \"Nepal<br>Total Wealth 1.1<br>Age 58\", \"Netherlands<br>Total Wealth 38.50000000000001<br>Age 63\", \"New Zealand<br>Total Wealth 10.8<br>Age 55\", \"Nigeria<br>Total Wealth 33.300000000000004<br>Age 58\", \"Norway<br>Total Wealth 24.399999999999995<br>Age 58\", \"Oman<br>Total Wealth 2.3<br>Age 63\", \"Peru<br>Total Wealth 12.899999999999999<br>Age 68\", \"Philippines<br>Total Wealth 67.60000000000001<br>Age 65\", \"Poland<br>Total Wealth 12.8<br>Age 54\", \"Portugal<br>Total Wealth 13.600000000000001<br>Age 74\", \"Romania<br>Total Wealth 1.2<br>Age 59\", \"Russia<br>Total Wealth 434.9000000000001<br>Age 51\", \"Saudi Arabia<br>Total Wealth 106.30000000000001<br>Age 60\", \"Singapore<br>Total Wealth 68.4<br>Age 65\", \"South Africa<br>Total Wealth 35.3<br>Age 60\", \"South Korea<br>Total Wealth 86.79999999999998<br>Age 56\", \"Spain<br>Total Wealth 142.39999999999998<br>Age 62\", \"St. Kitts and Nevis<br>Total Wealth 1.2<br>Age 53\", \"Swaziland<br>Total Wealth 3.7<br>Age 82\", \"Sweden<br>Total Wealth 164.80000000000004<br>Age 64\", \"Switzerland<br>Total Wealth 168.6<br>Age 57\", \"Taiwan<br>Total Wealth 111.99999999999999<br>Age 66\", \"Tanzania<br>Total Wealth 1.0<br>Age 49\", \"Thailand<br>Total Wealth 60.30000000000001<br>Age 58\", \"Turkey<br>Total Wealth 65.4<br>Age 62\", \"Uganda<br>Total Wealth 1.1<br>Age 58\", \"Ukraine<br>Total Wealth 26.6<br>Age 48\", \"United Arab Emirates<br>Total Wealth 16.5<br>Age 51\", \"United Kingdom<br>Total Wealth 190.59999999999997<br>Age 60\", \"United States<br>Total Wealth 3542.1<br>Age 62\", \"Venezuela<br>Total Wealth 21.200000000000003<br>Age 48\", \"Vietnam<br>Total Wealth 1.6<br>Age 45\"], \"type\": \"choropleth\", \"uid\": \"4ce1d882-b1dd-486b-8778-cbdb03399c21\", \"z\": [\"3.2\", \"3.7\", \"23.299999999999997\", \"93.19999999999999\", \"33.800000000000004\", \"1.0\", \"9.0\", \"2.1\", \"224.6999999999999\", \"175.30000000000004\", \"52.699999999999996\", \"377.10000000000025\", \"36.3\", \"19.7\", \"18.4\", \"26.9\", \"8.9\", \"1.2\", \"16.599999999999998\", \"6.7\", \"6.6\", \"336.9\", \"5.2\", \"671.0000000000002\", \"28.799999999999997\", \"2.4\", \"338.20000000000016\", \"210.80000000000004\", \"80.6\", \"30.5\", \"65.7\", \"220.30000000000004\", \"280.30000000000007\", \"9.2\", \"15.500000000000004\", \"19.7\", \"2.9\", \"1.0\", \"2.8\", \"86.39999999999998\", \"202.60000000000008\", \"4.6\", \"7.3999999999999995\", \"1.1\", \"38.50000000000001\", \"10.8\", \"33.300000000000004\", \"24.399999999999995\", \"2.3\", \"12.899999999999999\", \"67.60000000000001\", \"12.8\", \"13.600000000000001\", \"1.2\", \"434.9000000000001\", \"106.30000000000001\", \"68.4\", \"35.3\", \"86.79999999999998\", \"142.39999999999998\", \"1.2\", \"3.7\", \"164.80000000000004\", \"168.6\", \"111.99999999999999\", \"1.0\", \"60.30000000000001\", \"65.4\", \"1.1\", \"26.6\", \"16.5\", \"190.59999999999997\", \"3542.1\", \"21.200000000000003\", \"1.6\"]}],\n",
       "                        {\"geo\": {\"lakecolor\": \"rgb(255, 255, 255)\", \"projection\": {\"type\": \"natural earth\"}, \"showlakes\": true}, \"template\": {\"data\": {\"bar\": [{\"error_x\": {\"color\": \"#2a3f5f\"}, \"error_y\": {\"color\": \"#2a3f5f\"}, \"marker\": {\"line\": {\"color\": \"#E5ECF6\", \"width\": 0.5}}, \"type\": \"bar\"}], \"barpolar\": [{\"marker\": {\"line\": {\"color\": \"#E5ECF6\", \"width\": 0.5}}, \"type\": \"barpolar\"}], \"carpet\": [{\"aaxis\": {\"endlinecolor\": \"#2a3f5f\", \"gridcolor\": \"white\", \"linecolor\": \"white\", \"minorgridcolor\": \"white\", \"startlinecolor\": \"#2a3f5f\"}, \"baxis\": {\"endlinecolor\": \"#2a3f5f\", \"gridcolor\": \"white\", \"linecolor\": \"white\", \"minorgridcolor\": \"white\", \"startlinecolor\": \"#2a3f5f\"}, \"type\": \"carpet\"}], \"choropleth\": [{\"colorbar\": {\"outlinewidth\": 0, \"ticks\": \"\"}, \"type\": \"choropleth\"}], \"contour\": [{\"colorbar\": {\"outlinewidth\": 0, \"ticks\": \"\"}, \"colorscale\": [[0.0, \"#0d0887\"], [0.1111111111111111, \"#46039f\"], [0.2222222222222222, \"#7201a8\"], [0.3333333333333333, \"#9c179e\"], [0.4444444444444444, \"#bd3786\"], [0.5555555555555556, \"#d8576b\"], [0.6666666666666666, \"#ed7953\"], [0.7777777777777778, \"#fb9f3a\"], [0.8888888888888888, \"#fdca26\"], [1.0, \"#f0f921\"]], \"type\": \"contour\"}], \"contourcarpet\": [{\"colorbar\": {\"outlinewidth\": 0, \"ticks\": \"\"}, \"type\": \"contourcarpet\"}], \"heatmap\": [{\"colorbar\": {\"outlinewidth\": 0, \"ticks\": \"\"}, \"colorscale\": [[0.0, \"#0d0887\"], [0.1111111111111111, \"#46039f\"], [0.2222222222222222, \"#7201a8\"], [0.3333333333333333, \"#9c179e\"], [0.4444444444444444, \"#bd3786\"], [0.5555555555555556, \"#d8576b\"], [0.6666666666666666, \"#ed7953\"], [0.7777777777777778, \"#fb9f3a\"], [0.8888888888888888, \"#fdca26\"], [1.0, \"#f0f921\"]], \"type\": \"heatmap\"}], \"heatmapgl\": [{\"colorbar\": {\"outlinewidth\": 0, \"ticks\": \"\"}, \"colorscale\": [[0.0, \"#0d0887\"], [0.1111111111111111, \"#46039f\"], [0.2222222222222222, \"#7201a8\"], [0.3333333333333333, \"#9c179e\"], [0.4444444444444444, \"#bd3786\"], [0.5555555555555556, \"#d8576b\"], [0.6666666666666666, \"#ed7953\"], [0.7777777777777778, \"#fb9f3a\"], [0.8888888888888888, \"#fdca26\"], [1.0, \"#f0f921\"]], \"type\": \"heatmapgl\"}], \"histogram\": [{\"marker\": {\"colorbar\": {\"outlinewidth\": 0, \"ticks\": \"\"}}, \"type\": \"histogram\"}], \"histogram2d\": [{\"colorbar\": {\"outlinewidth\": 0, \"ticks\": \"\"}, \"colorscale\": [[0.0, \"#0d0887\"], [0.1111111111111111, \"#46039f\"], [0.2222222222222222, \"#7201a8\"], [0.3333333333333333, \"#9c179e\"], [0.4444444444444444, \"#bd3786\"], [0.5555555555555556, \"#d8576b\"], [0.6666666666666666, \"#ed7953\"], [0.7777777777777778, \"#fb9f3a\"], [0.8888888888888888, \"#fdca26\"], [1.0, \"#f0f921\"]], \"type\": \"histogram2d\"}], \"histogram2dcontour\": [{\"colorbar\": {\"outlinewidth\": 0, \"ticks\": \"\"}, \"colorscale\": [[0.0, \"#0d0887\"], [0.1111111111111111, \"#46039f\"], [0.2222222222222222, \"#7201a8\"], [0.3333333333333333, \"#9c179e\"], [0.4444444444444444, \"#bd3786\"], [0.5555555555555556, \"#d8576b\"], [0.6666666666666666, \"#ed7953\"], [0.7777777777777778, \"#fb9f3a\"], [0.8888888888888888, \"#fdca26\"], [1.0, \"#f0f921\"]], \"type\": \"histogram2dcontour\"}], \"mesh3d\": [{\"colorbar\": {\"outlinewidth\": 0, \"ticks\": \"\"}, \"type\": \"mesh3d\"}], \"parcoords\": [{\"line\": {\"colorbar\": {\"outlinewidth\": 0, \"ticks\": \"\"}}, \"type\": \"parcoords\"}], \"pie\": [{\"automargin\": true, \"type\": \"pie\"}], \"scatter\": [{\"marker\": {\"colorbar\": {\"outlinewidth\": 0, \"ticks\": \"\"}}, \"type\": \"scatter\"}], \"scatter3d\": [{\"line\": {\"colorbar\": {\"outlinewidth\": 0, \"ticks\": \"\"}}, \"marker\": {\"colorbar\": {\"outlinewidth\": 0, \"ticks\": \"\"}}, \"type\": \"scatter3d\"}], \"scattercarpet\": [{\"marker\": {\"colorbar\": {\"outlinewidth\": 0, \"ticks\": \"\"}}, \"type\": \"scattercarpet\"}], \"scattergeo\": [{\"marker\": {\"colorbar\": {\"outlinewidth\": 0, \"ticks\": \"\"}}, \"type\": \"scattergeo\"}], \"scattergl\": [{\"marker\": {\"colorbar\": {\"outlinewidth\": 0, \"ticks\": \"\"}}, \"type\": \"scattergl\"}], \"scattermapbox\": [{\"marker\": {\"colorbar\": {\"outlinewidth\": 0, \"ticks\": \"\"}}, \"type\": \"scattermapbox\"}], \"scatterpolar\": [{\"marker\": {\"colorbar\": {\"outlinewidth\": 0, \"ticks\": \"\"}}, \"type\": \"scatterpolar\"}], \"scatterpolargl\": [{\"marker\": {\"colorbar\": {\"outlinewidth\": 0, \"ticks\": \"\"}}, \"type\": \"scatterpolargl\"}], \"scatterternary\": [{\"marker\": {\"colorbar\": {\"outlinewidth\": 0, \"ticks\": \"\"}}, \"type\": \"scatterternary\"}], \"surface\": [{\"colorbar\": {\"outlinewidth\": 0, \"ticks\": \"\"}, \"colorscale\": [[0.0, \"#0d0887\"], [0.1111111111111111, \"#46039f\"], [0.2222222222222222, \"#7201a8\"], [0.3333333333333333, \"#9c179e\"], [0.4444444444444444, \"#bd3786\"], [0.5555555555555556, \"#d8576b\"], [0.6666666666666666, \"#ed7953\"], [0.7777777777777778, \"#fb9f3a\"], [0.8888888888888888, \"#fdca26\"], [1.0, \"#f0f921\"]], \"type\": \"surface\"}], \"table\": [{\"cells\": {\"fill\": {\"color\": \"#EBF0F8\"}, \"line\": {\"color\": \"white\"}}, \"header\": {\"fill\": {\"color\": \"#C8D4E3\"}, \"line\": {\"color\": \"white\"}}, \"type\": \"table\"}]}, \"layout\": {\"annotationdefaults\": {\"arrowcolor\": \"#2a3f5f\", \"arrowhead\": 0, \"arrowwidth\": 1}, \"coloraxis\": {\"colorbar\": {\"outlinewidth\": 0, \"ticks\": \"\"}}, \"colorscale\": {\"diverging\": [[0, \"#8e0152\"], [0.1, \"#c51b7d\"], [0.2, \"#de77ae\"], [0.3, \"#f1b6da\"], [0.4, \"#fde0ef\"], [0.5, \"#f7f7f7\"], [0.6, \"#e6f5d0\"], [0.7, \"#b8e186\"], [0.8, \"#7fbc41\"], [0.9, \"#4d9221\"], [1, \"#276419\"]], \"sequential\": [[0.0, \"#0d0887\"], [0.1111111111111111, \"#46039f\"], [0.2222222222222222, \"#7201a8\"], [0.3333333333333333, \"#9c179e\"], [0.4444444444444444, \"#bd3786\"], [0.5555555555555556, \"#d8576b\"], [0.6666666666666666, \"#ed7953\"], [0.7777777777777778, \"#fb9f3a\"], [0.8888888888888888, \"#fdca26\"], [1.0, \"#f0f921\"]], \"sequentialminus\": [[0.0, \"#0d0887\"], [0.1111111111111111, \"#46039f\"], [0.2222222222222222, \"#7201a8\"], [0.3333333333333333, \"#9c179e\"], [0.4444444444444444, \"#bd3786\"], [0.5555555555555556, \"#d8576b\"], [0.6666666666666666, \"#ed7953\"], [0.7777777777777778, \"#fb9f3a\"], [0.8888888888888888, \"#fdca26\"], [1.0, \"#f0f921\"]]}, \"colorway\": [\"#636efa\", \"#EF553B\", \"#00cc96\", \"#ab63fa\", \"#FFA15A\", \"#19d3f3\", \"#FF6692\", \"#B6E880\", \"#FF97FF\", \"#FECB52\"], \"font\": {\"color\": \"#2a3f5f\"}, \"geo\": {\"bgcolor\": \"white\", \"lakecolor\": \"white\", \"landcolor\": \"#E5ECF6\", \"showlakes\": true, \"showland\": true, \"subunitcolor\": \"white\"}, \"hoverlabel\": {\"align\": \"left\"}, \"hovermode\": \"closest\", \"mapbox\": {\"style\": \"light\"}, \"paper_bgcolor\": \"white\", \"plot_bgcolor\": \"#E5ECF6\", \"polar\": {\"angularaxis\": {\"gridcolor\": \"white\", \"linecolor\": \"white\", \"ticks\": \"\"}, \"bgcolor\": \"#E5ECF6\", \"radialaxis\": {\"gridcolor\": \"white\", \"linecolor\": \"white\", \"ticks\": \"\"}}, \"scene\": {\"xaxis\": {\"backgroundcolor\": \"#E5ECF6\", \"gridcolor\": \"white\", \"gridwidth\": 2, \"linecolor\": \"white\", \"showbackground\": true, \"ticks\": \"\", \"zerolinecolor\": \"white\"}, \"yaxis\": {\"backgroundcolor\": \"#E5ECF6\", \"gridcolor\": \"white\", \"gridwidth\": 2, \"linecolor\": \"white\", \"showbackground\": true, \"ticks\": \"\", \"zerolinecolor\": \"white\"}, \"zaxis\": {\"backgroundcolor\": \"#E5ECF6\", \"gridcolor\": \"white\", \"gridwidth\": 2, \"linecolor\": \"white\", \"showbackground\": true, \"ticks\": \"\", \"zerolinecolor\": \"white\"}}, \"shapedefaults\": {\"line\": {\"color\": \"#2a3f5f\"}}, \"ternary\": {\"aaxis\": {\"gridcolor\": \"white\", \"linecolor\": \"white\", \"ticks\": \"\"}, \"baxis\": {\"gridcolor\": \"white\", \"linecolor\": \"white\", \"ticks\": \"\"}, \"bgcolor\": \"#E5ECF6\", \"caxis\": {\"gridcolor\": \"white\", \"linecolor\": \"white\", \"ticks\": \"\"}}, \"title\": {\"x\": 0.05}, \"xaxis\": {\"automargin\": true, \"gridcolor\": \"white\", \"linecolor\": \"white\", \"ticks\": \"\", \"title\": {\"standoff\": 15}, \"zerolinecolor\": \"white\", \"zerolinewidth\": 2}, \"yaxis\": {\"automargin\": true, \"gridcolor\": \"white\", \"linecolor\": \"white\", \"ticks\": \"\", \"title\": {\"standoff\": 15}, \"zerolinecolor\": \"white\", \"zerolinewidth\": 2}}}, \"title\": {\"text\": \"Wealth and Mean Age for a Country\"}},\n",
       "                        {\"responsive\": true}\n",
       "                    ).then(function(){\n",
       "                            \n",
       "var gd = document.getElementById('de84b547-c8b7-49ac-9730-afc26ae351f6');\n",
       "var x = new MutationObserver(function (mutations, observer) {{\n",
       "        var display = window.getComputedStyle(gd).display;\n",
       "        if (!display || display === 'none') {{\n",
       "            console.log([gd, 'removed!']);\n",
       "            Plotly.purge(gd);\n",
       "            observer.disconnect();\n",
       "        }}\n",
       "}});\n",
       "\n",
       "// Listen for the removal of the full notebook cells\n",
       "var notebookContainer = gd.closest('#notebook-container');\n",
       "if (notebookContainer) {{\n",
       "    x.observe(notebookContainer, {childList: true});\n",
       "}}\n",
       "\n",
       "// Listen for the clearing of the current output cell\n",
       "var outputEl = gd.closest('.output');\n",
       "if (outputEl) {{\n",
       "    x.observe(outputEl, {childList: true});\n",
       "}}\n",
       "\n",
       "                        })\n",
       "                };\n",
       "                });\n",
       "            </script>\n",
       "        </div>"
      ]
     },
     "metadata": {},
     "output_type": "display_data"
    }
   ],
   "source": [
    "import plotly.graph_objects as go\n",
    "for col in temp_df.columns:\n",
    "    temp_df[col] = temp_df[col].astype(str)\n",
    "\n",
    "temp_df['text'] = temp_df['Country'] + '<br>' + \\\n",
    "    'Total Wealth ' + temp_df[\"Total_wealth\"] + '<br>' + \\\n",
    "    'Age ' + temp_df[\"Mean_age\"]\n",
    "fig = go.FigureWidget(data=go.Choropleth(\n",
    "    locations=temp_df['Country_code'],\n",
    "    z=temp_df['Total_wealth'],\n",
    "    colorscale='teal',\n",
    "    autocolorscale=False,\n",
    "    text=temp_df['text'], # hover text\n",
    "    marker_line_color='black', # line markers between states\n",
    "    colorbar_title=\"Billions USD\"\n",
    "))\n",
    "\n",
    "fig.update_layout(\n",
    "    title_text='Wealth and Mean Age for a Country',\n",
    "    geo = dict(\n",
    "        projection=go.layout.geo.Projection(type = 'natural earth'),\n",
    "        showlakes=True, # lakes\n",
    "        lakecolor='rgb(255, 255, 255)'),\n",
    ")\n",
    "\n",
    "fig.show()"
   ]
  },
  {
   "cell_type": "code",
   "execution_count": 45,
   "metadata": {
    "scrolled": true
   },
   "outputs": [
    {
     "data": {
      "text/html": [
       "<div>\n",
       "<style scoped>\n",
       "    .dataframe tbody tr th:only-of-type {\n",
       "        vertical-align: middle;\n",
       "    }\n",
       "\n",
       "    .dataframe tbody tr th {\n",
       "        vertical-align: top;\n",
       "    }\n",
       "\n",
       "    .dataframe thead th {\n",
       "        text-align: right;\n",
       "    }\n",
       "</style>\n",
       "<table border=\"1\" class=\"dataframe\">\n",
       "  <thead>\n",
       "    <tr style=\"text-align: right;\">\n",
       "      <th></th>\n",
       "      <th>Location_Citizenship</th>\n",
       "      <th>Company_Sector</th>\n",
       "      <th>Name</th>\n",
       "    </tr>\n",
       "  </thead>\n",
       "  <tbody>\n",
       "    <tr>\n",
       "      <th>0</th>\n",
       "      <td>Algeria</td>\n",
       "      <td>manufacturing (agriculture, steel, electronics)</td>\n",
       "      <td>1</td>\n",
       "    </tr>\n",
       "    <tr>\n",
       "      <th>1</th>\n",
       "      <td>Angola</td>\n",
       "      <td>telecom/investments</td>\n",
       "      <td>1</td>\n",
       "    </tr>\n",
       "    <tr>\n",
       "      <th>2</th>\n",
       "      <td>Argentina</td>\n",
       "      <td>airports</td>\n",
       "      <td>1</td>\n",
       "    </tr>\n",
       "    <tr>\n",
       "      <th>3</th>\n",
       "      <td>Argentina</td>\n",
       "      <td>beverages</td>\n",
       "      <td>1</td>\n",
       "    </tr>\n",
       "    <tr>\n",
       "      <th>4</th>\n",
       "      <td>Argentina</td>\n",
       "      <td>cement</td>\n",
       "      <td>2</td>\n",
       "    </tr>\n",
       "    <tr>\n",
       "      <th>5</th>\n",
       "      <td>Argentina</td>\n",
       "      <td>media</td>\n",
       "      <td>1</td>\n",
       "    </tr>\n",
       "    <tr>\n",
       "      <th>6</th>\n",
       "      <td>Argentina</td>\n",
       "      <td>oil</td>\n",
       "      <td>4</td>\n",
       "    </tr>\n",
       "    <tr>\n",
       "      <th>7</th>\n",
       "      <td>Argentina</td>\n",
       "      <td>pharmaceuticals</td>\n",
       "      <td>1</td>\n",
       "    </tr>\n",
       "    <tr>\n",
       "      <th>8</th>\n",
       "      <td>Argentina</td>\n",
       "      <td>steel</td>\n",
       "      <td>2</td>\n",
       "    </tr>\n",
       "    <tr>\n",
       "      <th>9</th>\n",
       "      <td>Australia</td>\n",
       "      <td>agriculture</td>\n",
       "      <td>1</td>\n",
       "    </tr>\n",
       "  </tbody>\n",
       "</table>\n",
       "</div>"
      ],
      "text/plain": [
       "  Location_Citizenship                                   Company_Sector  Name\n",
       "0              Algeria  manufacturing (agriculture, steel, electronics)     1\n",
       "1               Angola                              telecom/investments     1\n",
       "2            Argentina                                         airports     1\n",
       "3            Argentina                                        beverages     1\n",
       "4            Argentina                                           cement     2\n",
       "5            Argentina                                            media     1\n",
       "6            Argentina                                              oil     4\n",
       "7            Argentina                                  pharmaceuticals     1\n",
       "8            Argentina                                            steel     2\n",
       "9            Australia                                      agriculture     1"
      ]
     },
     "execution_count": 45,
     "metadata": {},
     "output_type": "execute_result"
    }
   ],
   "source": [
    "temp_data = billionaires\n",
    "Bill_Country_Sector = temp_data.groupby(['Location_Citizenship',\"Company_Sector\"], as_index=False)[\"Name\"].count()\n",
    "Bill_Country_Sector.head(10)\n"
   ]
  },
  {
   "cell_type": "code",
   "execution_count": 46,
   "metadata": {},
   "outputs": [],
   "source": [
    "\n",
    "def sector_graph(col):\n",
    "    plt.figure(figsize=(15,7))\n",
    "    data = Bill_Country_Sector[Bill_Country_Sector['Location_Citizenship']==col]\n",
    "    data=data.sort_values('Name', ascending=False)\n",
    "    fig = px.bar(data, x = 'Company_Sector', y = 'Name',\n",
    "                 hover_data = ['Location_Citizenship'], color='Company_Sector',\n",
    "                 labels = {'Name':'Count of Billionares'},height=600, width=1000)\n",
    "    fig.show()"
   ]
  },
  {
   "cell_type": "code",
   "execution_count": 47,
   "metadata": {},
   "outputs": [
    {
     "data": {
      "application/vnd.plotly.v1+json": {
       "config": {
        "plotlyServerURL": "https://plot.ly"
       },
       "data": [
        {
         "alignmentgroup": "True",
         "customdata": [
          [
           "Argentina"
          ]
         ],
         "hovertemplate": "Company_Sector=%{x}<br>Count of Billionares=%{y}<br>Location_Citizenship=%{customdata[0]}<extra></extra>",
         "legendgroup": "oil",
         "marker": {
          "color": "#636efa"
         },
         "name": "oil",
         "offsetgroup": "oil",
         "orientation": "v",
         "showlegend": true,
         "textposition": "auto",
         "type": "bar",
         "x": [
          "oil"
         ],
         "xaxis": "x",
         "y": [
          4
         ],
         "yaxis": "y"
        },
        {
         "alignmentgroup": "True",
         "customdata": [
          [
           "Argentina"
          ]
         ],
         "hovertemplate": "Company_Sector=%{x}<br>Count of Billionares=%{y}<br>Location_Citizenship=%{customdata[0]}<extra></extra>",
         "legendgroup": "cement",
         "marker": {
          "color": "#EF553B"
         },
         "name": "cement",
         "offsetgroup": "cement",
         "orientation": "v",
         "showlegend": true,
         "textposition": "auto",
         "type": "bar",
         "x": [
          "cement"
         ],
         "xaxis": "x",
         "y": [
          2
         ],
         "yaxis": "y"
        },
        {
         "alignmentgroup": "True",
         "customdata": [
          [
           "Argentina"
          ]
         ],
         "hovertemplate": "Company_Sector=%{x}<br>Count of Billionares=%{y}<br>Location_Citizenship=%{customdata[0]}<extra></extra>",
         "legendgroup": "steel",
         "marker": {
          "color": "#00cc96"
         },
         "name": "steel",
         "offsetgroup": "steel",
         "orientation": "v",
         "showlegend": true,
         "textposition": "auto",
         "type": "bar",
         "x": [
          "steel"
         ],
         "xaxis": "x",
         "y": [
          2
         ],
         "yaxis": "y"
        },
        {
         "alignmentgroup": "True",
         "customdata": [
          [
           "Argentina"
          ]
         ],
         "hovertemplate": "Company_Sector=%{x}<br>Count of Billionares=%{y}<br>Location_Citizenship=%{customdata[0]}<extra></extra>",
         "legendgroup": "airports",
         "marker": {
          "color": "#ab63fa"
         },
         "name": "airports",
         "offsetgroup": "airports",
         "orientation": "v",
         "showlegend": true,
         "textposition": "auto",
         "type": "bar",
         "x": [
          "airports"
         ],
         "xaxis": "x",
         "y": [
          1
         ],
         "yaxis": "y"
        },
        {
         "alignmentgroup": "True",
         "customdata": [
          [
           "Argentina"
          ]
         ],
         "hovertemplate": "Company_Sector=%{x}<br>Count of Billionares=%{y}<br>Location_Citizenship=%{customdata[0]}<extra></extra>",
         "legendgroup": "beverages",
         "marker": {
          "color": "#FFA15A"
         },
         "name": "beverages",
         "offsetgroup": "beverages",
         "orientation": "v",
         "showlegend": true,
         "textposition": "auto",
         "type": "bar",
         "x": [
          "beverages"
         ],
         "xaxis": "x",
         "y": [
          1
         ],
         "yaxis": "y"
        },
        {
         "alignmentgroup": "True",
         "customdata": [
          [
           "Argentina"
          ]
         ],
         "hovertemplate": "Company_Sector=%{x}<br>Count of Billionares=%{y}<br>Location_Citizenship=%{customdata[0]}<extra></extra>",
         "legendgroup": "media",
         "marker": {
          "color": "#19d3f3"
         },
         "name": "media",
         "offsetgroup": "media",
         "orientation": "v",
         "showlegend": true,
         "textposition": "auto",
         "type": "bar",
         "x": [
          "media"
         ],
         "xaxis": "x",
         "y": [
          1
         ],
         "yaxis": "y"
        },
        {
         "alignmentgroup": "True",
         "customdata": [
          [
           "Argentina"
          ]
         ],
         "hovertemplate": "Company_Sector=%{x}<br>Count of Billionares=%{y}<br>Location_Citizenship=%{customdata[0]}<extra></extra>",
         "legendgroup": "pharmaceuticals",
         "marker": {
          "color": "#FF6692"
         },
         "name": "pharmaceuticals",
         "offsetgroup": "pharmaceuticals",
         "orientation": "v",
         "showlegend": true,
         "textposition": "auto",
         "type": "bar",
         "x": [
          "pharmaceuticals"
         ],
         "xaxis": "x",
         "y": [
          1
         ],
         "yaxis": "y"
        }
       ],
       "layout": {
        "barmode": "relative",
        "height": 600,
        "legend": {
         "title": {
          "text": "Company_Sector"
         },
         "tracegroupgap": 0
        },
        "margin": {
         "t": 60
        },
        "template": {
         "data": {
          "bar": [
           {
            "error_x": {
             "color": "#2a3f5f"
            },
            "error_y": {
             "color": "#2a3f5f"
            },
            "marker": {
             "line": {
              "color": "#E5ECF6",
              "width": 0.5
             }
            },
            "type": "bar"
           }
          ],
          "barpolar": [
           {
            "marker": {
             "line": {
              "color": "#E5ECF6",
              "width": 0.5
             }
            },
            "type": "barpolar"
           }
          ],
          "carpet": [
           {
            "aaxis": {
             "endlinecolor": "#2a3f5f",
             "gridcolor": "white",
             "linecolor": "white",
             "minorgridcolor": "white",
             "startlinecolor": "#2a3f5f"
            },
            "baxis": {
             "endlinecolor": "#2a3f5f",
             "gridcolor": "white",
             "linecolor": "white",
             "minorgridcolor": "white",
             "startlinecolor": "#2a3f5f"
            },
            "type": "carpet"
           }
          ],
          "choropleth": [
           {
            "colorbar": {
             "outlinewidth": 0,
             "ticks": ""
            },
            "type": "choropleth"
           }
          ],
          "contour": [
           {
            "colorbar": {
             "outlinewidth": 0,
             "ticks": ""
            },
            "colorscale": [
             [
              0,
              "#0d0887"
             ],
             [
              0.1111111111111111,
              "#46039f"
             ],
             [
              0.2222222222222222,
              "#7201a8"
             ],
             [
              0.3333333333333333,
              "#9c179e"
             ],
             [
              0.4444444444444444,
              "#bd3786"
             ],
             [
              0.5555555555555556,
              "#d8576b"
             ],
             [
              0.6666666666666666,
              "#ed7953"
             ],
             [
              0.7777777777777778,
              "#fb9f3a"
             ],
             [
              0.8888888888888888,
              "#fdca26"
             ],
             [
              1,
              "#f0f921"
             ]
            ],
            "type": "contour"
           }
          ],
          "contourcarpet": [
           {
            "colorbar": {
             "outlinewidth": 0,
             "ticks": ""
            },
            "type": "contourcarpet"
           }
          ],
          "heatmap": [
           {
            "colorbar": {
             "outlinewidth": 0,
             "ticks": ""
            },
            "colorscale": [
             [
              0,
              "#0d0887"
             ],
             [
              0.1111111111111111,
              "#46039f"
             ],
             [
              0.2222222222222222,
              "#7201a8"
             ],
             [
              0.3333333333333333,
              "#9c179e"
             ],
             [
              0.4444444444444444,
              "#bd3786"
             ],
             [
              0.5555555555555556,
              "#d8576b"
             ],
             [
              0.6666666666666666,
              "#ed7953"
             ],
             [
              0.7777777777777778,
              "#fb9f3a"
             ],
             [
              0.8888888888888888,
              "#fdca26"
             ],
             [
              1,
              "#f0f921"
             ]
            ],
            "type": "heatmap"
           }
          ],
          "heatmapgl": [
           {
            "colorbar": {
             "outlinewidth": 0,
             "ticks": ""
            },
            "colorscale": [
             [
              0,
              "#0d0887"
             ],
             [
              0.1111111111111111,
              "#46039f"
             ],
             [
              0.2222222222222222,
              "#7201a8"
             ],
             [
              0.3333333333333333,
              "#9c179e"
             ],
             [
              0.4444444444444444,
              "#bd3786"
             ],
             [
              0.5555555555555556,
              "#d8576b"
             ],
             [
              0.6666666666666666,
              "#ed7953"
             ],
             [
              0.7777777777777778,
              "#fb9f3a"
             ],
             [
              0.8888888888888888,
              "#fdca26"
             ],
             [
              1,
              "#f0f921"
             ]
            ],
            "type": "heatmapgl"
           }
          ],
          "histogram": [
           {
            "marker": {
             "colorbar": {
              "outlinewidth": 0,
              "ticks": ""
             }
            },
            "type": "histogram"
           }
          ],
          "histogram2d": [
           {
            "colorbar": {
             "outlinewidth": 0,
             "ticks": ""
            },
            "colorscale": [
             [
              0,
              "#0d0887"
             ],
             [
              0.1111111111111111,
              "#46039f"
             ],
             [
              0.2222222222222222,
              "#7201a8"
             ],
             [
              0.3333333333333333,
              "#9c179e"
             ],
             [
              0.4444444444444444,
              "#bd3786"
             ],
             [
              0.5555555555555556,
              "#d8576b"
             ],
             [
              0.6666666666666666,
              "#ed7953"
             ],
             [
              0.7777777777777778,
              "#fb9f3a"
             ],
             [
              0.8888888888888888,
              "#fdca26"
             ],
             [
              1,
              "#f0f921"
             ]
            ],
            "type": "histogram2d"
           }
          ],
          "histogram2dcontour": [
           {
            "colorbar": {
             "outlinewidth": 0,
             "ticks": ""
            },
            "colorscale": [
             [
              0,
              "#0d0887"
             ],
             [
              0.1111111111111111,
              "#46039f"
             ],
             [
              0.2222222222222222,
              "#7201a8"
             ],
             [
              0.3333333333333333,
              "#9c179e"
             ],
             [
              0.4444444444444444,
              "#bd3786"
             ],
             [
              0.5555555555555556,
              "#d8576b"
             ],
             [
              0.6666666666666666,
              "#ed7953"
             ],
             [
              0.7777777777777778,
              "#fb9f3a"
             ],
             [
              0.8888888888888888,
              "#fdca26"
             ],
             [
              1,
              "#f0f921"
             ]
            ],
            "type": "histogram2dcontour"
           }
          ],
          "mesh3d": [
           {
            "colorbar": {
             "outlinewidth": 0,
             "ticks": ""
            },
            "type": "mesh3d"
           }
          ],
          "parcoords": [
           {
            "line": {
             "colorbar": {
              "outlinewidth": 0,
              "ticks": ""
             }
            },
            "type": "parcoords"
           }
          ],
          "pie": [
           {
            "automargin": true,
            "type": "pie"
           }
          ],
          "scatter": [
           {
            "marker": {
             "colorbar": {
              "outlinewidth": 0,
              "ticks": ""
             }
            },
            "type": "scatter"
           }
          ],
          "scatter3d": [
           {
            "line": {
             "colorbar": {
              "outlinewidth": 0,
              "ticks": ""
             }
            },
            "marker": {
             "colorbar": {
              "outlinewidth": 0,
              "ticks": ""
             }
            },
            "type": "scatter3d"
           }
          ],
          "scattercarpet": [
           {
            "marker": {
             "colorbar": {
              "outlinewidth": 0,
              "ticks": ""
             }
            },
            "type": "scattercarpet"
           }
          ],
          "scattergeo": [
           {
            "marker": {
             "colorbar": {
              "outlinewidth": 0,
              "ticks": ""
             }
            },
            "type": "scattergeo"
           }
          ],
          "scattergl": [
           {
            "marker": {
             "colorbar": {
              "outlinewidth": 0,
              "ticks": ""
             }
            },
            "type": "scattergl"
           }
          ],
          "scattermapbox": [
           {
            "marker": {
             "colorbar": {
              "outlinewidth": 0,
              "ticks": ""
             }
            },
            "type": "scattermapbox"
           }
          ],
          "scatterpolar": [
           {
            "marker": {
             "colorbar": {
              "outlinewidth": 0,
              "ticks": ""
             }
            },
            "type": "scatterpolar"
           }
          ],
          "scatterpolargl": [
           {
            "marker": {
             "colorbar": {
              "outlinewidth": 0,
              "ticks": ""
             }
            },
            "type": "scatterpolargl"
           }
          ],
          "scatterternary": [
           {
            "marker": {
             "colorbar": {
              "outlinewidth": 0,
              "ticks": ""
             }
            },
            "type": "scatterternary"
           }
          ],
          "surface": [
           {
            "colorbar": {
             "outlinewidth": 0,
             "ticks": ""
            },
            "colorscale": [
             [
              0,
              "#0d0887"
             ],
             [
              0.1111111111111111,
              "#46039f"
             ],
             [
              0.2222222222222222,
              "#7201a8"
             ],
             [
              0.3333333333333333,
              "#9c179e"
             ],
             [
              0.4444444444444444,
              "#bd3786"
             ],
             [
              0.5555555555555556,
              "#d8576b"
             ],
             [
              0.6666666666666666,
              "#ed7953"
             ],
             [
              0.7777777777777778,
              "#fb9f3a"
             ],
             [
              0.8888888888888888,
              "#fdca26"
             ],
             [
              1,
              "#f0f921"
             ]
            ],
            "type": "surface"
           }
          ],
          "table": [
           {
            "cells": {
             "fill": {
              "color": "#EBF0F8"
             },
             "line": {
              "color": "white"
             }
            },
            "header": {
             "fill": {
              "color": "#C8D4E3"
             },
             "line": {
              "color": "white"
             }
            },
            "type": "table"
           }
          ]
         },
         "layout": {
          "annotationdefaults": {
           "arrowcolor": "#2a3f5f",
           "arrowhead": 0,
           "arrowwidth": 1
          },
          "coloraxis": {
           "colorbar": {
            "outlinewidth": 0,
            "ticks": ""
           }
          },
          "colorscale": {
           "diverging": [
            [
             0,
             "#8e0152"
            ],
            [
             0.1,
             "#c51b7d"
            ],
            [
             0.2,
             "#de77ae"
            ],
            [
             0.3,
             "#f1b6da"
            ],
            [
             0.4,
             "#fde0ef"
            ],
            [
             0.5,
             "#f7f7f7"
            ],
            [
             0.6,
             "#e6f5d0"
            ],
            [
             0.7,
             "#b8e186"
            ],
            [
             0.8,
             "#7fbc41"
            ],
            [
             0.9,
             "#4d9221"
            ],
            [
             1,
             "#276419"
            ]
           ],
           "sequential": [
            [
             0,
             "#0d0887"
            ],
            [
             0.1111111111111111,
             "#46039f"
            ],
            [
             0.2222222222222222,
             "#7201a8"
            ],
            [
             0.3333333333333333,
             "#9c179e"
            ],
            [
             0.4444444444444444,
             "#bd3786"
            ],
            [
             0.5555555555555556,
             "#d8576b"
            ],
            [
             0.6666666666666666,
             "#ed7953"
            ],
            [
             0.7777777777777778,
             "#fb9f3a"
            ],
            [
             0.8888888888888888,
             "#fdca26"
            ],
            [
             1,
             "#f0f921"
            ]
           ],
           "sequentialminus": [
            [
             0,
             "#0d0887"
            ],
            [
             0.1111111111111111,
             "#46039f"
            ],
            [
             0.2222222222222222,
             "#7201a8"
            ],
            [
             0.3333333333333333,
             "#9c179e"
            ],
            [
             0.4444444444444444,
             "#bd3786"
            ],
            [
             0.5555555555555556,
             "#d8576b"
            ],
            [
             0.6666666666666666,
             "#ed7953"
            ],
            [
             0.7777777777777778,
             "#fb9f3a"
            ],
            [
             0.8888888888888888,
             "#fdca26"
            ],
            [
             1,
             "#f0f921"
            ]
           ]
          },
          "colorway": [
           "#636efa",
           "#EF553B",
           "#00cc96",
           "#ab63fa",
           "#FFA15A",
           "#19d3f3",
           "#FF6692",
           "#B6E880",
           "#FF97FF",
           "#FECB52"
          ],
          "font": {
           "color": "#2a3f5f"
          },
          "geo": {
           "bgcolor": "white",
           "lakecolor": "white",
           "landcolor": "#E5ECF6",
           "showlakes": true,
           "showland": true,
           "subunitcolor": "white"
          },
          "hoverlabel": {
           "align": "left"
          },
          "hovermode": "closest",
          "mapbox": {
           "style": "light"
          },
          "paper_bgcolor": "white",
          "plot_bgcolor": "#E5ECF6",
          "polar": {
           "angularaxis": {
            "gridcolor": "white",
            "linecolor": "white",
            "ticks": ""
           },
           "bgcolor": "#E5ECF6",
           "radialaxis": {
            "gridcolor": "white",
            "linecolor": "white",
            "ticks": ""
           }
          },
          "scene": {
           "xaxis": {
            "backgroundcolor": "#E5ECF6",
            "gridcolor": "white",
            "gridwidth": 2,
            "linecolor": "white",
            "showbackground": true,
            "ticks": "",
            "zerolinecolor": "white"
           },
           "yaxis": {
            "backgroundcolor": "#E5ECF6",
            "gridcolor": "white",
            "gridwidth": 2,
            "linecolor": "white",
            "showbackground": true,
            "ticks": "",
            "zerolinecolor": "white"
           },
           "zaxis": {
            "backgroundcolor": "#E5ECF6",
            "gridcolor": "white",
            "gridwidth": 2,
            "linecolor": "white",
            "showbackground": true,
            "ticks": "",
            "zerolinecolor": "white"
           }
          },
          "shapedefaults": {
           "line": {
            "color": "#2a3f5f"
           }
          },
          "ternary": {
           "aaxis": {
            "gridcolor": "white",
            "linecolor": "white",
            "ticks": ""
           },
           "baxis": {
            "gridcolor": "white",
            "linecolor": "white",
            "ticks": ""
           },
           "bgcolor": "#E5ECF6",
           "caxis": {
            "gridcolor": "white",
            "linecolor": "white",
            "ticks": ""
           }
          },
          "title": {
           "x": 0.05
          },
          "xaxis": {
           "automargin": true,
           "gridcolor": "white",
           "linecolor": "white",
           "ticks": "",
           "title": {
            "standoff": 15
           },
           "zerolinecolor": "white",
           "zerolinewidth": 2
          },
          "yaxis": {
           "automargin": true,
           "gridcolor": "white",
           "linecolor": "white",
           "ticks": "",
           "title": {
            "standoff": 15
           },
           "zerolinecolor": "white",
           "zerolinewidth": 2
          }
         }
        },
        "width": 1000,
        "xaxis": {
         "anchor": "y",
         "categoryarray": [
          "oil",
          "cement",
          "steel",
          "airports",
          "beverages",
          "media",
          "pharmaceuticals"
         ],
         "categoryorder": "array",
         "domain": [
          0,
          1
         ],
         "title": {
          "text": "Company_Sector"
         }
        },
        "yaxis": {
         "anchor": "x",
         "domain": [
          0,
          1
         ],
         "title": {
          "text": "Count of Billionares"
         }
        }
       }
      },
      "text/html": [
       "<div>\n",
       "        \n",
       "        \n",
       "            <div id=\"8323a1f2-9f47-461c-a9f8-e0d32a5f96d8\" class=\"plotly-graph-div\" style=\"height:600px; width:1000px;\"></div>\n",
       "            <script type=\"text/javascript\">\n",
       "                require([\"plotly\"], function(Plotly) {\n",
       "                    window.PLOTLYENV=window.PLOTLYENV || {};\n",
       "                    \n",
       "                if (document.getElementById(\"8323a1f2-9f47-461c-a9f8-e0d32a5f96d8\")) {\n",
       "                    Plotly.newPlot(\n",
       "                        '8323a1f2-9f47-461c-a9f8-e0d32a5f96d8',\n",
       "                        [{\"alignmentgroup\": \"True\", \"customdata\": [[\"Argentina\"]], \"hovertemplate\": \"Company_Sector=%{x}<br>Count of Billionares=%{y}<br>Location_Citizenship=%{customdata[0]}<extra></extra>\", \"legendgroup\": \"oil\", \"marker\": {\"color\": \"#636efa\"}, \"name\": \"oil\", \"offsetgroup\": \"oil\", \"orientation\": \"v\", \"showlegend\": true, \"textposition\": \"auto\", \"type\": \"bar\", \"x\": [\"oil\"], \"xaxis\": \"x\", \"y\": [4], \"yaxis\": \"y\"}, {\"alignmentgroup\": \"True\", \"customdata\": [[\"Argentina\"]], \"hovertemplate\": \"Company_Sector=%{x}<br>Count of Billionares=%{y}<br>Location_Citizenship=%{customdata[0]}<extra></extra>\", \"legendgroup\": \"cement\", \"marker\": {\"color\": \"#EF553B\"}, \"name\": \"cement\", \"offsetgroup\": \"cement\", \"orientation\": \"v\", \"showlegend\": true, \"textposition\": \"auto\", \"type\": \"bar\", \"x\": [\"cement\"], \"xaxis\": \"x\", \"y\": [2], \"yaxis\": \"y\"}, {\"alignmentgroup\": \"True\", \"customdata\": [[\"Argentina\"]], \"hovertemplate\": \"Company_Sector=%{x}<br>Count of Billionares=%{y}<br>Location_Citizenship=%{customdata[0]}<extra></extra>\", \"legendgroup\": \"steel\", \"marker\": {\"color\": \"#00cc96\"}, \"name\": \"steel\", \"offsetgroup\": \"steel\", \"orientation\": \"v\", \"showlegend\": true, \"textposition\": \"auto\", \"type\": \"bar\", \"x\": [\"steel\"], \"xaxis\": \"x\", \"y\": [2], \"yaxis\": \"y\"}, {\"alignmentgroup\": \"True\", \"customdata\": [[\"Argentina\"]], \"hovertemplate\": \"Company_Sector=%{x}<br>Count of Billionares=%{y}<br>Location_Citizenship=%{customdata[0]}<extra></extra>\", \"legendgroup\": \"airports\", \"marker\": {\"color\": \"#ab63fa\"}, \"name\": \"airports\", \"offsetgroup\": \"airports\", \"orientation\": \"v\", \"showlegend\": true, \"textposition\": \"auto\", \"type\": \"bar\", \"x\": [\"airports\"], \"xaxis\": \"x\", \"y\": [1], \"yaxis\": \"y\"}, {\"alignmentgroup\": \"True\", \"customdata\": [[\"Argentina\"]], \"hovertemplate\": \"Company_Sector=%{x}<br>Count of Billionares=%{y}<br>Location_Citizenship=%{customdata[0]}<extra></extra>\", \"legendgroup\": \"beverages\", \"marker\": {\"color\": \"#FFA15A\"}, \"name\": \"beverages\", \"offsetgroup\": \"beverages\", \"orientation\": \"v\", \"showlegend\": true, \"textposition\": \"auto\", \"type\": \"bar\", \"x\": [\"beverages\"], \"xaxis\": \"x\", \"y\": [1], \"yaxis\": \"y\"}, {\"alignmentgroup\": \"True\", \"customdata\": [[\"Argentina\"]], \"hovertemplate\": \"Company_Sector=%{x}<br>Count of Billionares=%{y}<br>Location_Citizenship=%{customdata[0]}<extra></extra>\", \"legendgroup\": \"media\", \"marker\": {\"color\": \"#19d3f3\"}, \"name\": \"media\", \"offsetgroup\": \"media\", \"orientation\": \"v\", \"showlegend\": true, \"textposition\": \"auto\", \"type\": \"bar\", \"x\": [\"media\"], \"xaxis\": \"x\", \"y\": [1], \"yaxis\": \"y\"}, {\"alignmentgroup\": \"True\", \"customdata\": [[\"Argentina\"]], \"hovertemplate\": \"Company_Sector=%{x}<br>Count of Billionares=%{y}<br>Location_Citizenship=%{customdata[0]}<extra></extra>\", \"legendgroup\": \"pharmaceuticals\", \"marker\": {\"color\": \"#FF6692\"}, \"name\": \"pharmaceuticals\", \"offsetgroup\": \"pharmaceuticals\", \"orientation\": \"v\", \"showlegend\": true, \"textposition\": \"auto\", \"type\": \"bar\", \"x\": [\"pharmaceuticals\"], \"xaxis\": \"x\", \"y\": [1], \"yaxis\": \"y\"}],\n",
       "                        {\"barmode\": \"relative\", \"height\": 600, \"legend\": {\"title\": {\"text\": \"Company_Sector\"}, \"tracegroupgap\": 0}, \"margin\": {\"t\": 60}, \"template\": {\"data\": {\"bar\": [{\"error_x\": {\"color\": \"#2a3f5f\"}, \"error_y\": {\"color\": \"#2a3f5f\"}, \"marker\": {\"line\": {\"color\": \"#E5ECF6\", \"width\": 0.5}}, \"type\": \"bar\"}], \"barpolar\": [{\"marker\": {\"line\": {\"color\": \"#E5ECF6\", \"width\": 0.5}}, \"type\": \"barpolar\"}], \"carpet\": [{\"aaxis\": {\"endlinecolor\": \"#2a3f5f\", \"gridcolor\": \"white\", \"linecolor\": \"white\", \"minorgridcolor\": \"white\", \"startlinecolor\": \"#2a3f5f\"}, \"baxis\": {\"endlinecolor\": \"#2a3f5f\", \"gridcolor\": \"white\", \"linecolor\": \"white\", \"minorgridcolor\": \"white\", \"startlinecolor\": \"#2a3f5f\"}, \"type\": \"carpet\"}], \"choropleth\": [{\"colorbar\": {\"outlinewidth\": 0, \"ticks\": \"\"}, \"type\": \"choropleth\"}], \"contour\": [{\"colorbar\": {\"outlinewidth\": 0, \"ticks\": \"\"}, \"colorscale\": [[0.0, \"#0d0887\"], [0.1111111111111111, \"#46039f\"], [0.2222222222222222, \"#7201a8\"], [0.3333333333333333, \"#9c179e\"], [0.4444444444444444, \"#bd3786\"], [0.5555555555555556, \"#d8576b\"], [0.6666666666666666, \"#ed7953\"], [0.7777777777777778, \"#fb9f3a\"], [0.8888888888888888, \"#fdca26\"], [1.0, \"#f0f921\"]], \"type\": \"contour\"}], \"contourcarpet\": [{\"colorbar\": {\"outlinewidth\": 0, \"ticks\": \"\"}, \"type\": \"contourcarpet\"}], \"heatmap\": [{\"colorbar\": {\"outlinewidth\": 0, \"ticks\": \"\"}, \"colorscale\": [[0.0, \"#0d0887\"], [0.1111111111111111, \"#46039f\"], [0.2222222222222222, \"#7201a8\"], [0.3333333333333333, \"#9c179e\"], [0.4444444444444444, \"#bd3786\"], [0.5555555555555556, \"#d8576b\"], [0.6666666666666666, \"#ed7953\"], [0.7777777777777778, \"#fb9f3a\"], [0.8888888888888888, \"#fdca26\"], [1.0, \"#f0f921\"]], \"type\": \"heatmap\"}], \"heatmapgl\": [{\"colorbar\": {\"outlinewidth\": 0, \"ticks\": \"\"}, \"colorscale\": [[0.0, \"#0d0887\"], [0.1111111111111111, \"#46039f\"], [0.2222222222222222, \"#7201a8\"], [0.3333333333333333, \"#9c179e\"], [0.4444444444444444, \"#bd3786\"], [0.5555555555555556, \"#d8576b\"], [0.6666666666666666, \"#ed7953\"], [0.7777777777777778, \"#fb9f3a\"], [0.8888888888888888, \"#fdca26\"], [1.0, \"#f0f921\"]], \"type\": \"heatmapgl\"}], \"histogram\": [{\"marker\": {\"colorbar\": {\"outlinewidth\": 0, \"ticks\": \"\"}}, \"type\": \"histogram\"}], \"histogram2d\": [{\"colorbar\": {\"outlinewidth\": 0, \"ticks\": \"\"}, \"colorscale\": [[0.0, \"#0d0887\"], [0.1111111111111111, \"#46039f\"], [0.2222222222222222, \"#7201a8\"], [0.3333333333333333, \"#9c179e\"], [0.4444444444444444, \"#bd3786\"], [0.5555555555555556, \"#d8576b\"], [0.6666666666666666, \"#ed7953\"], [0.7777777777777778, \"#fb9f3a\"], [0.8888888888888888, \"#fdca26\"], [1.0, \"#f0f921\"]], \"type\": \"histogram2d\"}], \"histogram2dcontour\": [{\"colorbar\": {\"outlinewidth\": 0, \"ticks\": \"\"}, \"colorscale\": [[0.0, \"#0d0887\"], [0.1111111111111111, \"#46039f\"], [0.2222222222222222, \"#7201a8\"], [0.3333333333333333, \"#9c179e\"], [0.4444444444444444, \"#bd3786\"], [0.5555555555555556, \"#d8576b\"], [0.6666666666666666, \"#ed7953\"], [0.7777777777777778, \"#fb9f3a\"], [0.8888888888888888, \"#fdca26\"], [1.0, \"#f0f921\"]], \"type\": \"histogram2dcontour\"}], \"mesh3d\": [{\"colorbar\": {\"outlinewidth\": 0, \"ticks\": \"\"}, \"type\": \"mesh3d\"}], \"parcoords\": [{\"line\": {\"colorbar\": {\"outlinewidth\": 0, \"ticks\": \"\"}}, \"type\": \"parcoords\"}], \"pie\": [{\"automargin\": true, \"type\": \"pie\"}], \"scatter\": [{\"marker\": {\"colorbar\": {\"outlinewidth\": 0, \"ticks\": \"\"}}, \"type\": \"scatter\"}], \"scatter3d\": [{\"line\": {\"colorbar\": {\"outlinewidth\": 0, \"ticks\": \"\"}}, \"marker\": {\"colorbar\": {\"outlinewidth\": 0, \"ticks\": \"\"}}, \"type\": \"scatter3d\"}], \"scattercarpet\": [{\"marker\": {\"colorbar\": {\"outlinewidth\": 0, \"ticks\": \"\"}}, \"type\": \"scattercarpet\"}], \"scattergeo\": [{\"marker\": {\"colorbar\": {\"outlinewidth\": 0, \"ticks\": \"\"}}, \"type\": \"scattergeo\"}], \"scattergl\": [{\"marker\": {\"colorbar\": {\"outlinewidth\": 0, \"ticks\": \"\"}}, \"type\": \"scattergl\"}], \"scattermapbox\": [{\"marker\": {\"colorbar\": {\"outlinewidth\": 0, \"ticks\": \"\"}}, \"type\": \"scattermapbox\"}], \"scatterpolar\": [{\"marker\": {\"colorbar\": {\"outlinewidth\": 0, \"ticks\": \"\"}}, \"type\": \"scatterpolar\"}], \"scatterpolargl\": [{\"marker\": {\"colorbar\": {\"outlinewidth\": 0, \"ticks\": \"\"}}, \"type\": \"scatterpolargl\"}], \"scatterternary\": [{\"marker\": {\"colorbar\": {\"outlinewidth\": 0, \"ticks\": \"\"}}, \"type\": \"scatterternary\"}], \"surface\": [{\"colorbar\": {\"outlinewidth\": 0, \"ticks\": \"\"}, \"colorscale\": [[0.0, \"#0d0887\"], [0.1111111111111111, \"#46039f\"], [0.2222222222222222, \"#7201a8\"], [0.3333333333333333, \"#9c179e\"], [0.4444444444444444, \"#bd3786\"], [0.5555555555555556, \"#d8576b\"], [0.6666666666666666, \"#ed7953\"], [0.7777777777777778, \"#fb9f3a\"], [0.8888888888888888, \"#fdca26\"], [1.0, \"#f0f921\"]], \"type\": \"surface\"}], \"table\": [{\"cells\": {\"fill\": {\"color\": \"#EBF0F8\"}, \"line\": {\"color\": \"white\"}}, \"header\": {\"fill\": {\"color\": \"#C8D4E3\"}, \"line\": {\"color\": \"white\"}}, \"type\": \"table\"}]}, \"layout\": {\"annotationdefaults\": {\"arrowcolor\": \"#2a3f5f\", \"arrowhead\": 0, \"arrowwidth\": 1}, \"coloraxis\": {\"colorbar\": {\"outlinewidth\": 0, \"ticks\": \"\"}}, \"colorscale\": {\"diverging\": [[0, \"#8e0152\"], [0.1, \"#c51b7d\"], [0.2, \"#de77ae\"], [0.3, \"#f1b6da\"], [0.4, \"#fde0ef\"], [0.5, \"#f7f7f7\"], [0.6, \"#e6f5d0\"], [0.7, \"#b8e186\"], [0.8, \"#7fbc41\"], [0.9, \"#4d9221\"], [1, \"#276419\"]], \"sequential\": [[0.0, \"#0d0887\"], [0.1111111111111111, \"#46039f\"], [0.2222222222222222, \"#7201a8\"], [0.3333333333333333, \"#9c179e\"], [0.4444444444444444, \"#bd3786\"], [0.5555555555555556, \"#d8576b\"], [0.6666666666666666, \"#ed7953\"], [0.7777777777777778, \"#fb9f3a\"], [0.8888888888888888, \"#fdca26\"], [1.0, \"#f0f921\"]], \"sequentialminus\": [[0.0, \"#0d0887\"], [0.1111111111111111, \"#46039f\"], [0.2222222222222222, \"#7201a8\"], [0.3333333333333333, \"#9c179e\"], [0.4444444444444444, \"#bd3786\"], [0.5555555555555556, \"#d8576b\"], [0.6666666666666666, \"#ed7953\"], [0.7777777777777778, \"#fb9f3a\"], [0.8888888888888888, \"#fdca26\"], [1.0, \"#f0f921\"]]}, \"colorway\": [\"#636efa\", \"#EF553B\", \"#00cc96\", \"#ab63fa\", \"#FFA15A\", \"#19d3f3\", \"#FF6692\", \"#B6E880\", \"#FF97FF\", \"#FECB52\"], \"font\": {\"color\": \"#2a3f5f\"}, \"geo\": {\"bgcolor\": \"white\", \"lakecolor\": \"white\", \"landcolor\": \"#E5ECF6\", \"showlakes\": true, \"showland\": true, \"subunitcolor\": \"white\"}, \"hoverlabel\": {\"align\": \"left\"}, \"hovermode\": \"closest\", \"mapbox\": {\"style\": \"light\"}, \"paper_bgcolor\": \"white\", \"plot_bgcolor\": \"#E5ECF6\", \"polar\": {\"angularaxis\": {\"gridcolor\": \"white\", \"linecolor\": \"white\", \"ticks\": \"\"}, \"bgcolor\": \"#E5ECF6\", \"radialaxis\": {\"gridcolor\": \"white\", \"linecolor\": \"white\", \"ticks\": \"\"}}, \"scene\": {\"xaxis\": {\"backgroundcolor\": \"#E5ECF6\", \"gridcolor\": \"white\", \"gridwidth\": 2, \"linecolor\": \"white\", \"showbackground\": true, \"ticks\": \"\", \"zerolinecolor\": \"white\"}, \"yaxis\": {\"backgroundcolor\": \"#E5ECF6\", \"gridcolor\": \"white\", \"gridwidth\": 2, \"linecolor\": \"white\", \"showbackground\": true, \"ticks\": \"\", \"zerolinecolor\": \"white\"}, \"zaxis\": {\"backgroundcolor\": \"#E5ECF6\", \"gridcolor\": \"white\", \"gridwidth\": 2, \"linecolor\": \"white\", \"showbackground\": true, \"ticks\": \"\", \"zerolinecolor\": \"white\"}}, \"shapedefaults\": {\"line\": {\"color\": \"#2a3f5f\"}}, \"ternary\": {\"aaxis\": {\"gridcolor\": \"white\", \"linecolor\": \"white\", \"ticks\": \"\"}, \"baxis\": {\"gridcolor\": \"white\", \"linecolor\": \"white\", \"ticks\": \"\"}, \"bgcolor\": \"#E5ECF6\", \"caxis\": {\"gridcolor\": \"white\", \"linecolor\": \"white\", \"ticks\": \"\"}}, \"title\": {\"x\": 0.05}, \"xaxis\": {\"automargin\": true, \"gridcolor\": \"white\", \"linecolor\": \"white\", \"ticks\": \"\", \"title\": {\"standoff\": 15}, \"zerolinecolor\": \"white\", \"zerolinewidth\": 2}, \"yaxis\": {\"automargin\": true, \"gridcolor\": \"white\", \"linecolor\": \"white\", \"ticks\": \"\", \"title\": {\"standoff\": 15}, \"zerolinecolor\": \"white\", \"zerolinewidth\": 2}}}, \"width\": 1000, \"xaxis\": {\"anchor\": \"y\", \"categoryarray\": [\"oil\", \"cement\", \"steel\", \"airports\", \"beverages\", \"media\", \"pharmaceuticals\"], \"categoryorder\": \"array\", \"domain\": [0.0, 1.0], \"title\": {\"text\": \"Company_Sector\"}}, \"yaxis\": {\"anchor\": \"x\", \"domain\": [0.0, 1.0], \"title\": {\"text\": \"Count of Billionares\"}}},\n",
       "                        {\"responsive\": true}\n",
       "                    ).then(function(){\n",
       "                            \n",
       "var gd = document.getElementById('8323a1f2-9f47-461c-a9f8-e0d32a5f96d8');\n",
       "var x = new MutationObserver(function (mutations, observer) {{\n",
       "        var display = window.getComputedStyle(gd).display;\n",
       "        if (!display || display === 'none') {{\n",
       "            console.log([gd, 'removed!']);\n",
       "            Plotly.purge(gd);\n",
       "            observer.disconnect();\n",
       "        }}\n",
       "}});\n",
       "\n",
       "// Listen for the removal of the full notebook cells\n",
       "var notebookContainer = gd.closest('#notebook-container');\n",
       "if (notebookContainer) {{\n",
       "    x.observe(notebookContainer, {childList: true});\n",
       "}}\n",
       "\n",
       "// Listen for the clearing of the current output cell\n",
       "var outputEl = gd.closest('.output');\n",
       "if (outputEl) {{\n",
       "    x.observe(outputEl, {childList: true});\n",
       "}}\n",
       "\n",
       "                        })\n",
       "                };\n",
       "                });\n",
       "            </script>\n",
       "        </div>"
      ]
     },
     "metadata": {},
     "output_type": "display_data"
    },
    {
     "data": {
      "text/plain": [
       "<Figure size 1080x504 with 0 Axes>"
      ]
     },
     "metadata": {},
     "output_type": "display_data"
    }
   ],
   "source": [
    "sector_graph(\"Argentina\")"
   ]
  },
  {
   "cell_type": "markdown",
   "metadata": {},
   "source": [
    "Now let us define the index value for interactivity."
   ]
  },
  {
   "cell_type": "code",
   "execution_count": 48,
   "metadata": {},
   "outputs": [
    {
     "data": {
      "application/vnd.jupyter.widget-view+json": {
       "model_id": "9493b7f4d26f404d99f0b234671d46e3",
       "version_major": 2,
       "version_minor": 0
      },
      "text/plain": [
       "VBox(children=(FigureWidget({\n",
       "    'data': [{'autocolorscale': False,\n",
       "              'colorbar': {'title': {'tex…"
      ]
     },
     "metadata": {},
     "output_type": "display_data"
    }
   ],
   "source": [
    "from ipywidgets import VBox, HBox, Output\n",
    "\n",
    "\n",
    "for col in temp_df.columns:\n",
    "    temp_df[col] = temp_df[col].astype(str)\n",
    "\n",
    "temp_df['text'] = temp_df['Country'] + '<br>' + \\\n",
    "    'Total Wealth ' + temp_df[\"Total_wealth\"] + '<br>' + \\\n",
    "    'Age ' + temp_df[\"Mean_age\"]\n",
    "\n",
    "#Country=Bill_Country_Sector['Location_Citizenship'].tolist()\n",
    "\n",
    "text =temp_df['text'].tolist()\n",
    "\n",
    "f = go.FigureWidget(go.Choropleth(\n",
    "    locations=temp_df['Country_code'],\n",
    "    z=temp_df['Total_wealth'],\n",
    "    colorscale='Reds',\n",
    "    autocolorscale=False,\n",
    "    text=temp_df['text'], # hover text\n",
    "    marker_line_color='white', # line markers between states\n",
    "    colorbar_title=\"Billions USD\"\n",
    "))\n",
    "\n",
    "f.update_layout(\n",
    "    title_text='Total Wealth based on number of billionares in the specific Country',\n",
    "    geo = dict(\n",
    "        projection=go.layout.geo.Projection(type = 'natural earth'),\n",
    "        showlakes=True, # lakes\n",
    "        lakecolor='rgb(255, 255, 255)'),\n",
    ")\n",
    "\n",
    "\n",
    "trace=f.data[0]\n",
    "#colorscale=\"Blues\"\n",
    "trace.colorscale='teal'\n",
    "trace.hovertext=text\n",
    "#print(trace)\n",
    "out = Output()\n",
    "@out.capture(clear_output=True)\n",
    "def click_fn(trace, points, state):\n",
    "    print(points.point_inds[0])\n",
    "    #country=new_data.ix[x]['Country']\n",
    "    \n",
    "d=[]\n",
    "index_value=d\n",
    "trace.on_click(click_fn)\n",
    "\n",
    "# def select_country(value):\n",
    "#     for i in value:\n",
    "#         country=new_data.ix[i]['Country']\n",
    "#         print(country)\n",
    "#         fig=line_graph(country)\n",
    "#         return fig\n",
    "    \n",
    "# f2=select_country(country_index)\n",
    "\n",
    "VBox([f, out])"
   ]
  },
  {
   "cell_type": "code",
   "execution_count": 49,
   "metadata": {},
   "outputs": [],
   "source": [
    "def select_index(value):\n",
    "    for i in value:\n",
    "        country=temp_df.ix[i]['Country']\n",
    "        print(\"COIVD-19 data of \"+country)\n",
    "        sector_graph(country)\n",
    "    \n",
    "select_index(index_value)"
   ]
  },
  {
   "cell_type": "code",
   "execution_count": 50,
   "metadata": {},
   "outputs": [
    {
     "data": {
      "application/vnd.jupyter.widget-view+json": {
       "model_id": "d4e7e400567c43748cd95bd3f4d9ba6e",
       "version_major": 2,
       "version_minor": 0
      },
      "text/plain": [
       "VBox(children=(FigureWidget({\n",
       "    'data': [{'autocolorscale': False,\n",
       "              'colorbar': {'title': {'tex…"
      ]
     },
     "metadata": {},
     "output_type": "display_data"
    }
   ],
   "source": [
    "from ipywidgets import VBox, HBox, Output\n",
    "\n",
    "\n",
    "for col in temp_df.columns:\n",
    "    temp_df[col] = temp_df[col].astype(str)\n",
    "\n",
    "temp_df['text'] = temp_df['Country'] + '<br>' + \\\n",
    "    'Total Wealth ' + temp_df[\"Total_wealth\"] + '<br>' + \\\n",
    "    'Age ' + temp_df[\"Mean_age\"]\n",
    "\n",
    "#Country=Bill_Country_Sector['Location_Citizenship'].tolist()\n",
    "\n",
    "text =temp_df['text'].tolist()\n",
    "\n",
    "f = go.FigureWidget(go.Choropleth(\n",
    "    locations=temp_df['Country_code'],\n",
    "    z=temp_df['Total_wealth'],\n",
    "    colorscale='Teal',\n",
    "    autocolorscale=False,\n",
    "    text=temp_df['text'], \n",
    "    marker_line_color='black', \n",
    "    colorbar_title=\"Billions USD\"\n",
    "))\n",
    "\n",
    "f.update_layout(\n",
    "    title_text='Total Wealth based on number of billionares in the specific Country',\n",
    "    geo = dict(\n",
    "        projection=go.layout.geo.Projection(type = 'natural earth'),\n",
    "        showlakes=True, # lakes\n",
    "        lakecolor='rgb(255, 255, 255)'),\n",
    ")\n",
    "\n",
    "\n",
    "trace=f.data[0]\n",
    "#colorscale=\"Blues\"\n",
    "trace.colorscale='teal'\n",
    "trace.hovertext=text\n",
    "#print(trace)\n",
    "out = Output()\n",
    "@out.capture(clear_output=True)\n",
    "\n",
    "\n",
    "def click_fn(trace, points, state):\n",
    "    country=temp_df.ix[points.point_inds[0]]['Country']\n",
    "    \n",
    "    fig=go.FigureWidget(sector_graph(country))\n",
    "    #data = Bill_Country_Sector[Bill_Country_Sector['Location_Citizenship']==country]\n",
    "\n",
    "    \n",
    "    \n",
    "trace.on_click(click_fn)\n",
    "\n",
    "VBox([f, out])"
   ]
  },
  {
   "cell_type": "code",
   "execution_count": null,
   "metadata": {},
   "outputs": [],
   "source": []
  }
 ],
 "metadata": {
  "kernelspec": {
   "display_name": "Python 3",
   "language": "python",
   "name": "python3"
  },
  "language_info": {
   "codemirror_mode": {
    "name": "ipython",
    "version": 3
   },
   "file_extension": ".py",
   "mimetype": "text/x-python",
   "name": "python",
   "nbconvert_exporter": "python",
   "pygments_lexer": "ipython3",
   "version": "3.7.1"
  }
 },
 "nbformat": 4,
 "nbformat_minor": 4
}
